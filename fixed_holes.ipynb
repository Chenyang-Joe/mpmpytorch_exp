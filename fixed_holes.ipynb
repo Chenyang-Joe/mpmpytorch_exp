{
 "cells": [
  {
   "cell_type": "code",
   "execution_count": 7,
   "id": "a390ca4c-c002-4e3f-89f5-028ac5ed05ef",
   "metadata": {},
   "outputs": [
    {
     "name": "stdout",
     "output_type": "stream",
     "text": [
      "Before repair: watertight = False, Euler number = -2\n",
      "After repair: watertight = False, Euler number = -2\n",
      "Mesh with holes filled saved to: models/bunny_filled.obj\n"
     ]
    }
   ],
   "source": [
    "import trimesh\n",
    "\n",
    "def fill_mesh_holes(obj_path, output_path=None):\n",
    "    # Load the mesh\n",
    "    mesh = trimesh.load_mesh(obj_path, process=True)\n",
    "\n",
    "    if not isinstance(mesh, trimesh.Trimesh):\n",
    "        raise TypeError(\"Loaded object is not a Trimesh mesh.\")\n",
    "\n",
    "    print(f\"Before repair: watertight = {mesh.is_watertight}, Euler number = {mesh.euler_number}\")\n",
    "\n",
    "    # Fill holes (modifies mesh in-place)\n",
    "    trimesh.repair.fill_holes(mesh)\n",
    "\n",
    "    print(f\"After repair: watertight = {mesh.is_watertight}, Euler number = {mesh.euler_number}\")\n",
    "\n",
    "    # Save the fixed mesh if requested\n",
    "    if output_path:\n",
    "        mesh.export(output_path)\n",
    "        print(f\"Mesh with holes filled saved to: {output_path}\")\n",
    "\n",
    "    return mesh\n",
    "\n",
    "# Example usage\n",
    "if __name__ == \"__main__\":\n",
    "    input_file = \"models/bunny.obj\"             # Replace with your file\n",
    "    output_file = \"models/bunny_filled.obj\"     # Optional: path to save fixed mesh\n",
    "\n",
    "    filled_mesh = fill_mesh_holes(input_file, output_file)\n"
   ]
  },
  {
   "cell_type": "code",
   "execution_count": 6,
   "id": "c56addbf-71dc-4ca6-b4ed-c99a28b74f80",
   "metadata": {},
   "outputs": [
    {
     "name": "stdout",
     "output_type": "stream",
     "text": [
      "The mesh has 4 hole(s).\n"
     ]
    }
   ],
   "source": [
    "\n",
    "obj_file_path = \"models/bunny.obj\"  # Change path to your .obj file\n",
    "holes = count_mesh_holes(obj_file_path)\n",
    "print(f\"The mesh has {holes} hole(s).\")\n"
   ]
  },
  {
   "cell_type": "code",
   "execution_count": null,
   "id": "cee9ed76-25c4-47cd-87c7-d4d4083fe255",
   "metadata": {},
   "outputs": [],
   "source": []
  }
 ],
 "metadata": {
  "kernelspec": {
   "display_name": "Python 3 (ipykernel)",
   "language": "python",
   "name": "python3"
  },
  "language_info": {
   "codemirror_mode": {
    "name": "ipython",
    "version": 3
   },
   "file_extension": ".py",
   "mimetype": "text/x-python",
   "name": "python",
   "nbconvert_exporter": "python",
   "pygments_lexer": "ipython3",
   "version": "3.9.21"
  }
 },
 "nbformat": 4,
 "nbformat_minor": 5
}
