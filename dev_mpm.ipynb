{
 "cells": [
  {
   "cell_type": "code",
   "execution_count": 1,
   "id": "40276e22-5df6-4d13-ab35-98716bd53cf9",
   "metadata": {},
   "outputs": [
    {
     "name": "stdout",
     "output_type": "stream",
     "text": [
      "hello\n"
     ]
    }
   ],
   "source": [
    "print(\"hello\")"
   ]
  },
  {
   "cell_type": "code",
   "execution_count": 2,
   "id": "709b789d-e394-4495-a387-a5daeecd7c3b",
   "metadata": {},
   "outputs": [
    {
     "name": "stdout",
     "output_type": "stream",
     "text": [
      "Warp 0.6.1 initialized:\n",
      "   CUDA Toolkit: 11.5, Driver: 12.2\n",
      "   Devices:\n",
      "     \"cpu\"    | x86_64\n",
      "     \"cuda:0\" | NVIDIA GeForce RTX 3090 (sm_86)\n",
      "     \"cuda:1\" | NVIDIA GeForce RTX 3090 (sm_86)\n",
      "   Kernel cache: /home/cx2219/.cache/warp/0.6.1\n",
      "Jupyter environment detected. Enabling Open3D WebVisualizer.\n",
      "[Open3D INFO] WebRTC GUI backend enabled.\n",
      "[Open3D INFO] WebRTCWindowSystem: HTTP handshake server disabled.\n"
     ]
    }
   ],
   "source": [
    "import os\n",
    "import trimesh\n",
    "import meshplot as mp\n",
    "import numpy as np\n",
    "import torch\n",
    "from torch import Tensor\n",
    "from typing import *\n",
    "from mpm_pytorch import MPMSolver, set_boundary_conditions, get_constitutive\n",
    "from tqdm.notebook import tqdm  \n",
    "from functools import partial\n",
    "\n",
    "import matplotlib.pyplot as plt\n",
    "from matplotlib.animation import FuncAnimation\n",
    "\n",
    "from scipy import ndimage\n",
    "from scipy.ndimage import gaussian_filter\n",
    "from skimage import measure\n",
    "import open3d as o3d\n",
    "import gc\n",
    "\n"
   ]
  },
  {
   "cell_type": "code",
   "execution_count": 3,
   "id": "cac39e66-ca63-4b9f-8c1d-7b23918fca55",
   "metadata": {},
   "outputs": [],
   "source": [
    "def tensor_size_in_MB(tensor):\n",
    "    return tensor.element_size() * tensor.nelement() / 1e6  # in MB\n",
    "\n",
    "def list_gpu_tensors():\n",
    "    all_tensors = []\n",
    "    total_tensor_mem = 0.0\n",
    "\n",
    "    for obj in gc.get_objects():\n",
    "        try:\n",
    "            if torch.is_tensor(obj) or (hasattr(obj, 'data') and torch.is_tensor(obj.data)):\n",
    "                if obj.is_cuda:\n",
    "                    size_mb = tensor_size_in_MB(obj)\n",
    "                    total_tensor_mem += size_mb\n",
    "                    all_tensors.append((size_mb, obj.shape, type(obj), obj.device))\n",
    "        except Exception:\n",
    "            pass  # ignore inaccessible objects\n",
    "\n",
    "    # Sort by size\n",
    "    all_tensors.sort(reverse=True, key=lambda x: x[0])\n",
    "\n",
    "    print(f\"{'Size (MB)':>10} | {'Shape':>20} | {'Type':>30} | {'Device':>10}\")\n",
    "    print(\"-\" * 80)\n",
    "    for size_mb, shape, typ, device in all_tensors:\n",
    "        print(f\"{size_mb:10.2f} | {str(shape):>20} | {str(typ):>30} | {str(device):>10}\")\n",
    "\n",
    "    print(\"\\n\")\n",
    "    print(f\"🧠 Total memory of live tensors: {total_tensor_mem:.2f} MB\")\n",
    "    print(f\"📦 torch.cuda.memory_allocated(): {torch.cuda.memory_allocated() / 1e6:.2f} MB\")\n",
    "    print(f\"🔒 torch.cuda.memory_reserved():  {torch.cuda.memory_reserved() / 1e6:.2f} MB\")"
   ]
  },
  {
   "cell_type": "code",
   "execution_count": 4,
   "id": "1919684c-0585-49bb-86d0-ba24836ebf83",
   "metadata": {},
   "outputs": [],
   "source": [
    "def visualize_frames(\n",
    "    frames: List[np.ndarray], \n",
    "    export_path: str, \n",
    "    center: List[float] = [0.5, 0.5, 0.5],\n",
    "    size: List[float] = [2.0, 2.0, 2.0],\n",
    "    c: str = 'blue',\n",
    "    s: float = 20,\n",
    "    fps: int = 30,\n",
    "    sample_rate: int = 1\n",
    "): \n",
    "    xlim = [center[0] - size[0] / 2, center[0] + size[0] / 2]\n",
    "    ylim = [center[1] - size[1] / 2, center[1] + size[1] / 2]\n",
    "    zlim = [center[2] - size[2] / 2, center[2] + size[2] / 2]\n",
    "    fig = plt.figure()\n",
    "    ax = fig.add_subplot(111, projection='3d')\n",
    "    scat = ax.scatter([], [], [], s=s)\n",
    "    ax.set_xlim(xlim)\n",
    "    ax.set_ylim(ylim)\n",
    "    ax.set_zlim(zlim)\n",
    "    def update(frame):\n",
    "        print(f\"updating the {frame}/{len(frames)} frame\")\n",
    "        ax.cla()\n",
    "        ax.set_xlim(xlim)\n",
    "        ax.set_ylim(ylim)\n",
    "        ax.set_zlim(zlim)\n",
    "        scat = ax.scatter(frames[frame][:, 0], frames[frame][:, 1], frames[frame][:, 2], s=s, c=c)\n",
    "        ax.set_title(f'Frame {frame * sample_rate}')\n",
    "        return scat\n",
    "    ani = FuncAnimation(fig, update, frames=len(frames), blit=False)\n",
    "    ani.save(export_path, writer='pillow', fps=fps)\n",
    "    plt.close()"
   ]
  },
  {
   "cell_type": "code",
   "execution_count": 5,
   "id": "b2153ae0-878b-40a0-af91-fb7614b33661",
   "metadata": {},
   "outputs": [],
   "source": [
    "# parameters\n",
    "grid_res = 300\n",
    "\n",
    "output_dir =  \"./output\"\n",
    "tag = \"jupytertest\"\n",
    "\n",
    "elasticity_type = 'CorotatedElasticity'\n",
    "plasticity_type = 'DruckerPragerPlasticity'\n",
    "color = 'blue'\n",
    "\n",
    "model_path = f\"models/cranium_example_ds_{grid_res}.obj\"\n",
    "scale_factor = 0.6\n",
    "\n",
    "num_frames = 50\n",
    "steps_per_frame = 10\n",
    "initial_velocity = [0.0, 0.0, 0.0]\n",
    "boundary_conditions = [{\"type\": 'sdf_collider_test',\n",
    "      \"start_time\": 0.0,\n",
    "      \"end_time\": 1e3}]\n",
    "\n",
    "sample_rate = 10\n",
    "obj_name = model_path.split(\"/\")[-1].split(\".\")[0] + \"_\" + tag\n",
    "export_path = os.path.join(output_dir, obj_name + \"_deformation.gif\")"
   ]
  },
  {
   "cell_type": "markdown",
   "id": "ad0110a9-895c-40ca-b08d-8b9c35ac0a60",
   "metadata": {},
   "source": [
    "# Import Point Cloud"
   ]
  },
  {
   "cell_type": "code",
   "execution_count": 6,
   "id": "8ba6f32b-bc82-4270-953f-b48bde7d1688",
   "metadata": {},
   "outputs": [
    {
     "data": {
      "application/vnd.jupyter.widget-view+json": {
       "model_id": "e7652c83b5bc4ba8889d5c6e827ae2ab",
       "version_major": 2,
       "version_minor": 0
      },
      "text/plain": [
       "Renderer(camera=PerspectiveCamera(children=(DirectionalLight(color='white', intensity=0.6, position=(0.3093645…"
      ]
     },
     "metadata": {},
     "output_type": "display_data"
    },
    {
     "data": {
      "text/plain": [
       "<meshplot.Viewer.Viewer at 0x7fbebb4562b0>"
      ]
     },
     "execution_count": 6,
     "metadata": {},
     "output_type": "execute_result"
    }
   ],
   "source": [
    "mesh = trimesh.load(model_path)\n",
    "\n",
    "v = np.asarray(mesh.vertices)\n",
    "\n",
    "#     set_boundary_conditions(mpm_solver, sim_params.boundary_conditions)\n",
    "\n",
    "# mesh.vertices = o3d.utility.Vector3dVector(v)\n",
    "# v = np.asarray(mesh.vertices)\n",
    "\n",
    "# Step 3: Visualize using meshplot\n",
    "mp.plot(v, shading={\"wireframe\": False})\n"
   ]
  },
  {
   "cell_type": "markdown",
   "id": "e9d2002f-876e-465e-b668-932e1290d3e1",
   "metadata": {},
   "source": [
    "# create particles"
   ]
  },
  {
   "cell_type": "code",
   "execution_count": 7,
   "id": "e9ef7df3-9958-4640-a22e-8da8a4743488",
   "metadata": {},
   "outputs": [],
   "source": [
    "def get_pc_from_v(\n",
    "    vertices: np.array,\n",
    "    scale: float,\n",
    "    center: List[float], \n",
    "    device: torch.device = torch.device(\"cuda\")\n",
    ") -> Tensor:\n",
    "    points = torch.tensor(vertices, dtype=torch.float32)\n",
    "\n",
    "    # Scale about center\n",
    "    center_tensor = torch.tensor(center, dtype=torch.float32)\n",
    "    points = (points - center_tensor) * scale + center_tensor\n",
    "\n",
    "    return points.to(device)"
   ]
  },
  {
   "cell_type": "code",
   "execution_count": 8,
   "id": "81dce260-0930-4cf8-8abb-6dba5d28a467",
   "metadata": {},
   "outputs": [],
   "source": [
    "device = torch.device(\"cuda:0\" if torch.cuda.is_available() else \"cpu\")\n",
    "particles = get_pc_from_v(\n",
    "    vertices = v,\n",
    "    device = device,\n",
    "    center=[0.5, 0.5, 0.5], \n",
    "    scale=scale_factor\n",
    ")\n",
    "n_particles = particles.shape[0]"
   ]
  },
  {
   "cell_type": "code",
   "execution_count": 9,
   "id": "0d36a6c7-a45a-436a-9f4d-ffc1e8f3e1c1",
   "metadata": {
    "scrolled": true
   },
   "outputs": [
    {
     "data": {
      "application/vnd.jupyter.widget-view+json": {
       "model_id": "df768c4afde244ccb1d2ccb7efebbfbd",
       "version_major": 2,
       "version_minor": 0
      },
      "text/plain": [
       "Renderer(camera=PerspectiveCamera(children=(DirectionalLight(color='white', intensity=0.6, position=(0.3856187…"
      ]
     },
     "metadata": {},
     "output_type": "display_data"
    },
    {
     "data": {
      "text/plain": [
       "<meshplot.Viewer.Viewer at 0x7fbea7d348e0>"
      ]
     },
     "execution_count": 9,
     "metadata": {},
     "output_type": "execute_result"
    }
   ],
   "source": [
    "particles_show = particles.clone()\n",
    "v = particles_show.cpu().numpy()\n",
    "mp.plot(v, shading={\"wireframe\": False})\n"
   ]
  },
  {
   "cell_type": "markdown",
   "id": "ae0912cb-d174-435c-8861-e97a788790ea",
   "metadata": {},
   "source": [
    "# deform"
   ]
  },
  {
   "cell_type": "code",
   "execution_count": 10,
   "id": "1fe682ad-6ff8-4080-bd0b-7e3303ec2275",
   "metadata": {},
   "outputs": [],
   "source": [
    "n_particles = particles.shape[0]\n",
    "mpm_solver = MPMSolver(\n",
    "    particles, \n",
    "    enable_train=False,\n",
    "    device=device,\n",
    "    gravity=[0.0, 0.0, 0.0]\n",
    ")\n",
    "# set_boundary_conditions(mpm_solver,boundary_conditions)\n",
    "elasticity = get_constitutive(elasticity_type, device=device)\n",
    "plasticity = get_constitutive(plasticity_type, device=device)\n"
   ]
  },
  {
   "cell_type": "markdown",
   "id": "e7d384fa-0037-40e8-956b-ae61e5186aec",
   "metadata": {},
   "source": [
    "# my deformation"
   ]
  },
  {
   "cell_type": "code",
   "execution_count": 11,
   "id": "ed3f82aa-5766-43a5-8332-85e227aea754",
   "metadata": {},
   "outputs": [],
   "source": [
    "def add_pre_particle_process1(model: MPMSolver, select:Tensor, start_time: float =0.0, end_time: float=999.0):\n",
    "    # select\n",
    "    def my_deform(model: MPMSolver, x: Tensor, v:Tensor, start_time: float, end_time:float, select: Tensor):\n",
    "\n",
    "        time = model.time\n",
    "        unit_displacement = torch.tensor([1.0, 0.0, 0.0], device=model.device).float()\n",
    "        displacement = 0.000001\n",
    "        if time >= start_time and time < end_time:\n",
    "            # x[select] = x[select] + unit_displacement * displacement\n",
    "            v[select] = v[select] + unit_displacement * displacement/model.dt\n",
    "\n",
    "\n",
    "    \n",
    "    model.pre_particle_process.append(\n",
    "        partial(\n",
    "            my_deform,\n",
    "            start_time=start_time,\n",
    "            end_time=end_time,\n",
    "            select = select\n",
    "        )\n",
    "    )\n",
    "    print(model.pre_particle_process)\n",
    "\n",
    "def add_pre_particle_process2(model: MPMSolver, select:Tensor, start_time: float =0.0, end_time: float=999.0):\n",
    "    # select\n",
    "    def my_deform(model: MPMSolver, x: Tensor, v:Tensor, start_time: float, end_time:float, select: Tensor):\n",
    "\n",
    "        time = model.time\n",
    "        unit_displacement = torch.tensor([-1.0, 0.0, 0.0], device=model.device).float()\n",
    "        displacement = 0.000001\n",
    "        if time >= start_time and time < end_time:\n",
    "            # x[select] = x[select] + unit_displacement * displacement\n",
    "            v[select] = v[select] + unit_displacement * displacement/model.dt\n",
    "\n",
    "\n",
    "    \n",
    "    model.pre_particle_process.append(\n",
    "        partial(\n",
    "            my_deform,\n",
    "            start_time=start_time,\n",
    "            end_time=end_time,\n",
    "            select = select\n",
    "        )\n",
    "    )\n",
    "    print(model.pre_particle_process)"
   ]
  },
  {
   "cell_type": "code",
   "execution_count": 1,
   "id": "1c66c1c6-d5b5-42bd-9797-865c95c537cb",
   "metadata": {},
   "outputs": [
    {
     "ename": "NameError",
     "evalue": "name 'particles' is not defined",
     "output_type": "error",
     "traceback": [
      "\u001b[0;31m---------------------------------------------------------------------------\u001b[0m",
      "\u001b[0;31mNameError\u001b[0m                                 Traceback (most recent call last)",
      "Cell \u001b[0;32mIn[1], line 1\u001b[0m\n\u001b[0;32m----> 1\u001b[0m x_coords \u001b[38;5;241m=\u001b[39m \u001b[43mparticles\u001b[49m[:, \u001b[38;5;241m1\u001b[39m]\u001b[38;5;241m.\u001b[39mcpu()\u001b[38;5;241m.\u001b[39mnumpy()  \u001b[38;5;66;03m# Extract x-coordinates\u001b[39;00m\n\u001b[1;32m      3\u001b[0m plt\u001b[38;5;241m.\u001b[39mfigure(figsize\u001b[38;5;241m=\u001b[39m(\u001b[38;5;241m8\u001b[39m, \u001b[38;5;241m5\u001b[39m))\n\u001b[1;32m      4\u001b[0m plt\u001b[38;5;241m.\u001b[39mhist(x_coords, bins\u001b[38;5;241m=\u001b[39m\u001b[38;5;241m50\u001b[39m, edgecolor\u001b[38;5;241m=\u001b[39m\u001b[38;5;124m'\u001b[39m\u001b[38;5;124mblack\u001b[39m\u001b[38;5;124m'\u001b[39m)\n",
      "\u001b[0;31mNameError\u001b[0m: name 'particles' is not defined"
     ]
    }
   ],
   "source": [
    "x_coords = particles[:, 0].cpu().numpy()  # Extract x-coordinates\n",
    "\n",
    "plt.figure(figsize=(8, 5))\n",
    "plt.hist(x_coords, bins=50, edgecolor='black')\n",
    "plt.title(\"Distribution of X-coordinates of Particles\")\n",
    "plt.xlabel(\"X-coordinate\")\n",
    "plt.ylabel(\"Count\")\n",
    "plt.grid(True)\n",
    "plt.tight_layout()\n",
    "plt.show()"
   ]
  },
  {
   "cell_type": "code",
   "execution_count": 13,
   "id": "e2a7ca30-dc3a-44b7-b99b-96a7f38b0764",
   "metadata": {},
   "outputs": [
    {
     "name": "stdout",
     "output_type": "stream",
     "text": [
      "[functools.partial(<function add_pre_particle_process1.<locals>.my_deform at 0x7fbeb42d3310>, start_time=0.0, end_time=999.0, select=tensor([ True,  True,  True,  ..., False, False, False], device='cuda:0'))]\n",
      "[functools.partial(<function add_pre_particle_process1.<locals>.my_deform at 0x7fbeb42d3310>, start_time=0.0, end_time=999.0, select=tensor([ True,  True,  True,  ..., False, False, False], device='cuda:0')), functools.partial(<function add_pre_particle_process2.<locals>.my_deform at 0x7fbeb42080d0>, start_time=0.0, end_time=999.0, select=tensor([False, False, False,  ...,  True,  True,  True], device='cuda:0'))]\n"
     ]
    }
   ],
   "source": [
    "select1 = particles[:, 0] < 0.3\n",
    "select2 = particles[:, 0] > 0.45\n",
    "add_pre_particle_process1(mpm_solver, select = select1)\n",
    "add_pre_particle_process2(mpm_solver, select = select2)"
   ]
  },
  {
   "cell_type": "code",
   "execution_count": 14,
   "id": "70a5e036-f895-4916-8dae-260ea19eae4c",
   "metadata": {},
   "outputs": [
    {
     "data": {
      "application/vnd.jupyter.widget-view+json": {
       "model_id": "1669460e0b0f4b3784a7d1ec1113f672",
       "version_major": 2,
       "version_minor": 0
      },
      "text/plain": [
       "Renderer(camera=PerspectiveCamera(children=(DirectionalLight(color='white', intensity=0.6, position=(0.3856187…"
      ]
     },
     "metadata": {},
     "output_type": "display_data"
    },
    {
     "data": {
      "text/plain": [
       "<meshplot.Viewer.Viewer at 0x7fbebb4582e0>"
      ]
     },
     "execution_count": 14,
     "metadata": {},
     "output_type": "execute_result"
    }
   ],
   "source": [
    "select_all = select1 | select2\n",
    "select_show = select_all.clone()\n",
    "color = torch.zeros(len(particles))\n",
    "color[select1] = 0.5  \n",
    "color[select2] = 0.9  \n",
    "color = color.cpu().numpy()\n",
    "mp.plot(v, c = color, shading={\"wireframe\": False})"
   ]
  },
  {
   "cell_type": "code",
   "execution_count": 15,
   "id": "5466b9f7-8ae3-4a3c-8f4c-7273137b9b1c",
   "metadata": {},
   "outputs": [
    {
     "name": "stdout",
     "output_type": "stream",
     "text": [
      " Size (MB) |                Shape |                           Type |     Device\n",
      "--------------------------------------------------------------------------------\n",
      "     23.78 | torch.Size([1981407, 3]) |         <class 'torch.Tensor'> |     cuda:0\n",
      "     23.78 | torch.Size([1981407, 3]) |         <class 'torch.Tensor'> |     cuda:0\n",
      "     23.78 | torch.Size([1981407, 3]) |         <class 'torch.Tensor'> |     cuda:0\n",
      "      1.98 | torch.Size([1981407]) |         <class 'torch.Tensor'> |     cuda:0\n",
      "      1.98 | torch.Size([1981407]) |         <class 'torch.Tensor'> |     cuda:0\n",
      "      1.98 | torch.Size([1981407]) |         <class 'torch.Tensor'> |     cuda:0\n",
      "      1.98 | torch.Size([1981407]) |         <class 'torch.Tensor'> |     cuda:0\n",
      "      0.19 | torch.Size([15625, 3]) |         <class 'torch.Tensor'> |     cuda:0\n",
      "      0.19 | torch.Size([15625, 3]) |         <class 'torch.Tensor'> |     cuda:0\n",
      "      0.06 |  torch.Size([15625]) |         <class 'torch.Tensor'> |     cuda:0\n",
      "      0.00 |  torch.Size([27, 3]) |         <class 'torch.Tensor'> |     cuda:0\n",
      "      0.00 |      torch.Size([3]) |         <class 'torch.Tensor'> |     cuda:0\n",
      "      0.00 |      torch.Size([1]) |         <class 'torch.Tensor'> |     cuda:0\n",
      "      0.00 |      torch.Size([1]) |         <class 'torch.Tensor'> |     cuda:0\n",
      "      0.00 |      torch.Size([1]) |         <class 'torch.Tensor'> |     cuda:0\n",
      "      0.00 |      torch.Size([1]) |         <class 'torch.Tensor'> |     cuda:0\n",
      "      0.00 |      torch.Size([1]) |         <class 'torch.Tensor'> |     cuda:0\n",
      "      0.00 |      torch.Size([1]) |         <class 'torch.Tensor'> |     cuda:0\n",
      "      0.00 |      torch.Size([1]) | <class 'torch.nn.parameter.Parameter'> |     cuda:0\n",
      "      0.00 |      torch.Size([1]) | <class 'torch.nn.parameter.Parameter'> |     cuda:0\n",
      "\n",
      "\n",
      "🧠 Total memory of live tensors: 79.69 MB\n",
      "📦 torch.cuda.memory_allocated(): 55.92 MB\n",
      "🔒 torch.cuda.memory_reserved():  73.40 MB\n"
     ]
    },
    {
     "name": "stderr",
     "output_type": "stream",
     "text": [
      "/home/cx2219/miniconda3/envs/mpmpytorch/lib/python3.9/site-packages/torch/__init__.py:1117: FutureWarning: `torch.distributed.reduce_op` is deprecated, please use `torch.distributed.ReduceOp` instead\n",
      "  return isinstance(obj, torch.Tensor)\n",
      "/tmp/ipykernel_2098259/2949170866.py:10: FutureWarning: `torch.distributed.reduce_op` is deprecated, please use `torch.distributed.ReduceOp` instead\n",
      "  if torch.is_tensor(obj) or (hasattr(obj, 'data') and torch.is_tensor(obj.data)):\n"
     ]
    }
   ],
   "source": [
    "list_gpu_tensors()"
   ]
  },
  {
   "cell_type": "code",
   "execution_count": 16,
   "id": "4c3ac160-e6ad-40a3-9c06-1bffab0309c4",
   "metadata": {},
   "outputs": [],
   "source": [
    "# Initialize particle states\n",
    "x = particles\n",
    "v = torch.stack([torch.tensor(initial_velocity, device=device) for _ in range(n_particles)])\n",
    "C = torch.zeros((n_particles, 3, 3), device=device)\n",
    "F = torch.eye(3, device=device).unsqueeze(0).repeat(n_particles, 1, 1)\n"
   ]
  },
  {
   "cell_type": "code",
   "execution_count": 17,
   "id": "b312e79e-308b-4390-a8ce-b53319854a08",
   "metadata": {
    "scrolled": true
   },
   "outputs": [
    {
     "data": {
      "application/vnd.jupyter.widget-view+json": {
       "model_id": "0abf7d35162d48ebbbc7e51e6206cfde",
       "version_major": 2,
       "version_minor": 0
      },
      "text/plain": [
       "Simulating:   0%|          | 0/50 [00:00<?, ?it/s]"
      ]
     },
     "metadata": {},
     "output_type": "display_data"
    },
    {
     "data": {
      "application/vnd.jupyter.widget-view+json": {
       "model_id": "aa4bc77c9d5d4b36b0272d05884ed663",
       "version_major": 2,
       "version_minor": 0
      },
      "text/plain": [
       "Step:   0%|          | 0/10 [00:00<?, ?it/s]"
      ]
     },
     "metadata": {},
     "output_type": "display_data"
    },
    {
     "name": "stdout",
     "output_type": "stream",
     "text": [
      "Module mpm_pytorch.constitutive_models.warp_svd.svd load on device 'cuda:0' took 1.06 ms\n"
     ]
    },
    {
     "data": {
      "application/vnd.jupyter.widget-view+json": {
       "model_id": "5d988a46db2d4fc2a190a012530b1319",
       "version_major": 2,
       "version_minor": 0
      },
      "text/plain": [
       "Step:   0%|          | 0/10 [00:00<?, ?it/s]"
      ]
     },
     "metadata": {},
     "output_type": "display_data"
    },
    {
     "data": {
      "application/vnd.jupyter.widget-view+json": {
       "model_id": "f5c4e56d1b0447e9a7bab30aacb8b89e",
       "version_major": 2,
       "version_minor": 0
      },
      "text/plain": [
       "Step:   0%|          | 0/10 [00:00<?, ?it/s]"
      ]
     },
     "metadata": {},
     "output_type": "display_data"
    },
    {
     "data": {
      "application/vnd.jupyter.widget-view+json": {
       "model_id": "cca395d388c24071aebac0982123c7b7",
       "version_major": 2,
       "version_minor": 0
      },
      "text/plain": [
       "Step:   0%|          | 0/10 [00:00<?, ?it/s]"
      ]
     },
     "metadata": {},
     "output_type": "display_data"
    },
    {
     "data": {
      "application/vnd.jupyter.widget-view+json": {
       "model_id": "6180eeb88445452892c8815bd1df6433",
       "version_major": 2,
       "version_minor": 0
      },
      "text/plain": [
       "Step:   0%|          | 0/10 [00:00<?, ?it/s]"
      ]
     },
     "metadata": {},
     "output_type": "display_data"
    },
    {
     "data": {
      "application/vnd.jupyter.widget-view+json": {
       "model_id": "b9290898fe9946fd93996b3ee6b88e21",
       "version_major": 2,
       "version_minor": 0
      },
      "text/plain": [
       "Step:   0%|          | 0/10 [00:00<?, ?it/s]"
      ]
     },
     "metadata": {},
     "output_type": "display_data"
    },
    {
     "data": {
      "application/vnd.jupyter.widget-view+json": {
       "model_id": "28485e2ce2c2432183af388bb2d346af",
       "version_major": 2,
       "version_minor": 0
      },
      "text/plain": [
       "Step:   0%|          | 0/10 [00:00<?, ?it/s]"
      ]
     },
     "metadata": {},
     "output_type": "display_data"
    },
    {
     "data": {
      "application/vnd.jupyter.widget-view+json": {
       "model_id": "be95dc4cb0074eab84da583f57f09438",
       "version_major": 2,
       "version_minor": 0
      },
      "text/plain": [
       "Step:   0%|          | 0/10 [00:00<?, ?it/s]"
      ]
     },
     "metadata": {},
     "output_type": "display_data"
    },
    {
     "data": {
      "application/vnd.jupyter.widget-view+json": {
       "model_id": "d48036ede50a473387eba0eb1f9025b7",
       "version_major": 2,
       "version_minor": 0
      },
      "text/plain": [
       "Step:   0%|          | 0/10 [00:00<?, ?it/s]"
      ]
     },
     "metadata": {},
     "output_type": "display_data"
    },
    {
     "data": {
      "application/vnd.jupyter.widget-view+json": {
       "model_id": "5f5ea1354ea0417d9048ff917818b2d3",
       "version_major": 2,
       "version_minor": 0
      },
      "text/plain": [
       "Step:   0%|          | 0/10 [00:00<?, ?it/s]"
      ]
     },
     "metadata": {},
     "output_type": "display_data"
    },
    {
     "data": {
      "application/vnd.jupyter.widget-view+json": {
       "model_id": "5ec2c02e9aac4ec6ad1356dbbac26484",
       "version_major": 2,
       "version_minor": 0
      },
      "text/plain": [
       "Step:   0%|          | 0/10 [00:00<?, ?it/s]"
      ]
     },
     "metadata": {},
     "output_type": "display_data"
    },
    {
     "data": {
      "application/vnd.jupyter.widget-view+json": {
       "model_id": "b3b34f7e1e854aedba5b9145249c226f",
       "version_major": 2,
       "version_minor": 0
      },
      "text/plain": [
       "Step:   0%|          | 0/10 [00:00<?, ?it/s]"
      ]
     },
     "metadata": {},
     "output_type": "display_data"
    },
    {
     "data": {
      "application/vnd.jupyter.widget-view+json": {
       "model_id": "2a692ff182cf44eeb38da5b178a3a51f",
       "version_major": 2,
       "version_minor": 0
      },
      "text/plain": [
       "Step:   0%|          | 0/10 [00:00<?, ?it/s]"
      ]
     },
     "metadata": {},
     "output_type": "display_data"
    },
    {
     "data": {
      "application/vnd.jupyter.widget-view+json": {
       "model_id": "146cf00d713b4473a155300fc3ed5a83",
       "version_major": 2,
       "version_minor": 0
      },
      "text/plain": [
       "Step:   0%|          | 0/10 [00:00<?, ?it/s]"
      ]
     },
     "metadata": {},
     "output_type": "display_data"
    },
    {
     "data": {
      "application/vnd.jupyter.widget-view+json": {
       "model_id": "028becae62d54d31826c41ec2fde82ea",
       "version_major": 2,
       "version_minor": 0
      },
      "text/plain": [
       "Step:   0%|          | 0/10 [00:00<?, ?it/s]"
      ]
     },
     "metadata": {},
     "output_type": "display_data"
    },
    {
     "data": {
      "application/vnd.jupyter.widget-view+json": {
       "model_id": "3804baba37384d308e8ea568accb26d3",
       "version_major": 2,
       "version_minor": 0
      },
      "text/plain": [
       "Step:   0%|          | 0/10 [00:00<?, ?it/s]"
      ]
     },
     "metadata": {},
     "output_type": "display_data"
    },
    {
     "data": {
      "application/vnd.jupyter.widget-view+json": {
       "model_id": "9174020e46544078800ef414baf47651",
       "version_major": 2,
       "version_minor": 0
      },
      "text/plain": [
       "Step:   0%|          | 0/10 [00:00<?, ?it/s]"
      ]
     },
     "metadata": {},
     "output_type": "display_data"
    },
    {
     "data": {
      "application/vnd.jupyter.widget-view+json": {
       "model_id": "fd7e26a0537e408497dcdbc126217cea",
       "version_major": 2,
       "version_minor": 0
      },
      "text/plain": [
       "Step:   0%|          | 0/10 [00:00<?, ?it/s]"
      ]
     },
     "metadata": {},
     "output_type": "display_data"
    },
    {
     "data": {
      "application/vnd.jupyter.widget-view+json": {
       "model_id": "0d0a512052284db48229710fde7f4b51",
       "version_major": 2,
       "version_minor": 0
      },
      "text/plain": [
       "Step:   0%|          | 0/10 [00:00<?, ?it/s]"
      ]
     },
     "metadata": {},
     "output_type": "display_data"
    },
    {
     "data": {
      "application/vnd.jupyter.widget-view+json": {
       "model_id": "85fe51808ec64474b9dcc3550c5e9b52",
       "version_major": 2,
       "version_minor": 0
      },
      "text/plain": [
       "Step:   0%|          | 0/10 [00:00<?, ?it/s]"
      ]
     },
     "metadata": {},
     "output_type": "display_data"
    },
    {
     "data": {
      "application/vnd.jupyter.widget-view+json": {
       "model_id": "88a4c220513e4354824eac94ee84de44",
       "version_major": 2,
       "version_minor": 0
      },
      "text/plain": [
       "Step:   0%|          | 0/10 [00:00<?, ?it/s]"
      ]
     },
     "metadata": {},
     "output_type": "display_data"
    },
    {
     "data": {
      "application/vnd.jupyter.widget-view+json": {
       "model_id": "2ee41ef8571848fd831030efcc118f35",
       "version_major": 2,
       "version_minor": 0
      },
      "text/plain": [
       "Step:   0%|          | 0/10 [00:00<?, ?it/s]"
      ]
     },
     "metadata": {},
     "output_type": "display_data"
    },
    {
     "data": {
      "application/vnd.jupyter.widget-view+json": {
       "model_id": "afb5b2d2ba8249ca948e7c94747f6011",
       "version_major": 2,
       "version_minor": 0
      },
      "text/plain": [
       "Step:   0%|          | 0/10 [00:00<?, ?it/s]"
      ]
     },
     "metadata": {},
     "output_type": "display_data"
    },
    {
     "data": {
      "application/vnd.jupyter.widget-view+json": {
       "model_id": "4f8799be95914b5c92adab48370278a5",
       "version_major": 2,
       "version_minor": 0
      },
      "text/plain": [
       "Step:   0%|          | 0/10 [00:00<?, ?it/s]"
      ]
     },
     "metadata": {},
     "output_type": "display_data"
    },
    {
     "data": {
      "application/vnd.jupyter.widget-view+json": {
       "model_id": "13467e1c7d81429c886d53459ebcc5d4",
       "version_major": 2,
       "version_minor": 0
      },
      "text/plain": [
       "Step:   0%|          | 0/10 [00:00<?, ?it/s]"
      ]
     },
     "metadata": {},
     "output_type": "display_data"
    },
    {
     "data": {
      "application/vnd.jupyter.widget-view+json": {
       "model_id": "80207f9568ac4e5dbd08b6e7e78d511b",
       "version_major": 2,
       "version_minor": 0
      },
      "text/plain": [
       "Step:   0%|          | 0/10 [00:00<?, ?it/s]"
      ]
     },
     "metadata": {},
     "output_type": "display_data"
    },
    {
     "data": {
      "application/vnd.jupyter.widget-view+json": {
       "model_id": "c68b6e5ad14d470e89c0ead13c304f56",
       "version_major": 2,
       "version_minor": 0
      },
      "text/plain": [
       "Step:   0%|          | 0/10 [00:00<?, ?it/s]"
      ]
     },
     "metadata": {},
     "output_type": "display_data"
    },
    {
     "data": {
      "application/vnd.jupyter.widget-view+json": {
       "model_id": "70f3d1f5e1cc4671960caeb596e575da",
       "version_major": 2,
       "version_minor": 0
      },
      "text/plain": [
       "Step:   0%|          | 0/10 [00:00<?, ?it/s]"
      ]
     },
     "metadata": {},
     "output_type": "display_data"
    },
    {
     "data": {
      "application/vnd.jupyter.widget-view+json": {
       "model_id": "76f13ac555844e0e9b0613827cc356cb",
       "version_major": 2,
       "version_minor": 0
      },
      "text/plain": [
       "Step:   0%|          | 0/10 [00:00<?, ?it/s]"
      ]
     },
     "metadata": {},
     "output_type": "display_data"
    },
    {
     "data": {
      "application/vnd.jupyter.widget-view+json": {
       "model_id": "ebcb16dcc75e4fa9add59d7bf31f0aaf",
       "version_major": 2,
       "version_minor": 0
      },
      "text/plain": [
       "Step:   0%|          | 0/10 [00:00<?, ?it/s]"
      ]
     },
     "metadata": {},
     "output_type": "display_data"
    },
    {
     "data": {
      "application/vnd.jupyter.widget-view+json": {
       "model_id": "43786979b3e24ef3932079ffa88f1e8a",
       "version_major": 2,
       "version_minor": 0
      },
      "text/plain": [
       "Step:   0%|          | 0/10 [00:00<?, ?it/s]"
      ]
     },
     "metadata": {},
     "output_type": "display_data"
    },
    {
     "data": {
      "application/vnd.jupyter.widget-view+json": {
       "model_id": "92a325ae14c24bc49b47a9a3dfed6de0",
       "version_major": 2,
       "version_minor": 0
      },
      "text/plain": [
       "Step:   0%|          | 0/10 [00:00<?, ?it/s]"
      ]
     },
     "metadata": {},
     "output_type": "display_data"
    },
    {
     "data": {
      "application/vnd.jupyter.widget-view+json": {
       "model_id": "42c4e626304d4444bad6a08ee6fc817d",
       "version_major": 2,
       "version_minor": 0
      },
      "text/plain": [
       "Step:   0%|          | 0/10 [00:00<?, ?it/s]"
      ]
     },
     "metadata": {},
     "output_type": "display_data"
    },
    {
     "data": {
      "application/vnd.jupyter.widget-view+json": {
       "model_id": "e645d4dd5cc846919fa3422a8cd2f346",
       "version_major": 2,
       "version_minor": 0
      },
      "text/plain": [
       "Step:   0%|          | 0/10 [00:00<?, ?it/s]"
      ]
     },
     "metadata": {},
     "output_type": "display_data"
    },
    {
     "data": {
      "application/vnd.jupyter.widget-view+json": {
       "model_id": "0f16a1fdf60e4bb78c116ec39dba53fb",
       "version_major": 2,
       "version_minor": 0
      },
      "text/plain": [
       "Step:   0%|          | 0/10 [00:00<?, ?it/s]"
      ]
     },
     "metadata": {},
     "output_type": "display_data"
    },
    {
     "data": {
      "application/vnd.jupyter.widget-view+json": {
       "model_id": "3829edd636484905831656c0e3f52da4",
       "version_major": 2,
       "version_minor": 0
      },
      "text/plain": [
       "Step:   0%|          | 0/10 [00:00<?, ?it/s]"
      ]
     },
     "metadata": {},
     "output_type": "display_data"
    },
    {
     "data": {
      "application/vnd.jupyter.widget-view+json": {
       "model_id": "7bdd85050fdc4e158b5f83e434eb3fd6",
       "version_major": 2,
       "version_minor": 0
      },
      "text/plain": [
       "Step:   0%|          | 0/10 [00:00<?, ?it/s]"
      ]
     },
     "metadata": {},
     "output_type": "display_data"
    },
    {
     "data": {
      "application/vnd.jupyter.widget-view+json": {
       "model_id": "88f6d1f231a14b4eaf2ce96145406e1d",
       "version_major": 2,
       "version_minor": 0
      },
      "text/plain": [
       "Step:   0%|          | 0/10 [00:00<?, ?it/s]"
      ]
     },
     "metadata": {},
     "output_type": "display_data"
    },
    {
     "data": {
      "application/vnd.jupyter.widget-view+json": {
       "model_id": "5e0145f0343d4617aae4a6a980285292",
       "version_major": 2,
       "version_minor": 0
      },
      "text/plain": [
       "Step:   0%|          | 0/10 [00:00<?, ?it/s]"
      ]
     },
     "metadata": {},
     "output_type": "display_data"
    },
    {
     "data": {
      "application/vnd.jupyter.widget-view+json": {
       "model_id": "c88f26bc3f904d5aaf3467e1d060ddee",
       "version_major": 2,
       "version_minor": 0
      },
      "text/plain": [
       "Step:   0%|          | 0/10 [00:00<?, ?it/s]"
      ]
     },
     "metadata": {},
     "output_type": "display_data"
    },
    {
     "data": {
      "application/vnd.jupyter.widget-view+json": {
       "model_id": "fb18b8e22f5e4178b986865bfe94f8ff",
       "version_major": 2,
       "version_minor": 0
      },
      "text/plain": [
       "Step:   0%|          | 0/10 [00:00<?, ?it/s]"
      ]
     },
     "metadata": {},
     "output_type": "display_data"
    },
    {
     "data": {
      "application/vnd.jupyter.widget-view+json": {
       "model_id": "53cb1a3a0bad4b039cf54de4c376c2aa",
       "version_major": 2,
       "version_minor": 0
      },
      "text/plain": [
       "Step:   0%|          | 0/10 [00:00<?, ?it/s]"
      ]
     },
     "metadata": {},
     "output_type": "display_data"
    },
    {
     "data": {
      "application/vnd.jupyter.widget-view+json": {
       "model_id": "889df2a27854410fa5364a4b6655a422",
       "version_major": 2,
       "version_minor": 0
      },
      "text/plain": [
       "Step:   0%|          | 0/10 [00:00<?, ?it/s]"
      ]
     },
     "metadata": {},
     "output_type": "display_data"
    },
    {
     "data": {
      "application/vnd.jupyter.widget-view+json": {
       "model_id": "af39af8afca74c9f9408fbfeac1cf06d",
       "version_major": 2,
       "version_minor": 0
      },
      "text/plain": [
       "Step:   0%|          | 0/10 [00:00<?, ?it/s]"
      ]
     },
     "metadata": {},
     "output_type": "display_data"
    },
    {
     "data": {
      "application/vnd.jupyter.widget-view+json": {
       "model_id": "bf30aeb3e2344e83a5ace3137d5b7a61",
       "version_major": 2,
       "version_minor": 0
      },
      "text/plain": [
       "Step:   0%|          | 0/10 [00:00<?, ?it/s]"
      ]
     },
     "metadata": {},
     "output_type": "display_data"
    },
    {
     "data": {
      "application/vnd.jupyter.widget-view+json": {
       "model_id": "33f2a0ca6d844572b7d0c4cf705f3509",
       "version_major": 2,
       "version_minor": 0
      },
      "text/plain": [
       "Step:   0%|          | 0/10 [00:00<?, ?it/s]"
      ]
     },
     "metadata": {},
     "output_type": "display_data"
    },
    {
     "data": {
      "application/vnd.jupyter.widget-view+json": {
       "model_id": "4fd27fb710c1454b8ddd31212e5189d7",
       "version_major": 2,
       "version_minor": 0
      },
      "text/plain": [
       "Step:   0%|          | 0/10 [00:00<?, ?it/s]"
      ]
     },
     "metadata": {},
     "output_type": "display_data"
    },
    {
     "data": {
      "application/vnd.jupyter.widget-view+json": {
       "model_id": "599e696e130b4bc78636c96b7ed63d24",
       "version_major": 2,
       "version_minor": 0
      },
      "text/plain": [
       "Step:   0%|          | 0/10 [00:00<?, ?it/s]"
      ]
     },
     "metadata": {},
     "output_type": "display_data"
    },
    {
     "data": {
      "application/vnd.jupyter.widget-view+json": {
       "model_id": "929454ce751f45059025af402784f14e",
       "version_major": 2,
       "version_minor": 0
      },
      "text/plain": [
       "Step:   0%|          | 0/10 [00:00<?, ?it/s]"
      ]
     },
     "metadata": {},
     "output_type": "display_data"
    },
    {
     "data": {
      "application/vnd.jupyter.widget-view+json": {
       "model_id": "9e295e9003034313b52acc121499cbee",
       "version_major": 2,
       "version_minor": 0
      },
      "text/plain": [
       "Step:   0%|          | 0/10 [00:00<?, ?it/s]"
      ]
     },
     "metadata": {},
     "output_type": "display_data"
    }
   ],
   "source": [
    "# Run simulation\n",
    "frames = []\n",
    "for frame in tqdm(range(num_frames), desc='Simulating'):\n",
    "    frames.append(x.cpu().numpy())\n",
    "    for step in tqdm(range(steps_per_frame), desc='Step'):\n",
    "        # Update stress\n",
    "        stress = elasticity(F)\n",
    "        # Particle to grid, grid update, grid to particle\n",
    "        x, v, C, F = mpm_solver(x, v, C, F, stress)\n",
    "        # Plasticity correction\n",
    "        F = plasticity(F)"
   ]
  },
  {
   "cell_type": "code",
   "execution_count": 18,
   "id": "d3a2c701-11cf-4a11-b754-f614dd4c7c27",
   "metadata": {},
   "outputs": [
    {
     "name": "stdout",
     "output_type": "stream",
     "text": [
      " Size (MB) |                Shape |                           Type |     Device\n",
      "--------------------------------------------------------------------------------\n",
      "     71.33 | torch.Size([1981407, 3, 3]) |         <class 'torch.Tensor'> |     cuda:0\n",
      "     71.33 | torch.Size([1981407, 3, 3]) |         <class 'torch.Tensor'> |     cuda:0\n",
      "     71.33 | torch.Size([1981407, 3, 3]) |         <class 'torch.Tensor'> |     cuda:0\n",
      "     23.78 | torch.Size([1981407, 3]) |         <class 'torch.Tensor'> |     cuda:0\n",
      "     23.78 | torch.Size([1981407, 3]) |         <class 'torch.Tensor'> |     cuda:0\n",
      "     23.78 | torch.Size([1981407, 3]) |         <class 'torch.Tensor'> |     cuda:0\n",
      "     23.78 | torch.Size([1981407, 3]) |         <class 'torch.Tensor'> |     cuda:0\n",
      "     23.78 | torch.Size([1981407, 3]) |         <class 'torch.Tensor'> |     cuda:0\n",
      "      1.98 | torch.Size([1981407]) |         <class 'torch.Tensor'> |     cuda:0\n",
      "      1.98 | torch.Size([1981407]) |         <class 'torch.Tensor'> |     cuda:0\n",
      "      1.98 | torch.Size([1981407]) |         <class 'torch.Tensor'> |     cuda:0\n",
      "      1.98 | torch.Size([1981407]) |         <class 'torch.Tensor'> |     cuda:0\n",
      "      0.19 | torch.Size([15625, 3]) |         <class 'torch.Tensor'> |     cuda:0\n",
      "      0.19 | torch.Size([15625, 3]) |         <class 'torch.Tensor'> |     cuda:0\n",
      "      0.06 |  torch.Size([15625]) |         <class 'torch.Tensor'> |     cuda:0\n",
      "      0.00 |  torch.Size([27, 3]) |         <class 'torch.Tensor'> |     cuda:0\n",
      "      0.00 |      torch.Size([3]) |         <class 'torch.Tensor'> |     cuda:0\n",
      "      0.00 |      torch.Size([1]) |         <class 'torch.Tensor'> |     cuda:0\n",
      "      0.00 |      torch.Size([1]) |         <class 'torch.Tensor'> |     cuda:0\n",
      "      0.00 |      torch.Size([1]) |         <class 'torch.Tensor'> |     cuda:0\n",
      "      0.00 |      torch.Size([1]) |         <class 'torch.Tensor'> |     cuda:0\n",
      "      0.00 |      torch.Size([1]) |         <class 'torch.Tensor'> |     cuda:0\n",
      "      0.00 |      torch.Size([1]) |         <class 'torch.Tensor'> |     cuda:0\n",
      "      0.00 |      torch.Size([1]) | <class 'torch.nn.parameter.Parameter'> |     cuda:0\n",
      "      0.00 |      torch.Size([1]) | <class 'torch.nn.parameter.Parameter'> |     cuda:0\n",
      "\n",
      "\n",
      "🧠 Total memory of live tensors: 341.24 MB\n",
      "📦 torch.cuda.memory_allocated(): 325.99 MB\n",
      "🔒 torch.cuda.memory_reserved():  12421.43 MB\n"
     ]
    },
    {
     "name": "stderr",
     "output_type": "stream",
     "text": [
      "/tmp/ipykernel_2098259/2949170866.py:10: FutureWarning: `torch.distributed.reduce_op` is deprecated, please use `torch.distributed.ReduceOp` instead\n",
      "  if torch.is_tensor(obj) or (hasattr(obj, 'data') and torch.is_tensor(obj.data)):\n"
     ]
    }
   ],
   "source": [
    "list_gpu_tensors()"
   ]
  },
  {
   "cell_type": "code",
   "execution_count": 19,
   "id": "2aa070f7-b234-4303-94ce-d811e8e04851",
   "metadata": {},
   "outputs": [
    {
     "data": {
      "application/vnd.jupyter.widget-view+json": {
       "model_id": "557d3438a2cc46218794d01317636b51",
       "version_major": 2,
       "version_minor": 0
      },
      "text/plain": [
       "Renderer(camera=PerspectiveCamera(children=(DirectionalLight(color='white', intensity=0.6, position=(0.3838106…"
      ]
     },
     "metadata": {},
     "output_type": "display_data"
    },
    {
     "data": {
      "text/plain": [
       "<meshplot.Viewer.Viewer at 0x7fbeb42c5dc0>"
      ]
     },
     "execution_count": 19,
     "metadata": {},
     "output_type": "execute_result"
    }
   ],
   "source": [
    "particles_show = x.clone()\n",
    "v = particles_show.cpu().numpy()\n",
    "mp.plot(v, c = color, shading={\"wireframe\": False})"
   ]
  },
  {
   "cell_type": "code",
   "execution_count": 20,
   "id": "934a8d8f-6831-4c3b-9c56-98ddfdbc45d2",
   "metadata": {},
   "outputs": [
    {
     "name": "stdout",
     "output_type": "stream",
     "text": [
      "Rendering to ./output/cranium_example_ds_300_jupytertest_deformation.gif...\n",
      "updating the 0/5 frame\n",
      "updating the 0/5 frame\n",
      "updating the 1/5 frame\n",
      "updating the 2/5 frame\n",
      "updating the 3/5 frame\n",
      "updating the 4/5 frame\n"
     ]
    }
   ],
   "source": [
    "new_frames = frames[::sample_rate]\n",
    "\n",
    "# Visualize\n",
    "print(f'Rendering to {export_path}...')\n",
    "visualize_frames(\n",
    "    new_frames, \n",
    "    export_path=export_path, \n",
    "    size=[1, 1, 1], \n",
    "    c=color,\n",
    "    sample_rate = sample_rate\n",
    ")"
   ]
  },
  {
   "cell_type": "markdown",
   "id": "80f3e615-522d-4c1a-ad6a-0bb2cd64bcaa",
   "metadata": {},
   "source": [
    "# import messed up pc to voxel inside"
   ]
  },
  {
   "cell_type": "code",
   "execution_count": 21,
   "id": "5b88e206-c29d-4d9d-9bf5-a5550728167e",
   "metadata": {},
   "outputs": [],
   "source": [
    "\n",
    "points_inside = particles_show.cpu().numpy()\n",
    "indices = (points_inside * grid_res).astype(int)\n",
    "indices = np.clip(indices, 0, grid_res - 1)  # make sure indices are valid\n",
    "\n",
    "# Create occupancy grid\n",
    "inside = np.zeros((grid_res, grid_res, grid_res), dtype=bool)\n",
    "for i, j, k in indices:\n",
    "    inside[i, j, k] = True\n",
    "\n",
    "inside = inside.ravel(order='C')"
   ]
  },
  {
   "cell_type": "code",
   "execution_count": 22,
   "id": "4ca59091-947b-4d53-847c-356c1baba388",
   "metadata": {},
   "outputs": [
    {
     "data": {
      "application/vnd.jupyter.widget-view+json": {
       "model_id": "d30abae2310a41279bf1bcdb5149a403",
       "version_major": 2,
       "version_minor": 0
      },
      "text/plain": [
       "Renderer(camera=PerspectiveCamera(children=(DirectionalLight(color='white', intensity=0.6, position=(0.3838106…"
      ]
     },
     "metadata": {},
     "output_type": "display_data"
    }
   ],
   "source": [
    "p = mp.plot(points_inside, shading={\"wireframe\": False})"
   ]
  },
  {
   "cell_type": "markdown",
   "id": "1b450a1a-5559-47e1-af7f-4adc83bb2d07",
   "metadata": {},
   "source": [
    "# voxel to SDF"
   ]
  },
  {
   "cell_type": "code",
   "execution_count": 23,
   "id": "697ac229-cb78-4f59-bf50-bbf9f7ef2bae",
   "metadata": {},
   "outputs": [],
   "source": [
    "# continuous\n",
    "inside_volume = inside.reshape((grid_res, grid_res, grid_res))  # shape: (Z, Y, X)\n",
    "\n",
    "outside_mask = ~inside_volume  # 0=inside, 1=outside\n",
    "\n",
    "dist_out = ndimage.distance_transform_edt(outside_mask)\n",
    "\n",
    "dist_in = ndimage.distance_transform_edt(inside_volume)\n",
    "\n",
    "sdf_volume = dist_out - dist_in  # outside: positive, inside: negative\n",
    "\n",
    "sdf_smoothed = gaussian_filter(sdf_volume, sigma=1.0)\n",
    "\n",
    "sdf_volume = sdf_smoothed\n"
   ]
  },
  {
   "cell_type": "markdown",
   "id": "91803715-245b-4ae0-986d-7eea4dc2b18c",
   "metadata": {},
   "source": [
    "# SDF to Surface Mesh"
   ]
  },
  {
   "cell_type": "code",
   "execution_count": 24,
   "id": "1d084591-90a0-4fc4-92a6-a74dc7e2ba7b",
   "metadata": {},
   "outputs": [],
   "source": [
    "\n",
    "\n",
    "verts, faces, normals, values = measure.marching_cubes(sdf_volume, level=0.0)\n",
    "\n",
    "verts = verts[:, [2, 1, 0]]  # 把 zyx 转成 xyz\n",
    "\n",
    "spacing = 1.0 / (sdf_volume.shape[0] - 1)\n",
    "verts *= spacing  # 恢复真实坐标\n",
    "\n",
    "mesh_surface = trimesh.Trimesh(vertices=verts, faces=faces, vertex_normals=normals)\n"
   ]
  },
  {
   "cell_type": "code",
   "execution_count": 25,
   "id": "15a71fb3-3963-4630-833b-457f6380ddb3",
   "metadata": {},
   "outputs": [
    {
     "data": {
      "application/vnd.jupyter.widget-view+json": {
       "model_id": "f5c8f292c34e4740977dfa43cbfde189",
       "version_major": 2,
       "version_minor": 0
      },
      "text/plain": [
       "Renderer(camera=PerspectiveCamera(children=(DirectionalLight(color='white', intensity=0.6, position=(0.3374609…"
      ]
     },
     "metadata": {},
     "output_type": "display_data"
    },
    {
     "data": {
      "text/plain": [
       "<meshplot.Viewer.Viewer at 0x7fc115298f70>"
      ]
     },
     "execution_count": 25,
     "metadata": {},
     "output_type": "execute_result"
    }
   ],
   "source": [
    "\n",
    "v = np.asarray(mesh_surface.vertices)\n",
    "f = np.asarray(mesh_surface.faces)\n",
    "n = np.asarray(mesh_surface.vertex_normals)\n",
    "\n",
    "mp.plot(v, f, shading={\"wireframe\": False})\n"
   ]
  },
  {
   "cell_type": "markdown",
   "id": "9df9b97e-8815-49e7-94cc-c03ab3afe3a8",
   "metadata": {},
   "source": [
    "# Clean again"
   ]
  },
  {
   "cell_type": "code",
   "execution_count": 26,
   "id": "1c8e0f0a-d224-4520-b9c3-0291c25cb088",
   "metadata": {},
   "outputs": [
    {
     "name": "stdout",
     "output_type": "stream",
     "text": [
      "连通组件数量: 8\n"
     ]
    },
    {
     "data": {
      "application/vnd.jupyter.widget-view+json": {
       "model_id": "98ef727dce1a4b6c979ba5d330104a80",
       "version_major": 2,
       "version_minor": 0
      },
      "text/plain": [
       "Renderer(camera=PerspectiveCamera(children=(DirectionalLight(color='white', intensity=0.6, position=(0.3374609…"
      ]
     },
     "metadata": {},
     "output_type": "display_data"
    }
   ],
   "source": [
    "components = mesh_surface.split(only_watertight=False)\n",
    "\n",
    "# 统计数量\n",
    "print(f\"连通组件数量: {len(components)}\")\n",
    "\n",
    "largest = max(components, key=lambda m: len(m.faces))\n",
    "mesh_clean = largest\n",
    "\n",
    "# min_faces = 100000\n",
    "# filtered = [comp for comp in components if len(comp.faces) >= min_faces]\n",
    "\n",
    "# if len(filtered) > 0:\n",
    "#     mesh_clean = trimesh.util.concatenate(filtered)\n",
    "#     mesh_clean.export('cleaned_mesh.obj')\n",
    "#     print(f\"Keep {len(filtered)} component, output new mesh.\")\n",
    "# else:\n",
    "#     print(\"All components have been filtered\")\n",
    "\n",
    "\n",
    "v = np.asarray(mesh_clean.vertices)\n",
    "f = np.asarray(mesh_clean.faces)\n",
    "n = np.asarray(mesh_clean.vertex_normals)\n",
    "\n",
    "p = mp.plot(v, f)\n",
    "\n",
    "mesh_surface = mesh_clean\n"
   ]
  },
  {
   "cell_type": "markdown",
   "id": "8b8440d0-da98-47ee-86ec-a880ae56b727",
   "metadata": {},
   "source": [
    "# Surface Smoothing"
   ]
  },
  {
   "cell_type": "code",
   "execution_count": 27,
   "id": "8658dccb-0d37-4d63-956b-4467dbb1e155",
   "metadata": {},
   "outputs": [],
   "source": [
    "# 将 trimesh 转换为 open3d mesh\n",
    "mesh_o3d = o3d.geometry.TriangleMesh(\n",
    "    vertices=o3d.utility.Vector3dVector(mesh_surface.vertices),\n",
    "    triangles=o3d.utility.Vector3iVector(mesh_surface.faces)\n",
    ")\n",
    "\n",
    "# 可选：计算法线（用于可视化）\n",
    "mesh_o3d.compute_vertex_normals()\n",
    "\n",
    "# 执行 Laplacian 平滑\n",
    "smoothed = mesh_o3d.filter_smooth_laplacian(number_of_iterations=10)\n",
    "\n",
    "# 可选：重新计算法线\n",
    "smoothed.compute_vertex_normals()\n",
    "\n",
    "# 如果你需要导出为 trimesh 继续处理：\n",
    "smoothed_trimesh = trimesh.Trimesh(\n",
    "    vertices=np.asarray(smoothed.vertices),\n",
    "    faces=np.asarray(smoothed.triangles)\n",
    ")\n",
    "\n",
    "# ms = pymeshlab.MeshSet()\n",
    "# ms.add_mesh(pymeshlab.Mesh(mesh_surface.vertices, mesh_surface.faces))\n",
    "\n",
    "\n",
    "# ms.apply_coord_taubin_smoothing(stepsmoothnum=10, lambda_=0.5, mu=-0.53)\n",
    "\n",
    "\n",
    "# smoothed_mesh = ms.current_mesh()\n",
    "# smoothed_trimesh = trimesh.Trimesh(\n",
    "#     vertices=smoothed_mesh.vertex_matrix(),\n",
    "#     faces=smoothed_mesh.face_matrix()\n",
    "# )"
   ]
  },
  {
   "cell_type": "code",
   "execution_count": 28,
   "id": "6ef712c4-e106-476e-a83f-8fc4c5cd4b77",
   "metadata": {},
   "outputs": [
    {
     "data": {
      "application/vnd.jupyter.widget-view+json": {
       "model_id": "e1f62309a95046bf8e85cd4abb86dc17",
       "version_major": 2,
       "version_minor": 0
      },
      "text/plain": [
       "Renderer(camera=PerspectiveCamera(children=(DirectionalLight(color='white', intensity=0.6, position=(0.3383984…"
      ]
     },
     "metadata": {},
     "output_type": "display_data"
    },
    {
     "data": {
      "text/plain": [
       "<meshplot.Viewer.Viewer at 0x7fbead2c78b0>"
      ]
     },
     "execution_count": 28,
     "metadata": {},
     "output_type": "execute_result"
    }
   ],
   "source": [
    "v = np.asarray(smoothed.vertices)\n",
    "f = np.asarray(smoothed.triangles)\n",
    "# v = np.asarray(smoothed_mesh.vertex_matrix())\n",
    "# f = np.asarray(smoothed_mesh.face_matrix())\n",
    "\n",
    "mp.plot(v, f, shading={\"wireframe\": False})\n"
   ]
  },
  {
   "cell_type": "code",
   "execution_count": null,
   "id": "2c1a3e64-4cf8-41b9-a74f-181326ba704d",
   "metadata": {},
   "outputs": [],
   "source": []
  },
  {
   "cell_type": "code",
   "execution_count": null,
   "id": "5ee80a22-5d45-4009-bd5a-89bf52eff541",
   "metadata": {},
   "outputs": [],
   "source": []
  },
  {
   "cell_type": "code",
   "execution_count": null,
   "id": "a88b3eb3-face-4de5-a77d-3b3283d87530",
   "metadata": {},
   "outputs": [],
   "source": []
  },
  {
   "cell_type": "code",
   "execution_count": null,
   "id": "de55582e-f988-412a-8860-78e928c95da4",
   "metadata": {},
   "outputs": [],
   "source": []
  }
 ],
 "metadata": {
  "kernelspec": {
   "display_name": "mpmpytorch",
   "language": "python",
   "name": "mpmpytorch"
  },
  "language_info": {
   "codemirror_mode": {
    "name": "ipython",
    "version": 3
   },
   "file_extension": ".py",
   "mimetype": "text/x-python",
   "name": "python",
   "nbconvert_exporter": "python",
   "pygments_lexer": "ipython3",
   "version": "3.9.23"
  }
 },
 "nbformat": 4,
 "nbformat_minor": 5
}
