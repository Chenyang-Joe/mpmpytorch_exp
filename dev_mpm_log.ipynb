{
 "cells": [
  {
   "cell_type": "code",
   "execution_count": 1,
   "id": "40276e22-5df6-4d13-ab35-98716bd53cf9",
   "metadata": {},
   "outputs": [
    {
     "name": "stdout",
     "output_type": "stream",
     "text": [
      "hello\n"
     ]
    }
   ],
   "source": [
    "print(\"hello\")"
   ]
  },
  {
   "cell_type": "code",
   "execution_count": 2,
   "id": "709b789d-e394-4495-a387-a5daeecd7c3b",
   "metadata": {},
   "outputs": [
    {
     "name": "stdout",
     "output_type": "stream",
     "text": [
      "Warp 0.6.1 initialized:\n",
      "   CUDA Toolkit: 11.5, Driver: 12.2\n",
      "   Devices:\n",
      "     \"cpu\"    | x86_64\n",
      "     \"cuda:0\" | NVIDIA GeForce RTX 3090 (sm_86)\n",
      "     \"cuda:1\" | NVIDIA GeForce RTX 3090 (sm_86)\n",
      "   Kernel cache: /home/cx2219/.cache/warp/0.6.1\n",
      "Jupyter environment detected. Enabling Open3D WebVisualizer.\n",
      "[Open3D INFO] WebRTC GUI backend enabled.\n",
      "[Open3D INFO] WebRTCWindowSystem: HTTP handshake server disabled.\n"
     ]
    }
   ],
   "source": [
    "import os\n",
    "import trimesh\n",
    "import meshplot as mp\n",
    "import numpy as np\n",
    "import torch\n",
    "from torch import Tensor\n",
    "from typing import *\n",
    "from mpm_pytorch import MPMSolver, set_boundary_conditions, get_constitutive\n",
    "from tqdm.notebook import tqdm  \n",
    "from functools import partial\n",
    "\n",
    "import matplotlib.pyplot as plt\n",
    "from matplotlib.animation import FuncAnimation\n",
    "\n",
    "from scipy import ndimage\n",
    "from scipy.ndimage import gaussian_filter\n",
    "from skimage import measure\n",
    "import open3d as o3d\n",
    "import gc\n",
    "\n"
   ]
  },
  {
   "cell_type": "code",
   "execution_count": 3,
   "id": "cac39e66-ca63-4b9f-8c1d-7b23918fca55",
   "metadata": {},
   "outputs": [],
   "source": [
    "def tensor_size_in_MB(tensor):\n",
    "    return tensor.element_size() * tensor.nelement() / 1e6  # in MB\n",
    "\n",
    "def list_gpu_tensors():\n",
    "    all_tensors = []\n",
    "    total_tensor_mem = 0.0\n",
    "\n",
    "    for obj in gc.get_objects():\n",
    "        try:\n",
    "            if torch.is_tensor(obj) or (hasattr(obj, 'data') and torch.is_tensor(obj.data)):\n",
    "                if obj.is_cuda:\n",
    "                    size_mb = tensor_size_in_MB(obj)\n",
    "                    total_tensor_mem += size_mb\n",
    "                    all_tensors.append((size_mb, obj.shape, type(obj), obj.device))\n",
    "        except Exception:\n",
    "            pass  # ignore inaccessible objects\n",
    "\n",
    "    # Sort by size\n",
    "    all_tensors.sort(reverse=True, key=lambda x: x[0])\n",
    "\n",
    "    print(f\"{'Size (MB)':>10} | {'Shape':>20} | {'Type':>30} | {'Device':>10}\")\n",
    "    print(\"-\" * 80)\n",
    "    for size_mb, shape, typ, device in all_tensors:\n",
    "        print(f\"{size_mb:10.2f} | {str(shape):>20} | {str(typ):>30} | {str(device):>10}\")\n",
    "\n",
    "    print(\"\\n\")\n",
    "    print(f\"🧠 Total memory of live tensors: {total_tensor_mem:.2f} MB\")\n",
    "    print(f\"📦 torch.cuda.memory_allocated(): {torch.cuda.memory_allocated() / 1e6:.2f} MB\")\n",
    "    print(f\"🔒 torch.cuda.memory_reserved():  {torch.cuda.memory_reserved() / 1e6:.2f} MB\")"
   ]
  },
  {
   "cell_type": "code",
   "execution_count": 4,
   "id": "1919684c-0585-49bb-86d0-ba24836ebf83",
   "metadata": {},
   "outputs": [],
   "source": [
    "def visualize_frames(\n",
    "    frames: List[np.ndarray], \n",
    "    export_path: str, \n",
    "    center: List[float] = [0.5, 0.5, 0.5],\n",
    "    size: List[float] = [2.0, 2.0, 2.0],\n",
    "    c: str = 'blue',\n",
    "    s: float = 20,\n",
    "    fps: int = 30,\n",
    "    sample_rate: int = 1\n",
    "): \n",
    "    xlim = [center[0] - size[0] / 2, center[0] + size[0] / 2]\n",
    "    ylim = [center[1] - size[1] / 2, center[1] + size[1] / 2]\n",
    "    zlim = [center[2] - size[2] / 2, center[2] + size[2] / 2]\n",
    "    fig = plt.figure()\n",
    "    ax = fig.add_subplot(111, projection='3d')\n",
    "    scat = ax.scatter([], [], [], s=s)\n",
    "    ax.set_xlim(xlim)\n",
    "    ax.set_ylim(ylim)\n",
    "    ax.set_zlim(zlim)\n",
    "    def update(frame):\n",
    "        print(f\"updating the {frame}/{len(frames)} frame\")\n",
    "        ax.cla()\n",
    "        ax.set_xlim(xlim)\n",
    "        ax.set_ylim(ylim)\n",
    "        ax.set_zlim(zlim)\n",
    "        scat = ax.scatter(frames[frame][:, 0], frames[frame][:, 1], frames[frame][:, 2], s=s, c=c)\n",
    "        ax.set_title(f'Frame {frame * sample_rate}')\n",
    "        return scat\n",
    "    ani = FuncAnimation(fig, update, frames=len(frames), blit=False)\n",
    "    ani.save(export_path, writer='pillow', fps=fps)\n",
    "    plt.close()"
   ]
  },
  {
   "cell_type": "code",
   "execution_count": 5,
   "id": "b2153ae0-878b-40a0-af91-fb7614b33661",
   "metadata": {},
   "outputs": [],
   "source": [
    "# parameters\n",
    "grid_res = 300\n",
    "\n",
    "output_dir =  \"./output\"\n",
    "tag = \"jupytertest\"\n",
    "\n",
    "elasticity_type = 'CorotatedElasticity'\n",
    "plasticity_type = 'DruckerPragerPlasticity'\n",
    "color = 'blue'\n",
    "\n",
    "model_path = f\"models/cranium_example_ds_{grid_res}.obj\"\n",
    "scale_factor = 0.6\n",
    "\n",
    "num_frames = 70\n",
    "steps_per_frame = 10\n",
    "initial_velocity = [0.0, 0.0, 0.0]\n",
    "boundary_conditions = [{\"type\": 'sdf_collider_test',\n",
    "      \"start_time\": 0.0,\n",
    "      \"end_time\": 1e3}]\n",
    "\n",
    "sample_rate = 10\n",
    "obj_name = model_path.split(\"/\")[-1].split(\".\")[0] + \"_\" + tag\n",
    "export_path = os.path.join(output_dir, obj_name + \"_deformation.gif\")"
   ]
  },
  {
   "cell_type": "markdown",
   "id": "ad0110a9-895c-40ca-b08d-8b9c35ac0a60",
   "metadata": {},
   "source": [
    "# Import Point Cloud"
   ]
  },
  {
   "cell_type": "code",
   "execution_count": 6,
   "id": "8ba6f32b-bc82-4270-953f-b48bde7d1688",
   "metadata": {},
   "outputs": [
    {
     "data": {
      "application/vnd.jupyter.widget-view+json": {
       "model_id": "9dc60bffc76e4301966891dea79ea9c2",
       "version_major": 2,
       "version_minor": 0
      },
      "text/plain": [
       "Renderer(camera=PerspectiveCamera(children=(DirectionalLight(color='white', intensity=0.6, position=(0.3093645…"
      ]
     },
     "metadata": {},
     "output_type": "display_data"
    },
    {
     "data": {
      "text/plain": [
       "<meshplot.Viewer.Viewer at 0x7f44b75dfa90>"
      ]
     },
     "execution_count": 6,
     "metadata": {},
     "output_type": "execute_result"
    }
   ],
   "source": [
    "mesh = trimesh.load(model_path)\n",
    "\n",
    "v = np.asarray(mesh.vertices)\n",
    "\n",
    "#     set_boundary_conditions(mpm_solver, sim_params.boundary_conditions)\n",
    "\n",
    "# mesh.vertices = o3d.utility.Vector3dVector(v)\n",
    "# v = np.asarray(mesh.vertices)\n",
    "\n",
    "# Step 3: Visualize using meshplot\n",
    "mp.plot(v, shading={\"wireframe\": False})\n"
   ]
  },
  {
   "cell_type": "markdown",
   "id": "e9d2002f-876e-465e-b668-932e1290d3e1",
   "metadata": {},
   "source": [
    "# create particles"
   ]
  },
  {
   "cell_type": "code",
   "execution_count": 7,
   "id": "e9ef7df3-9958-4640-a22e-8da8a4743488",
   "metadata": {},
   "outputs": [],
   "source": [
    "def get_pc_from_v(\n",
    "    vertices: np.array,\n",
    "    scale: float,\n",
    "    center: List[float], \n",
    "    device: torch.device = torch.device(\"cuda\")\n",
    ") -> Tensor:\n",
    "    points = torch.tensor(vertices, dtype=torch.float32)\n",
    "\n",
    "    # Scale about center\n",
    "    center_tensor = torch.tensor(center, dtype=torch.float32)\n",
    "    points = (points - center_tensor) * scale + center_tensor\n",
    "\n",
    "    return points.to(device)"
   ]
  },
  {
   "cell_type": "code",
   "execution_count": 8,
   "id": "81dce260-0930-4cf8-8abb-6dba5d28a467",
   "metadata": {},
   "outputs": [],
   "source": [
    "device = torch.device(\"cuda:0\" if torch.cuda.is_available() else \"cpu\")\n",
    "particles = get_pc_from_v(\n",
    "    vertices = v,\n",
    "    device = device,\n",
    "    center=[0.5, 0.5, 0.5], \n",
    "    scale=scale_factor\n",
    ")\n",
    "n_particles = particles.shape[0]"
   ]
  },
  {
   "cell_type": "code",
   "execution_count": 9,
   "id": "0d36a6c7-a45a-436a-9f4d-ffc1e8f3e1c1",
   "metadata": {
    "scrolled": true
   },
   "outputs": [
    {
     "data": {
      "application/vnd.jupyter.widget-view+json": {
       "model_id": "a680c0fe0696492ba59dae2a92dfecfc",
       "version_major": 2,
       "version_minor": 0
      },
      "text/plain": [
       "Renderer(camera=PerspectiveCamera(children=(DirectionalLight(color='white', intensity=0.6, position=(0.3856187…"
      ]
     },
     "metadata": {},
     "output_type": "display_data"
    },
    {
     "data": {
      "text/plain": [
       "<meshplot.Viewer.Viewer at 0x7f44b6d873d0>"
      ]
     },
     "execution_count": 9,
     "metadata": {},
     "output_type": "execute_result"
    }
   ],
   "source": [
    "particles_show = particles.clone()\n",
    "v = particles_show.cpu().numpy()\n",
    "mp.plot(v, shading={\"wireframe\": False})\n"
   ]
  },
  {
   "cell_type": "markdown",
   "id": "ae0912cb-d174-435c-8861-e97a788790ea",
   "metadata": {},
   "source": [
    "# deform"
   ]
  },
  {
   "cell_type": "code",
   "execution_count": 10,
   "id": "1fe682ad-6ff8-4080-bd0b-7e3303ec2275",
   "metadata": {},
   "outputs": [],
   "source": [
    "n_particles = particles.shape[0]\n",
    "mpm_solver = MPMSolver(\n",
    "    particles, \n",
    "    enable_train=False,\n",
    "    device=device,\n",
    "    gravity=[0.0, 0.0, 0.0]\n",
    ")\n",
    "# set_boundary_conditions(mpm_solver,boundary_conditions)\n",
    "elasticity = get_constitutive(elasticity_type, device=device)\n",
    "plasticity = get_constitutive(plasticity_type, device=device)\n"
   ]
  },
  {
   "cell_type": "markdown",
   "id": "e7d384fa-0037-40e8-956b-ae61e5186aec",
   "metadata": {},
   "source": [
    "# my deformation"
   ]
  },
  {
   "cell_type": "code",
   "execution_count": 11,
   "id": "ed3f82aa-5766-43a5-8332-85e227aea754",
   "metadata": {},
   "outputs": [],
   "source": [
    "def add_pre_particle_process(model: MPMSolver, select:Tensor, direction:list[float], start_time: float =0.0, end_time: float=999.0):\n",
    "    # select\n",
    "    def my_deform(model: MPMSolver, x: Tensor, v:Tensor, start_time: float, end_time:float, select: Tensor):\n",
    "\n",
    "        time = model.time\n",
    "        unit_displacement = torch.tensor(direction, device=model.device).float()\n",
    "        unit_displacement = unit_displacement / unit_displacement.norm()\n",
    "        displacement = 0.000001\n",
    "        if time >= start_time and time < end_time:\n",
    "            # x[select] = x[select] + unit_displacement * displacement\n",
    "            v[select] = v[select] + unit_displacement * displacement/model.dt\n",
    "\n",
    "\n",
    "    \n",
    "    model.pre_particle_process.append(\n",
    "        partial(\n",
    "            my_deform,\n",
    "            start_time=start_time,\n",
    "            end_time=end_time,\n",
    "            select = select\n",
    "        )\n",
    "    )"
   ]
  },
  {
   "cell_type": "code",
   "execution_count": null,
   "id": "2ee3fdeb-57f4-427e-8d01-091ef9c7fecc",
   "metadata": {},
   "outputs": [],
   "source": []
  },
  {
   "cell_type": "code",
   "execution_count": null,
   "id": "5d6dffee-0017-45c3-9a7d-b048659c7929",
   "metadata": {},
   "outputs": [],
   "source": []
  },
  {
   "cell_type": "code",
   "execution_count": null,
   "id": "b97d9c76-d72a-4ec1-8f10-f6983f0a38f8",
   "metadata": {},
   "outputs": [],
   "source": []
  },
  {
   "cell_type": "code",
   "execution_count": 12,
   "id": "1c66c1c6-d5b5-42bd-9797-865c95c537cb",
   "metadata": {},
   "outputs": [
    {
     "name": "stdout",
     "output_type": "stream",
     "text": [
      "x from 0.20200666785240173 to 0.5692307949066162\n",
      "y from 0.20200666785240173 to 0.7979933023452759\n",
      "z from 0.20200666785240173 to 0.4809364378452301\n"
     ]
    }
   ],
   "source": [
    "coords_static = particles.cpu().numpy()  # Extract x-coordinates\n",
    "\n",
    "x_max = np.max(coords_static[:,0])\n",
    "x_min = np.min(coords_static[:,0])\n",
    "y_max = np.max(coords_static[:,1])\n",
    "y_min = np.min(coords_static[:,1])\n",
    "z_max = np.max(coords_static[:,2])\n",
    "z_min = np.min(coords_static[:,2])\n",
    "print(f\"x from {x_min} to {x_max}\")\n",
    "print(f\"y from {y_min} to {y_max}\")\n",
    "print(f\"z from {z_min} to {z_max}\")\n",
    "\n"
   ]
  },
  {
   "cell_type": "code",
   "execution_count": 13,
   "id": "6eceaf4e-922d-462b-8bbf-70a21a57e0e1",
   "metadata": {},
   "outputs": [],
   "source": [
    "def select_particles(particles, point, normal):\n",
    "    point = torch.tensor(point, device=particles.device, dtype=particles.dtype)\n",
    "    normal = torch.tensor(normal, device=particles.device, dtype=particles.dtype)\n",
    "\n",
    "    diff = particles - point  # shape (N, 3)\n",
    "    dot = torch.matmul(diff, normal)  # (N,)\n",
    "    \n",
    "    return dot < 0  # left side of the plane (negative dot product)"
   ]
  },
  {
   "cell_type": "code",
   "execution_count": 14,
   "id": "b824f7cf-00e9-41da-8b44-6037fc3bb45e",
   "metadata": {},
   "outputs": [
    {
     "name": "stdout",
     "output_type": "stream",
     "text": [
      "🔹 Particles on left side:  183366/1981407 (9.25%)\n",
      "🔸 Particles on right side: 1798041/1981407 (90.75%)\n"
     ]
    },
    {
     "data": {
      "application/vnd.jupyter.widget-view+json": {
       "model_id": "29f7b48b54e041658b1c5feade2bc11b",
       "version_major": 2,
       "version_minor": 0
      },
      "text/plain": [
       "Renderer(camera=PerspectiveCamera(children=(DirectionalLight(color='white', intensity=0.6, position=(0.3856187…"
      ]
     },
     "metadata": {},
     "output_type": "display_data"
    },
    {
     "data": {
      "text/plain": [
       "<meshplot.Viewer.Viewer at 0x7f42680e24f0>"
      ]
     },
     "execution_count": 14,
     "metadata": {},
     "output_type": "execute_result"
    }
   ],
   "source": [
    "# Test points\n",
    "# Define plane\n",
    "point = [0.3, 0.3, 0.4]\n",
    "direction = [-1, 1, -1]\n",
    "\n",
    "# Apply selector\n",
    "select = select_particles(particles, point, direction)\n",
    "\n",
    "# Count\n",
    "num_total = len(particles)\n",
    "num_left = select.sum().item()\n",
    "num_right = num_total - num_left\n",
    "\n",
    "# Percentage\n",
    "pct_left = 100.0 * num_left / num_total\n",
    "pct_right = 100.0 * num_right / num_total\n",
    "\n",
    "print(f\"🔹 Particles on left side:  {num_left}/{num_total} ({pct_left:.2f}%)\")\n",
    "print(f\"🔸 Particles on right side: {num_right}/{num_total} ({pct_right:.2f}%)\")\n",
    "\n",
    "\n",
    "color = torch.zeros(len(particles))\n",
    "color[select] = 0.1  \n",
    "color = color.cpu().numpy()\n",
    "mp.plot(v, c = color, shading={\"wireframe\": False})"
   ]
  },
  {
   "cell_type": "code",
   "execution_count": 15,
   "id": "9a85ecf3-8a9c-4da9-a6f2-e6133334ca5f",
   "metadata": {},
   "outputs": [],
   "source": [
    "point1 = [0.4, 0.4, 0.3]\n",
    "direction1 = [1, 1, 1]\n",
    "point2 = [0.5, 0.6, 0.6]\n",
    "direction2 = [-1, -1, 0.3]\n",
    "point3 = [0.3, 0.3, 0.4]\n",
    "direction3 = [-1, 1, -1]\n",
    "\n",
    "select1 = select_particles(particles, point1, direction1)\n",
    "select2 = select_particles(particles, point2, direction2)\n",
    "select3 = select_particles(particles, point3, direction3)\n"
   ]
  },
  {
   "cell_type": "code",
   "execution_count": 16,
   "id": "ad0a8300-fd81-4b4d-9024-3003487d32cd",
   "metadata": {},
   "outputs": [
    {
     "data": {
      "application/vnd.jupyter.widget-view+json": {
       "model_id": "4c548f381f554632a7460663b4b71ff7",
       "version_major": 2,
       "version_minor": 0
      },
      "text/plain": [
       "Renderer(camera=PerspectiveCamera(children=(DirectionalLight(color='white', intensity=0.6, position=(0.3856187…"
      ]
     },
     "metadata": {},
     "output_type": "display_data"
    },
    {
     "data": {
      "text/plain": [
       "<meshplot.Viewer.Viewer at 0x7f426d7db490>"
      ]
     },
     "execution_count": 16,
     "metadata": {},
     "output_type": "execute_result"
    }
   ],
   "source": [
    "color = torch.zeros(len(particles))\n",
    "color[select1] = 0.2  \n",
    "color[select2] = 0.3\n",
    "color[select3] = 0.4\n",
    "color[select1 & select2] = 0.5\n",
    "color[select1 & select3] = 0.6\n",
    "color[select2 & select3] = 0.7\n",
    "color[select1 & select2 & select3] = 0.8\n",
    "\n",
    "\n",
    "color = color.cpu().numpy()\n",
    "mp.plot(v, c = color, shading={\"wireframe\": False})"
   ]
  },
  {
   "cell_type": "code",
   "execution_count": null,
   "id": "d5c1a9b7-92a6-4a07-8bc3-dd3d94e4e7b1",
   "metadata": {},
   "outputs": [],
   "source": []
  },
  {
   "cell_type": "code",
   "execution_count": null,
   "id": "8c3a95b0-74bf-48e8-aafa-3df477609e81",
   "metadata": {},
   "outputs": [],
   "source": []
  },
  {
   "cell_type": "code",
   "execution_count": null,
   "id": "f698a7ca-5742-472c-bc46-73da9394ff8c",
   "metadata": {},
   "outputs": [],
   "source": []
  },
  {
   "cell_type": "code",
   "execution_count": 17,
   "id": "e2a7ca30-dc3a-44b7-b99b-96a7f38b0764",
   "metadata": {},
   "outputs": [],
   "source": [
    "add_pre_particle_process(mpm_solver, select = select1, direction = direction1)\n",
    "add_pre_particle_process(mpm_solver, select = select2, direction = direction2)\n",
    "add_pre_particle_process(mpm_solver, select = select3, direction = direction3)\n",
    "\n"
   ]
  },
  {
   "cell_type": "code",
   "execution_count": null,
   "id": "70a5e036-f895-4916-8dae-260ea19eae4c",
   "metadata": {},
   "outputs": [],
   "source": []
  },
  {
   "cell_type": "code",
   "execution_count": 18,
   "id": "5466b9f7-8ae3-4a3c-8f4c-7273137b9b1c",
   "metadata": {},
   "outputs": [
    {
     "name": "stdout",
     "output_type": "stream",
     "text": [
      " Size (MB) |                Shape |                           Type |     Device\n",
      "--------------------------------------------------------------------------------\n",
      "     23.78 | torch.Size([1981407, 3]) |         <class 'torch.Tensor'> |     cuda:0\n",
      "     23.78 | torch.Size([1981407, 3]) |         <class 'torch.Tensor'> |     cuda:0\n",
      "     23.78 | torch.Size([1981407, 3]) |         <class 'torch.Tensor'> |     cuda:0\n",
      "      1.98 | torch.Size([1981407]) |         <class 'torch.Tensor'> |     cuda:0\n",
      "      1.98 | torch.Size([1981407]) |         <class 'torch.Tensor'> |     cuda:0\n",
      "      1.98 | torch.Size([1981407]) |         <class 'torch.Tensor'> |     cuda:0\n",
      "      1.98 | torch.Size([1981407]) |         <class 'torch.Tensor'> |     cuda:0\n",
      "      0.19 | torch.Size([15625, 3]) |         <class 'torch.Tensor'> |     cuda:0\n",
      "      0.19 | torch.Size([15625, 3]) |         <class 'torch.Tensor'> |     cuda:0\n",
      "      0.06 |  torch.Size([15625]) |         <class 'torch.Tensor'> |     cuda:0\n",
      "      0.00 |  torch.Size([27, 3]) |         <class 'torch.Tensor'> |     cuda:0\n",
      "      0.00 |      torch.Size([3]) |         <class 'torch.Tensor'> |     cuda:0\n",
      "      0.00 |      torch.Size([1]) |         <class 'torch.Tensor'> |     cuda:0\n",
      "      0.00 |      torch.Size([1]) |         <class 'torch.Tensor'> |     cuda:0\n",
      "      0.00 |      torch.Size([1]) |         <class 'torch.Tensor'> |     cuda:0\n",
      "      0.00 |      torch.Size([1]) |         <class 'torch.Tensor'> |     cuda:0\n",
      "      0.00 |      torch.Size([1]) |         <class 'torch.Tensor'> |     cuda:0\n",
      "      0.00 |      torch.Size([1]) |         <class 'torch.Tensor'> |     cuda:0\n",
      "      0.00 |      torch.Size([1]) | <class 'torch.nn.parameter.Parameter'> |     cuda:0\n",
      "      0.00 |      torch.Size([1]) | <class 'torch.nn.parameter.Parameter'> |     cuda:0\n",
      "\n",
      "\n",
      "🧠 Total memory of live tensors: 79.69 MB\n",
      "📦 torch.cuda.memory_allocated(): 65.01 MB\n",
      "🔒 torch.cuda.memory_reserved():  119.54 MB\n"
     ]
    },
    {
     "name": "stderr",
     "output_type": "stream",
     "text": [
      "/home/cx2219/miniconda3/envs/mpmpytorch/lib/python3.9/site-packages/torch/__init__.py:1117: FutureWarning: `torch.distributed.reduce_op` is deprecated, please use `torch.distributed.ReduceOp` instead\n",
      "  return isinstance(obj, torch.Tensor)\n",
      "/tmp/ipykernel_2135208/2949170866.py:10: FutureWarning: `torch.distributed.reduce_op` is deprecated, please use `torch.distributed.ReduceOp` instead\n",
      "  if torch.is_tensor(obj) or (hasattr(obj, 'data') and torch.is_tensor(obj.data)):\n"
     ]
    }
   ],
   "source": [
    "list_gpu_tensors()"
   ]
  },
  {
   "cell_type": "code",
   "execution_count": 19,
   "id": "4c3ac160-e6ad-40a3-9c06-1bffab0309c4",
   "metadata": {},
   "outputs": [],
   "source": [
    "# Initialize particle states\n",
    "x = particles\n",
    "v = torch.stack([torch.tensor(initial_velocity, device=device) for _ in range(n_particles)])\n",
    "C = torch.zeros((n_particles, 3, 3), device=device)\n",
    "F = torch.eye(3, device=device).unsqueeze(0).repeat(n_particles, 1, 1)\n"
   ]
  },
  {
   "cell_type": "code",
   "execution_count": 20,
   "id": "b312e79e-308b-4390-a8ce-b53319854a08",
   "metadata": {
    "scrolled": true
   },
   "outputs": [
    {
     "data": {
      "application/vnd.jupyter.widget-view+json": {
       "model_id": "90be076b646a454ca203790d328933b3",
       "version_major": 2,
       "version_minor": 0
      },
      "text/plain": [
       "Simulating:   0%|          | 0/70 [00:00<?, ?it/s]"
      ]
     },
     "metadata": {},
     "output_type": "display_data"
    },
    {
     "data": {
      "application/vnd.jupyter.widget-view+json": {
       "model_id": "5bdec647f99f445c936ca03f8c2cf067",
       "version_major": 2,
       "version_minor": 0
      },
      "text/plain": [
       "Step:   0%|          | 0/10 [00:00<?, ?it/s]"
      ]
     },
     "metadata": {},
     "output_type": "display_data"
    },
    {
     "name": "stdout",
     "output_type": "stream",
     "text": [
      "Module mpm_pytorch.constitutive_models.warp_svd.svd load on device 'cuda:0' took 1.01 ms\n"
     ]
    },
    {
     "data": {
      "application/vnd.jupyter.widget-view+json": {
       "model_id": "6a038b5f948749318f598c0a1c100b96",
       "version_major": 2,
       "version_minor": 0
      },
      "text/plain": [
       "Step:   0%|          | 0/10 [00:00<?, ?it/s]"
      ]
     },
     "metadata": {},
     "output_type": "display_data"
    },
    {
     "data": {
      "application/vnd.jupyter.widget-view+json": {
       "model_id": "d69a22126b5c4513bd22b44fee89bee7",
       "version_major": 2,
       "version_minor": 0
      },
      "text/plain": [
       "Step:   0%|          | 0/10 [00:00<?, ?it/s]"
      ]
     },
     "metadata": {},
     "output_type": "display_data"
    },
    {
     "data": {
      "application/vnd.jupyter.widget-view+json": {
       "model_id": "a1fea1950f3e44c79c01be7cef25b2ca",
       "version_major": 2,
       "version_minor": 0
      },
      "text/plain": [
       "Step:   0%|          | 0/10 [00:00<?, ?it/s]"
      ]
     },
     "metadata": {},
     "output_type": "display_data"
    },
    {
     "data": {
      "application/vnd.jupyter.widget-view+json": {
       "model_id": "90194fe45b2c4875b3475518d1f60b91",
       "version_major": 2,
       "version_minor": 0
      },
      "text/plain": [
       "Step:   0%|          | 0/10 [00:00<?, ?it/s]"
      ]
     },
     "metadata": {},
     "output_type": "display_data"
    },
    {
     "data": {
      "application/vnd.jupyter.widget-view+json": {
       "model_id": "c6a33fbcbe22493fab97b58be69903f9",
       "version_major": 2,
       "version_minor": 0
      },
      "text/plain": [
       "Step:   0%|          | 0/10 [00:00<?, ?it/s]"
      ]
     },
     "metadata": {},
     "output_type": "display_data"
    },
    {
     "data": {
      "application/vnd.jupyter.widget-view+json": {
       "model_id": "4aabedc2c4ad4a5d82800b593a31c9d2",
       "version_major": 2,
       "version_minor": 0
      },
      "text/plain": [
       "Step:   0%|          | 0/10 [00:00<?, ?it/s]"
      ]
     },
     "metadata": {},
     "output_type": "display_data"
    },
    {
     "data": {
      "application/vnd.jupyter.widget-view+json": {
       "model_id": "7f088129029143f7b55fb9850276d116",
       "version_major": 2,
       "version_minor": 0
      },
      "text/plain": [
       "Step:   0%|          | 0/10 [00:00<?, ?it/s]"
      ]
     },
     "metadata": {},
     "output_type": "display_data"
    },
    {
     "data": {
      "application/vnd.jupyter.widget-view+json": {
       "model_id": "35cc78daefc74e24a528bf36e19fa739",
       "version_major": 2,
       "version_minor": 0
      },
      "text/plain": [
       "Step:   0%|          | 0/10 [00:00<?, ?it/s]"
      ]
     },
     "metadata": {},
     "output_type": "display_data"
    },
    {
     "data": {
      "application/vnd.jupyter.widget-view+json": {
       "model_id": "71a52088cfc74d17bf9bce27474bb306",
       "version_major": 2,
       "version_minor": 0
      },
      "text/plain": [
       "Step:   0%|          | 0/10 [00:00<?, ?it/s]"
      ]
     },
     "metadata": {},
     "output_type": "display_data"
    },
    {
     "data": {
      "application/vnd.jupyter.widget-view+json": {
       "model_id": "255b2c3ae30a4af881a423ed72cb7598",
       "version_major": 2,
       "version_minor": 0
      },
      "text/plain": [
       "Step:   0%|          | 0/10 [00:00<?, ?it/s]"
      ]
     },
     "metadata": {},
     "output_type": "display_data"
    },
    {
     "data": {
      "application/vnd.jupyter.widget-view+json": {
       "model_id": "716fe7a3ef374b759f4a3d2a822668b9",
       "version_major": 2,
       "version_minor": 0
      },
      "text/plain": [
       "Step:   0%|          | 0/10 [00:00<?, ?it/s]"
      ]
     },
     "metadata": {},
     "output_type": "display_data"
    },
    {
     "data": {
      "application/vnd.jupyter.widget-view+json": {
       "model_id": "5624c35cac05484aa1b35a41548b7010",
       "version_major": 2,
       "version_minor": 0
      },
      "text/plain": [
       "Step:   0%|          | 0/10 [00:00<?, ?it/s]"
      ]
     },
     "metadata": {},
     "output_type": "display_data"
    },
    {
     "data": {
      "application/vnd.jupyter.widget-view+json": {
       "model_id": "6e7da02f0b9647e1a22205add0509fbd",
       "version_major": 2,
       "version_minor": 0
      },
      "text/plain": [
       "Step:   0%|          | 0/10 [00:00<?, ?it/s]"
      ]
     },
     "metadata": {},
     "output_type": "display_data"
    },
    {
     "data": {
      "application/vnd.jupyter.widget-view+json": {
       "model_id": "3b17285fc66946e6aeb38b89ca3764e4",
       "version_major": 2,
       "version_minor": 0
      },
      "text/plain": [
       "Step:   0%|          | 0/10 [00:00<?, ?it/s]"
      ]
     },
     "metadata": {},
     "output_type": "display_data"
    },
    {
     "data": {
      "application/vnd.jupyter.widget-view+json": {
       "model_id": "142d8526503b4015a892d53a9f6b5ebc",
       "version_major": 2,
       "version_minor": 0
      },
      "text/plain": [
       "Step:   0%|          | 0/10 [00:00<?, ?it/s]"
      ]
     },
     "metadata": {},
     "output_type": "display_data"
    },
    {
     "data": {
      "application/vnd.jupyter.widget-view+json": {
       "model_id": "2eb16d7f61634a9fa0bc69d782096da3",
       "version_major": 2,
       "version_minor": 0
      },
      "text/plain": [
       "Step:   0%|          | 0/10 [00:00<?, ?it/s]"
      ]
     },
     "metadata": {},
     "output_type": "display_data"
    },
    {
     "data": {
      "application/vnd.jupyter.widget-view+json": {
       "model_id": "3e99ce763b2248b2bf33d49635fc875b",
       "version_major": 2,
       "version_minor": 0
      },
      "text/plain": [
       "Step:   0%|          | 0/10 [00:00<?, ?it/s]"
      ]
     },
     "metadata": {},
     "output_type": "display_data"
    },
    {
     "data": {
      "application/vnd.jupyter.widget-view+json": {
       "model_id": "aa107ef743aa4db0ac087372c04ca863",
       "version_major": 2,
       "version_minor": 0
      },
      "text/plain": [
       "Step:   0%|          | 0/10 [00:00<?, ?it/s]"
      ]
     },
     "metadata": {},
     "output_type": "display_data"
    },
    {
     "data": {
      "application/vnd.jupyter.widget-view+json": {
       "model_id": "eaaa4839028e4901bfbe33ee535954de",
       "version_major": 2,
       "version_minor": 0
      },
      "text/plain": [
       "Step:   0%|          | 0/10 [00:00<?, ?it/s]"
      ]
     },
     "metadata": {},
     "output_type": "display_data"
    },
    {
     "data": {
      "application/vnd.jupyter.widget-view+json": {
       "model_id": "0d23b2e909814b4795dddc1c98cfccad",
       "version_major": 2,
       "version_minor": 0
      },
      "text/plain": [
       "Step:   0%|          | 0/10 [00:00<?, ?it/s]"
      ]
     },
     "metadata": {},
     "output_type": "display_data"
    },
    {
     "data": {
      "application/vnd.jupyter.widget-view+json": {
       "model_id": "72709f4458fb43088afcbcbd892d24b4",
       "version_major": 2,
       "version_minor": 0
      },
      "text/plain": [
       "Step:   0%|          | 0/10 [00:00<?, ?it/s]"
      ]
     },
     "metadata": {},
     "output_type": "display_data"
    },
    {
     "data": {
      "application/vnd.jupyter.widget-view+json": {
       "model_id": "f406aed5982b47638af5adea1fc9feb8",
       "version_major": 2,
       "version_minor": 0
      },
      "text/plain": [
       "Step:   0%|          | 0/10 [00:00<?, ?it/s]"
      ]
     },
     "metadata": {},
     "output_type": "display_data"
    },
    {
     "data": {
      "application/vnd.jupyter.widget-view+json": {
       "model_id": "1437087f5bb646fab1741758e1549139",
       "version_major": 2,
       "version_minor": 0
      },
      "text/plain": [
       "Step:   0%|          | 0/10 [00:00<?, ?it/s]"
      ]
     },
     "metadata": {},
     "output_type": "display_data"
    },
    {
     "data": {
      "application/vnd.jupyter.widget-view+json": {
       "model_id": "bd7183f2d78645ad9049f2a1e69d2cd2",
       "version_major": 2,
       "version_minor": 0
      },
      "text/plain": [
       "Step:   0%|          | 0/10 [00:00<?, ?it/s]"
      ]
     },
     "metadata": {},
     "output_type": "display_data"
    },
    {
     "data": {
      "application/vnd.jupyter.widget-view+json": {
       "model_id": "07dc587adf4d4055bf36d64a5f6f53cb",
       "version_major": 2,
       "version_minor": 0
      },
      "text/plain": [
       "Step:   0%|          | 0/10 [00:00<?, ?it/s]"
      ]
     },
     "metadata": {},
     "output_type": "display_data"
    },
    {
     "data": {
      "application/vnd.jupyter.widget-view+json": {
       "model_id": "6451d3e4706c49fd913097d7a26ac51b",
       "version_major": 2,
       "version_minor": 0
      },
      "text/plain": [
       "Step:   0%|          | 0/10 [00:00<?, ?it/s]"
      ]
     },
     "metadata": {},
     "output_type": "display_data"
    },
    {
     "data": {
      "application/vnd.jupyter.widget-view+json": {
       "model_id": "146b018c2c2d4c23b758a3def335d7f3",
       "version_major": 2,
       "version_minor": 0
      },
      "text/plain": [
       "Step:   0%|          | 0/10 [00:00<?, ?it/s]"
      ]
     },
     "metadata": {},
     "output_type": "display_data"
    },
    {
     "data": {
      "application/vnd.jupyter.widget-view+json": {
       "model_id": "e226bb23319a4148a19ce38b02d7a369",
       "version_major": 2,
       "version_minor": 0
      },
      "text/plain": [
       "Step:   0%|          | 0/10 [00:00<?, ?it/s]"
      ]
     },
     "metadata": {},
     "output_type": "display_data"
    },
    {
     "data": {
      "application/vnd.jupyter.widget-view+json": {
       "model_id": "6320bf6821fc4808a44a834715880263",
       "version_major": 2,
       "version_minor": 0
      },
      "text/plain": [
       "Step:   0%|          | 0/10 [00:00<?, ?it/s]"
      ]
     },
     "metadata": {},
     "output_type": "display_data"
    },
    {
     "data": {
      "application/vnd.jupyter.widget-view+json": {
       "model_id": "ecab84f44a034c1a839998b8759f439b",
       "version_major": 2,
       "version_minor": 0
      },
      "text/plain": [
       "Step:   0%|          | 0/10 [00:00<?, ?it/s]"
      ]
     },
     "metadata": {},
     "output_type": "display_data"
    },
    {
     "data": {
      "application/vnd.jupyter.widget-view+json": {
       "model_id": "3746d9a24a2d4a4bbd9ad06310c8f20f",
       "version_major": 2,
       "version_minor": 0
      },
      "text/plain": [
       "Step:   0%|          | 0/10 [00:00<?, ?it/s]"
      ]
     },
     "metadata": {},
     "output_type": "display_data"
    },
    {
     "data": {
      "application/vnd.jupyter.widget-view+json": {
       "model_id": "fd568c116d5c43c1b59e84b680c73702",
       "version_major": 2,
       "version_minor": 0
      },
      "text/plain": [
       "Step:   0%|          | 0/10 [00:00<?, ?it/s]"
      ]
     },
     "metadata": {},
     "output_type": "display_data"
    },
    {
     "data": {
      "application/vnd.jupyter.widget-view+json": {
       "model_id": "28157c1ed7ab4b3ba2ee19b11cbf64fa",
       "version_major": 2,
       "version_minor": 0
      },
      "text/plain": [
       "Step:   0%|          | 0/10 [00:00<?, ?it/s]"
      ]
     },
     "metadata": {},
     "output_type": "display_data"
    },
    {
     "data": {
      "application/vnd.jupyter.widget-view+json": {
       "model_id": "4b6ef814e798435e8fcf5f8694e9cb0d",
       "version_major": 2,
       "version_minor": 0
      },
      "text/plain": [
       "Step:   0%|          | 0/10 [00:00<?, ?it/s]"
      ]
     },
     "metadata": {},
     "output_type": "display_data"
    },
    {
     "data": {
      "application/vnd.jupyter.widget-view+json": {
       "model_id": "0c753d6838a54b36988a4c0dfb0f05ed",
       "version_major": 2,
       "version_minor": 0
      },
      "text/plain": [
       "Step:   0%|          | 0/10 [00:00<?, ?it/s]"
      ]
     },
     "metadata": {},
     "output_type": "display_data"
    },
    {
     "data": {
      "application/vnd.jupyter.widget-view+json": {
       "model_id": "cf7439ffea814c8593ac2ede2288e447",
       "version_major": 2,
       "version_minor": 0
      },
      "text/plain": [
       "Step:   0%|          | 0/10 [00:00<?, ?it/s]"
      ]
     },
     "metadata": {},
     "output_type": "display_data"
    },
    {
     "data": {
      "application/vnd.jupyter.widget-view+json": {
       "model_id": "8e8e10252709458aaa86b1064276be20",
       "version_major": 2,
       "version_minor": 0
      },
      "text/plain": [
       "Step:   0%|          | 0/10 [00:00<?, ?it/s]"
      ]
     },
     "metadata": {},
     "output_type": "display_data"
    },
    {
     "data": {
      "application/vnd.jupyter.widget-view+json": {
       "model_id": "448f869c09634a87b2233023c959cb53",
       "version_major": 2,
       "version_minor": 0
      },
      "text/plain": [
       "Step:   0%|          | 0/10 [00:00<?, ?it/s]"
      ]
     },
     "metadata": {},
     "output_type": "display_data"
    },
    {
     "data": {
      "application/vnd.jupyter.widget-view+json": {
       "model_id": "d52acec5cad04b56a0795b86e4fa08d6",
       "version_major": 2,
       "version_minor": 0
      },
      "text/plain": [
       "Step:   0%|          | 0/10 [00:00<?, ?it/s]"
      ]
     },
     "metadata": {},
     "output_type": "display_data"
    },
    {
     "data": {
      "application/vnd.jupyter.widget-view+json": {
       "model_id": "10386cd1addd4b05b91d28fc38b02a64",
       "version_major": 2,
       "version_minor": 0
      },
      "text/plain": [
       "Step:   0%|          | 0/10 [00:00<?, ?it/s]"
      ]
     },
     "metadata": {},
     "output_type": "display_data"
    },
    {
     "data": {
      "application/vnd.jupyter.widget-view+json": {
       "model_id": "11ceefd019b74a14ae602438625797b2",
       "version_major": 2,
       "version_minor": 0
      },
      "text/plain": [
       "Step:   0%|          | 0/10 [00:00<?, ?it/s]"
      ]
     },
     "metadata": {},
     "output_type": "display_data"
    },
    {
     "data": {
      "application/vnd.jupyter.widget-view+json": {
       "model_id": "fda799b383a44a85b4b8564a5321fa25",
       "version_major": 2,
       "version_minor": 0
      },
      "text/plain": [
       "Step:   0%|          | 0/10 [00:00<?, ?it/s]"
      ]
     },
     "metadata": {},
     "output_type": "display_data"
    },
    {
     "data": {
      "application/vnd.jupyter.widget-view+json": {
       "model_id": "290485b9b14448869d34787cad08a76c",
       "version_major": 2,
       "version_minor": 0
      },
      "text/plain": [
       "Step:   0%|          | 0/10 [00:00<?, ?it/s]"
      ]
     },
     "metadata": {},
     "output_type": "display_data"
    },
    {
     "data": {
      "application/vnd.jupyter.widget-view+json": {
       "model_id": "467fdf2d6c954ef8bde1fa55a9aa12e9",
       "version_major": 2,
       "version_minor": 0
      },
      "text/plain": [
       "Step:   0%|          | 0/10 [00:00<?, ?it/s]"
      ]
     },
     "metadata": {},
     "output_type": "display_data"
    },
    {
     "data": {
      "application/vnd.jupyter.widget-view+json": {
       "model_id": "6120ed42c4804cd08b846c4625b2a225",
       "version_major": 2,
       "version_minor": 0
      },
      "text/plain": [
       "Step:   0%|          | 0/10 [00:00<?, ?it/s]"
      ]
     },
     "metadata": {},
     "output_type": "display_data"
    },
    {
     "data": {
      "application/vnd.jupyter.widget-view+json": {
       "model_id": "6b425937801a48809acf03630523a74b",
       "version_major": 2,
       "version_minor": 0
      },
      "text/plain": [
       "Step:   0%|          | 0/10 [00:00<?, ?it/s]"
      ]
     },
     "metadata": {},
     "output_type": "display_data"
    },
    {
     "data": {
      "application/vnd.jupyter.widget-view+json": {
       "model_id": "a9626c7b8a744fc4a7cb14330c8666dc",
       "version_major": 2,
       "version_minor": 0
      },
      "text/plain": [
       "Step:   0%|          | 0/10 [00:00<?, ?it/s]"
      ]
     },
     "metadata": {},
     "output_type": "display_data"
    },
    {
     "data": {
      "application/vnd.jupyter.widget-view+json": {
       "model_id": "7e84f08ac2b340d0847fd7cad7936859",
       "version_major": 2,
       "version_minor": 0
      },
      "text/plain": [
       "Step:   0%|          | 0/10 [00:00<?, ?it/s]"
      ]
     },
     "metadata": {},
     "output_type": "display_data"
    },
    {
     "data": {
      "application/vnd.jupyter.widget-view+json": {
       "model_id": "2c1865ec6e68441a8cf72c71edb31533",
       "version_major": 2,
       "version_minor": 0
      },
      "text/plain": [
       "Step:   0%|          | 0/10 [00:00<?, ?it/s]"
      ]
     },
     "metadata": {},
     "output_type": "display_data"
    },
    {
     "data": {
      "application/vnd.jupyter.widget-view+json": {
       "model_id": "bc33eb0f933a4084ba159df98e9930e6",
       "version_major": 2,
       "version_minor": 0
      },
      "text/plain": [
       "Step:   0%|          | 0/10 [00:00<?, ?it/s]"
      ]
     },
     "metadata": {},
     "output_type": "display_data"
    },
    {
     "data": {
      "application/vnd.jupyter.widget-view+json": {
       "model_id": "af175e73f2e849d1b637706430cb781e",
       "version_major": 2,
       "version_minor": 0
      },
      "text/plain": [
       "Step:   0%|          | 0/10 [00:00<?, ?it/s]"
      ]
     },
     "metadata": {},
     "output_type": "display_data"
    },
    {
     "data": {
      "application/vnd.jupyter.widget-view+json": {
       "model_id": "b9898c73815c4ce0a1d1c43bafaf1a7c",
       "version_major": 2,
       "version_minor": 0
      },
      "text/plain": [
       "Step:   0%|          | 0/10 [00:00<?, ?it/s]"
      ]
     },
     "metadata": {},
     "output_type": "display_data"
    },
    {
     "data": {
      "application/vnd.jupyter.widget-view+json": {
       "model_id": "dbb9c7ddf1b5483999bfd608850e6a22",
       "version_major": 2,
       "version_minor": 0
      },
      "text/plain": [
       "Step:   0%|          | 0/10 [00:00<?, ?it/s]"
      ]
     },
     "metadata": {},
     "output_type": "display_data"
    },
    {
     "data": {
      "application/vnd.jupyter.widget-view+json": {
       "model_id": "6efc365dba834a89a73c66e635fe2276",
       "version_major": 2,
       "version_minor": 0
      },
      "text/plain": [
       "Step:   0%|          | 0/10 [00:00<?, ?it/s]"
      ]
     },
     "metadata": {},
     "output_type": "display_data"
    },
    {
     "data": {
      "application/vnd.jupyter.widget-view+json": {
       "model_id": "4d1857da5be6499291658a65dcfe6984",
       "version_major": 2,
       "version_minor": 0
      },
      "text/plain": [
       "Step:   0%|          | 0/10 [00:00<?, ?it/s]"
      ]
     },
     "metadata": {},
     "output_type": "display_data"
    },
    {
     "data": {
      "application/vnd.jupyter.widget-view+json": {
       "model_id": "29914900b14948ea8ca189075f22331a",
       "version_major": 2,
       "version_minor": 0
      },
      "text/plain": [
       "Step:   0%|          | 0/10 [00:00<?, ?it/s]"
      ]
     },
     "metadata": {},
     "output_type": "display_data"
    },
    {
     "data": {
      "application/vnd.jupyter.widget-view+json": {
       "model_id": "dfa38ba494e4469a968cc00c51b980ac",
       "version_major": 2,
       "version_minor": 0
      },
      "text/plain": [
       "Step:   0%|          | 0/10 [00:00<?, ?it/s]"
      ]
     },
     "metadata": {},
     "output_type": "display_data"
    },
    {
     "data": {
      "application/vnd.jupyter.widget-view+json": {
       "model_id": "ec951f3f7b084fbfb42f51c243b5921c",
       "version_major": 2,
       "version_minor": 0
      },
      "text/plain": [
       "Step:   0%|          | 0/10 [00:00<?, ?it/s]"
      ]
     },
     "metadata": {},
     "output_type": "display_data"
    },
    {
     "data": {
      "application/vnd.jupyter.widget-view+json": {
       "model_id": "372d1c69231542e98aa35d25b25d8f83",
       "version_major": 2,
       "version_minor": 0
      },
      "text/plain": [
       "Step:   0%|          | 0/10 [00:00<?, ?it/s]"
      ]
     },
     "metadata": {},
     "output_type": "display_data"
    },
    {
     "data": {
      "application/vnd.jupyter.widget-view+json": {
       "model_id": "06efcf115340495f9a115295de9f0cc4",
       "version_major": 2,
       "version_minor": 0
      },
      "text/plain": [
       "Step:   0%|          | 0/10 [00:00<?, ?it/s]"
      ]
     },
     "metadata": {},
     "output_type": "display_data"
    },
    {
     "data": {
      "application/vnd.jupyter.widget-view+json": {
       "model_id": "b2823c584e5043ceafb7dc8a793f1b56",
       "version_major": 2,
       "version_minor": 0
      },
      "text/plain": [
       "Step:   0%|          | 0/10 [00:00<?, ?it/s]"
      ]
     },
     "metadata": {},
     "output_type": "display_data"
    },
    {
     "data": {
      "application/vnd.jupyter.widget-view+json": {
       "model_id": "f0f633b17a894474bb5eb6afa39c7f09",
       "version_major": 2,
       "version_minor": 0
      },
      "text/plain": [
       "Step:   0%|          | 0/10 [00:00<?, ?it/s]"
      ]
     },
     "metadata": {},
     "output_type": "display_data"
    },
    {
     "data": {
      "application/vnd.jupyter.widget-view+json": {
       "model_id": "5a36a8fdfbe046748c8ec59af96d178d",
       "version_major": 2,
       "version_minor": 0
      },
      "text/plain": [
       "Step:   0%|          | 0/10 [00:00<?, ?it/s]"
      ]
     },
     "metadata": {},
     "output_type": "display_data"
    },
    {
     "data": {
      "application/vnd.jupyter.widget-view+json": {
       "model_id": "c0424d4e3ff649a1ba207c500ec1fb13",
       "version_major": 2,
       "version_minor": 0
      },
      "text/plain": [
       "Step:   0%|          | 0/10 [00:00<?, ?it/s]"
      ]
     },
     "metadata": {},
     "output_type": "display_data"
    },
    {
     "data": {
      "application/vnd.jupyter.widget-view+json": {
       "model_id": "0b9b38fb5f994c88b34a71f800da4e52",
       "version_major": 2,
       "version_minor": 0
      },
      "text/plain": [
       "Step:   0%|          | 0/10 [00:00<?, ?it/s]"
      ]
     },
     "metadata": {},
     "output_type": "display_data"
    },
    {
     "data": {
      "application/vnd.jupyter.widget-view+json": {
       "model_id": "bec9049215eb4a96a9b961cc64170248",
       "version_major": 2,
       "version_minor": 0
      },
      "text/plain": [
       "Step:   0%|          | 0/10 [00:00<?, ?it/s]"
      ]
     },
     "metadata": {},
     "output_type": "display_data"
    },
    {
     "data": {
      "application/vnd.jupyter.widget-view+json": {
       "model_id": "acffed9db9254d39aaf98d98cf15dfd1",
       "version_major": 2,
       "version_minor": 0
      },
      "text/plain": [
       "Step:   0%|          | 0/10 [00:00<?, ?it/s]"
      ]
     },
     "metadata": {},
     "output_type": "display_data"
    },
    {
     "data": {
      "application/vnd.jupyter.widget-view+json": {
       "model_id": "8c140e4310ce434bad9b793884d4fc27",
       "version_major": 2,
       "version_minor": 0
      },
      "text/plain": [
       "Step:   0%|          | 0/10 [00:00<?, ?it/s]"
      ]
     },
     "metadata": {},
     "output_type": "display_data"
    },
    {
     "data": {
      "application/vnd.jupyter.widget-view+json": {
       "model_id": "8351c28a053a4169adf2e401de854efe",
       "version_major": 2,
       "version_minor": 0
      },
      "text/plain": [
       "Step:   0%|          | 0/10 [00:00<?, ?it/s]"
      ]
     },
     "metadata": {},
     "output_type": "display_data"
    }
   ],
   "source": [
    "# Run simulation\n",
    "frames = []\n",
    "for frame in tqdm(range(num_frames), desc='Simulating'):\n",
    "    frames.append(x.cpu().numpy())\n",
    "    for step in tqdm(range(steps_per_frame), desc='Step'):\n",
    "        # Update stress\n",
    "        stress = elasticity(F)\n",
    "        # Particle to grid, grid update, grid to particle\n",
    "        x, v, C, F = mpm_solver(x, v, C, F, stress)\n",
    "        # Plasticity correction\n",
    "        F = plasticity(F)"
   ]
  },
  {
   "cell_type": "code",
   "execution_count": 21,
   "id": "d3a2c701-11cf-4a11-b754-f614dd4c7c27",
   "metadata": {},
   "outputs": [
    {
     "name": "stdout",
     "output_type": "stream",
     "text": [
      " Size (MB) |                Shape |                           Type |     Device\n",
      "--------------------------------------------------------------------------------\n",
      "     71.33 | torch.Size([1981407, 3, 3]) |         <class 'torch.Tensor'> |     cuda:0\n",
      "     71.33 | torch.Size([1981407, 3, 3]) |         <class 'torch.Tensor'> |     cuda:0\n",
      "     71.33 | torch.Size([1981407, 3, 3]) |         <class 'torch.Tensor'> |     cuda:0\n",
      "     23.78 | torch.Size([1981407, 3]) |         <class 'torch.Tensor'> |     cuda:0\n",
      "     23.78 | torch.Size([1981407, 3]) |         <class 'torch.Tensor'> |     cuda:0\n",
      "     23.78 | torch.Size([1981407, 3]) |         <class 'torch.Tensor'> |     cuda:0\n",
      "     23.78 | torch.Size([1981407, 3]) |         <class 'torch.Tensor'> |     cuda:0\n",
      "     23.78 | torch.Size([1981407, 3]) |         <class 'torch.Tensor'> |     cuda:0\n",
      "      1.98 | torch.Size([1981407]) |         <class 'torch.Tensor'> |     cuda:0\n",
      "      1.98 | torch.Size([1981407]) |         <class 'torch.Tensor'> |     cuda:0\n",
      "      1.98 | torch.Size([1981407]) |         <class 'torch.Tensor'> |     cuda:0\n",
      "      1.98 | torch.Size([1981407]) |         <class 'torch.Tensor'> |     cuda:0\n",
      "      0.19 | torch.Size([15625, 3]) |         <class 'torch.Tensor'> |     cuda:0\n",
      "      0.19 | torch.Size([15625, 3]) |         <class 'torch.Tensor'> |     cuda:0\n",
      "      0.06 |  torch.Size([15625]) |         <class 'torch.Tensor'> |     cuda:0\n",
      "      0.00 |  torch.Size([27, 3]) |         <class 'torch.Tensor'> |     cuda:0\n",
      "      0.00 |      torch.Size([3]) |         <class 'torch.Tensor'> |     cuda:0\n",
      "      0.00 |      torch.Size([1]) |         <class 'torch.Tensor'> |     cuda:0\n",
      "      0.00 |      torch.Size([1]) |         <class 'torch.Tensor'> |     cuda:0\n",
      "      0.00 |      torch.Size([1]) |         <class 'torch.Tensor'> |     cuda:0\n",
      "      0.00 |      torch.Size([1]) |         <class 'torch.Tensor'> |     cuda:0\n",
      "      0.00 |      torch.Size([1]) |         <class 'torch.Tensor'> |     cuda:0\n",
      "      0.00 |      torch.Size([1]) |         <class 'torch.Tensor'> |     cuda:0\n",
      "      0.00 |      torch.Size([1]) | <class 'torch.nn.parameter.Parameter'> |     cuda:0\n",
      "      0.00 |      torch.Size([1]) | <class 'torch.nn.parameter.Parameter'> |     cuda:0\n",
      "\n",
      "\n",
      "🧠 Total memory of live tensors: 341.24 MB\n",
      "📦 torch.cuda.memory_allocated(): 326.55 MB\n",
      "🔒 torch.cuda.memory_reserved():  12499.03 MB\n"
     ]
    },
    {
     "name": "stderr",
     "output_type": "stream",
     "text": [
      "/tmp/ipykernel_2135208/2949170866.py:10: FutureWarning: `torch.distributed.reduce_op` is deprecated, please use `torch.distributed.ReduceOp` instead\n",
      "  if torch.is_tensor(obj) or (hasattr(obj, 'data') and torch.is_tensor(obj.data)):\n"
     ]
    }
   ],
   "source": [
    "list_gpu_tensors()"
   ]
  },
  {
   "cell_type": "code",
   "execution_count": 22,
   "id": "2aa070f7-b234-4303-94ce-d811e8e04851",
   "metadata": {},
   "outputs": [
    {
     "data": {
      "application/vnd.jupyter.widget-view+json": {
       "model_id": "e6fd64311f934bf2be6b2944573748b6",
       "version_major": 2,
       "version_minor": 0
      },
      "text/plain": [
       "Renderer(camera=PerspectiveCamera(children=(DirectionalLight(color='white', intensity=0.6, position=(0.3503157…"
      ]
     },
     "metadata": {},
     "output_type": "display_data"
    },
    {
     "data": {
      "text/plain": [
       "<meshplot.Viewer.Viewer at 0x7f42680e2820>"
      ]
     },
     "execution_count": 22,
     "metadata": {},
     "output_type": "execute_result"
    }
   ],
   "source": [
    "particles_show = x.clone()\n",
    "v = particles_show.cpu().numpy()\n",
    "mp.plot(v, c = color, shading={\"wireframe\": False})"
   ]
  },
  {
   "cell_type": "code",
   "execution_count": 23,
   "id": "934a8d8f-6831-4c3b-9c56-98ddfdbc45d2",
   "metadata": {},
   "outputs": [
    {
     "name": "stdout",
     "output_type": "stream",
     "text": [
      "Rendering to ./output/cranium_example_ds_300_jupytertest_deformation.gif...\n",
      "updating the 0/7 frame\n",
      "updating the 0/7 frame\n",
      "updating the 1/7 frame\n",
      "updating the 2/7 frame\n",
      "updating the 3/7 frame\n",
      "updating the 4/7 frame\n",
      "updating the 5/7 frame\n",
      "updating the 6/7 frame\n"
     ]
    }
   ],
   "source": [
    "new_frames = frames[::sample_rate]\n",
    "\n",
    "# Visualize\n",
    "print(f'Rendering to {export_path}...')\n",
    "visualize_frames(\n",
    "    new_frames, \n",
    "    export_path=export_path, \n",
    "    size=[1, 1, 1], \n",
    "    c=color,\n",
    "    sample_rate = sample_rate\n",
    ")"
   ]
  },
  {
   "cell_type": "markdown",
   "id": "80f3e615-522d-4c1a-ad6a-0bb2cd64bcaa",
   "metadata": {},
   "source": [
    "# import messed up pc to voxel inside"
   ]
  },
  {
   "cell_type": "code",
   "execution_count": 24,
   "id": "5b88e206-c29d-4d9d-9bf5-a5550728167e",
   "metadata": {},
   "outputs": [],
   "source": [
    "\n",
    "points_inside = particles_show.cpu().numpy()\n",
    "indices = (points_inside * grid_res).astype(int)\n",
    "indices = np.clip(indices, 0, grid_res - 1)  # make sure indices are valid\n",
    "\n",
    "# Create occupancy grid\n",
    "inside = np.zeros((grid_res, grid_res, grid_res), dtype=bool)\n",
    "for i, j, k in indices:\n",
    "    inside[i, j, k] = True\n",
    "\n",
    "inside = inside.ravel(order='C')"
   ]
  },
  {
   "cell_type": "code",
   "execution_count": 25,
   "id": "4ca59091-947b-4d53-847c-356c1baba388",
   "metadata": {},
   "outputs": [
    {
     "data": {
      "application/vnd.jupyter.widget-view+json": {
       "model_id": "a9b693abeff843f4a35ab0da314e7833",
       "version_major": 2,
       "version_minor": 0
      },
      "text/plain": [
       "Renderer(camera=PerspectiveCamera(children=(DirectionalLight(color='white', intensity=0.6, position=(0.3503157…"
      ]
     },
     "metadata": {},
     "output_type": "display_data"
    }
   ],
   "source": [
    "p = mp.plot(points_inside, shading={\"wireframe\": False})"
   ]
  },
  {
   "cell_type": "markdown",
   "id": "1b450a1a-5559-47e1-af7f-4adc83bb2d07",
   "metadata": {},
   "source": [
    "# voxel to SDF"
   ]
  },
  {
   "cell_type": "code",
   "execution_count": 26,
   "id": "697ac229-cb78-4f59-bf50-bbf9f7ef2bae",
   "metadata": {},
   "outputs": [],
   "source": [
    "# continuous\n",
    "inside_volume = inside.reshape((grid_res, grid_res, grid_res))  # shape: (Z, Y, X)\n",
    "\n",
    "outside_mask = ~inside_volume  # 0=inside, 1=outside\n",
    "\n",
    "dist_out = ndimage.distance_transform_edt(outside_mask)\n",
    "\n",
    "dist_in = ndimage.distance_transform_edt(inside_volume)\n",
    "\n",
    "sdf_volume = dist_out - dist_in  # outside: positive, inside: negative\n",
    "\n",
    "sdf_smoothed = gaussian_filter(sdf_volume, sigma=1.0)\n",
    "\n",
    "sdf_volume = sdf_smoothed\n"
   ]
  },
  {
   "cell_type": "markdown",
   "id": "91803715-245b-4ae0-986d-7eea4dc2b18c",
   "metadata": {},
   "source": [
    "# SDF to Surface Mesh"
   ]
  },
  {
   "cell_type": "code",
   "execution_count": 27,
   "id": "1d084591-90a0-4fc4-92a6-a74dc7e2ba7b",
   "metadata": {},
   "outputs": [],
   "source": [
    "\n",
    "\n",
    "verts, faces, normals, values = measure.marching_cubes(sdf_volume, level=0.0)\n",
    "\n",
    "verts = verts[:, [2, 1, 0]]  # 把 zyx 转成 xyz\n",
    "\n",
    "spacing = 1.0 / (sdf_volume.shape[0] - 1)\n",
    "verts *= spacing  # 恢复真实坐标\n",
    "\n",
    "mesh_surface = trimesh.Trimesh(vertices=verts, faces=faces, vertex_normals=normals)\n"
   ]
  },
  {
   "cell_type": "code",
   "execution_count": 28,
   "id": "15a71fb3-3963-4630-833b-457f6380ddb3",
   "metadata": {},
   "outputs": [
    {
     "data": {
      "application/vnd.jupyter.widget-view+json": {
       "model_id": "7016e8fca9d6476f87801eebbb630ba7",
       "version_major": 2,
       "version_minor": 0
      },
      "text/plain": [
       "Renderer(camera=PerspectiveCamera(children=(DirectionalLight(color='white', intensity=0.6, position=(0.3355654…"
      ]
     },
     "metadata": {},
     "output_type": "display_data"
    },
    {
     "data": {
      "text/plain": [
       "<meshplot.Viewer.Viewer at 0x7f42605b0c40>"
      ]
     },
     "execution_count": 28,
     "metadata": {},
     "output_type": "execute_result"
    }
   ],
   "source": [
    "\n",
    "v = np.asarray(mesh_surface.vertices)\n",
    "f = np.asarray(mesh_surface.faces)\n",
    "n = np.asarray(mesh_surface.vertex_normals)\n",
    "\n",
    "mp.plot(v, f, shading={\"wireframe\": False})\n"
   ]
  },
  {
   "cell_type": "markdown",
   "id": "9df9b97e-8815-49e7-94cc-c03ab3afe3a8",
   "metadata": {},
   "source": [
    "# Clean again"
   ]
  },
  {
   "cell_type": "code",
   "execution_count": 29,
   "id": "1c8e0f0a-d224-4520-b9c3-0291c25cb088",
   "metadata": {},
   "outputs": [
    {
     "name": "stdout",
     "output_type": "stream",
     "text": [
      "连通组件数量: 2\n"
     ]
    },
    {
     "data": {
      "application/vnd.jupyter.widget-view+json": {
       "model_id": "e6c706e114184c8598cc033023d8359d",
       "version_major": 2,
       "version_minor": 0
      },
      "text/plain": [
       "Renderer(camera=PerspectiveCamera(children=(DirectionalLight(color='white', intensity=0.6, position=(0.3355654…"
      ]
     },
     "metadata": {},
     "output_type": "display_data"
    }
   ],
   "source": [
    "components = mesh_surface.split(only_watertight=False)\n",
    "\n",
    "# 统计数量\n",
    "print(f\"连通组件数量: {len(components)}\")\n",
    "\n",
    "largest = max(components, key=lambda m: len(m.faces))\n",
    "mesh_clean = largest\n",
    "\n",
    "# min_faces = 100000\n",
    "# filtered = [comp for comp in components if len(comp.faces) >= min_faces]\n",
    "\n",
    "# if len(filtered) > 0:\n",
    "#     mesh_clean = trimesh.util.concatenate(filtered)\n",
    "#     mesh_clean.export('cleaned_mesh.obj')\n",
    "#     print(f\"Keep {len(filtered)} component, output new mesh.\")\n",
    "# else:\n",
    "#     print(\"All components have been filtered\")\n",
    "\n",
    "\n",
    "v = np.asarray(mesh_clean.vertices)\n",
    "f = np.asarray(mesh_clean.faces)\n",
    "n = np.asarray(mesh_clean.vertex_normals)\n",
    "\n",
    "p = mp.plot(v, f)\n",
    "\n",
    "mesh_surface = mesh_clean\n"
   ]
  },
  {
   "cell_type": "markdown",
   "id": "8b8440d0-da98-47ee-86ec-a880ae56b727",
   "metadata": {},
   "source": [
    "# Surface Smoothing"
   ]
  },
  {
   "cell_type": "code",
   "execution_count": 30,
   "id": "8658dccb-0d37-4d63-956b-4467dbb1e155",
   "metadata": {},
   "outputs": [],
   "source": [
    "# 将 trimesh 转换为 open3d mesh\n",
    "mesh_o3d = o3d.geometry.TriangleMesh(\n",
    "    vertices=o3d.utility.Vector3dVector(mesh_surface.vertices),\n",
    "    triangles=o3d.utility.Vector3iVector(mesh_surface.faces)\n",
    ")\n",
    "\n",
    "# 可选：计算法线（用于可视化）\n",
    "mesh_o3d.compute_vertex_normals()\n",
    "\n",
    "# 执行 Laplacian 平滑\n",
    "smoothed = mesh_o3d.filter_smooth_laplacian(number_of_iterations=10)\n",
    "\n",
    "# 可选：重新计算法线\n",
    "smoothed.compute_vertex_normals()\n",
    "\n",
    "# 如果你需要导出为 trimesh 继续处理：\n",
    "smoothed_trimesh = trimesh.Trimesh(\n",
    "    vertices=np.asarray(smoothed.vertices),\n",
    "    faces=np.asarray(smoothed.triangles)\n",
    ")\n",
    "\n",
    "# ms = pymeshlab.MeshSet()\n",
    "# ms.add_mesh(pymeshlab.Mesh(mesh_surface.vertices, mesh_surface.faces))\n",
    "\n",
    "\n",
    "# ms.apply_coord_taubin_smoothing(stepsmoothnum=10, lambda_=0.5, mu=-0.53)\n",
    "\n",
    "\n",
    "# smoothed_mesh = ms.current_mesh()\n",
    "# smoothed_trimesh = trimesh.Trimesh(\n",
    "#     vertices=smoothed_mesh.vertex_matrix(),\n",
    "#     faces=smoothed_mesh.face_matrix()\n",
    "# )"
   ]
  },
  {
   "cell_type": "code",
   "execution_count": 31,
   "id": "6ef712c4-e106-476e-a83f-8fc4c5cd4b77",
   "metadata": {},
   "outputs": [
    {
     "data": {
      "application/vnd.jupyter.widget-view+json": {
       "model_id": "4d1e8a8e472449329c23d52b45739be5",
       "version_major": 2,
       "version_minor": 0
      },
      "text/plain": [
       "Renderer(camera=PerspectiveCamera(children=(DirectionalLight(color='white', intensity=0.6, position=(0.3367409…"
      ]
     },
     "metadata": {},
     "output_type": "display_data"
    },
    {
     "data": {
      "text/plain": [
       "<meshplot.Viewer.Viewer at 0x7f42605d51c0>"
      ]
     },
     "execution_count": 31,
     "metadata": {},
     "output_type": "execute_result"
    }
   ],
   "source": [
    "v = np.asarray(smoothed.vertices)\n",
    "f = np.asarray(smoothed.triangles)\n",
    "# v = np.asarray(smoothed_mesh.vertex_matrix())\n",
    "# f = np.asarray(smoothed_mesh.face_matrix())\n",
    "\n",
    "mp.plot(v, f, shading={\"wireframe\": False})\n"
   ]
  },
  {
   "cell_type": "code",
   "execution_count": null,
   "id": "2c1a3e64-4cf8-41b9-a74f-181326ba704d",
   "metadata": {},
   "outputs": [],
   "source": []
  },
  {
   "cell_type": "code",
   "execution_count": null,
   "id": "5ee80a22-5d45-4009-bd5a-89bf52eff541",
   "metadata": {},
   "outputs": [],
   "source": []
  },
  {
   "cell_type": "code",
   "execution_count": null,
   "id": "a88b3eb3-face-4de5-a77d-3b3283d87530",
   "metadata": {},
   "outputs": [],
   "source": []
  },
  {
   "cell_type": "code",
   "execution_count": null,
   "id": "de55582e-f988-412a-8860-78e928c95da4",
   "metadata": {},
   "outputs": [],
   "source": []
  }
 ],
 "metadata": {
  "kernelspec": {
   "display_name": "mpmpytorch",
   "language": "python",
   "name": "mpmpytorch"
  },
  "language_info": {
   "codemirror_mode": {
    "name": "ipython",
    "version": 3
   },
   "file_extension": ".py",
   "mimetype": "text/x-python",
   "name": "python",
   "nbconvert_exporter": "python",
   "pygments_lexer": "ipython3",
   "version": "3.9.23"
  }
 },
 "nbformat": 4,
 "nbformat_minor": 5
}
