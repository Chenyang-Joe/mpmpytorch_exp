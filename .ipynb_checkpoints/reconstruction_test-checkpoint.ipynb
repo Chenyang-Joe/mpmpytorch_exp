{
 "cells": [
  {
   "cell_type": "markdown",
   "id": "c0cc8ae0-8fe2-43a6-a8bb-c079bcfe1902",
   "metadata": {},
   "source": [
    "If surface point cloud:\n",
    "1. surface point cloud -> SDF\n",
    "2. SDF -> marching cube\n",
    "\n",
    "If volume point cloud\n",
    "1. volume point cloud -> voxel\n",
    "2. voxel -> SDF\n",
    "3. SDF -> marching cube surface mesh\n",
    "\n",
    "Our task\n",
    "Given surface mesh\n",
    "1. surface mesh -> volume point cloud\n",
    "2. volume point cloud -> MPM deformed volume point cloud\n",
    "3. MPM deforemd volume point cloud -> voxel\n",
    "4. voxel -> SDF\n",
    "5. SDF -> marching cube surface mesh\n",
    "\n",
    "\n",
    "For now, test:\n",
    "1. input surface mesh\n",
    "2. surface mesh -> volume point cloud\n",
    "3. volume point cloud -> voxel\n",
    "4. voxel -> SDF\n",
    "5. SDF -> marching cube surface mesh"
   ]
  },
  {
   "cell_type": "markdown",
   "id": "80f48d62-2bbf-4593-997d-ae8168fafaea",
   "metadata": {},
   "source": [
    "# libs, functions"
   ]
  },
  {
   "cell_type": "code",
   "execution_count": 1,
   "id": "0bfa3be9-47ab-4beb-935a-cea11aa27f45",
   "metadata": {},
   "outputs": [],
   "source": [
    "import numpy as np\n",
    "# import igl\n",
    "import open3d as o3d\n",
    "import trimesh\n",
    "import meshplot as mp\n",
    "from skimage import measure\n",
    "from scipy import ndimage\n",
    "import pymeshlab\n",
    "import mcubes\n",
    "from trimesh.ray.ray_pyembree import RayMeshIntersector\n",
    "from scipy.ndimage import gaussian_filter\n"
   ]
  },
  {
   "cell_type": "code",
   "execution_count": null,
   "id": "f7597033-dd33-4d55-bd31-3cf49be7d74f",
   "metadata": {},
   "outputs": [],
   "source": []
  },
  {
   "cell_type": "markdown",
   "id": "63a2e31d-c9ab-410d-a7cc-d416dfd02d37",
   "metadata": {},
   "source": [
    "# read model"
   ]
  },
  {
   "cell_type": "code",
   "execution_count": 2,
   "id": "6cc01428-392b-45dc-b21e-0dfee7c6cad3",
   "metadata": {},
   "outputs": [
    {
     "data": {
      "application/vnd.jupyter.widget-view+json": {
       "model_id": "8dcf469f65234bf585d8ea055c3ee8fa",
       "version_major": 2,
       "version_minor": 0
      },
      "text/plain": [
       "Renderer(camera=PerspectiveCamera(children=(DirectionalLight(color='white', intensity=0.6, position=(0.3522617…"
      ]
     },
     "metadata": {},
     "output_type": "display_data"
    },
    {
     "data": {
      "text/plain": [
       "<meshplot.Viewer.Viewer at 0x155e45d00>"
      ]
     },
     "execution_count": 2,
     "metadata": {},
     "output_type": "execute_result"
    }
   ],
   "source": [
    "model_path = \"models/bone.obj\"\n",
    "\n",
    "mesh = trimesh.load(model_path)\n",
    "\n",
    "v = np.asarray(mesh.vertices)\n",
    "f = np.asarray(mesh.faces)\n",
    "n = np.asarray(mesh.vertex_normals)\n",
    "\n",
    "# mesh = o3d.io.read_triangle_mesh(model_path)\n",
    "# mesh.compute_vertex_normals()\n",
    "\n",
    "# v = np.asarray(mesh.vertices)\n",
    "# f = np.asarray(mesh.triangles)\n",
    "# n = np.asarray(mesh.vertex_normals)\n",
    "\n",
    "v -= v.min(axis=0)\n",
    "v /= v.max()\n",
    "mesh.vertices = v\n",
    "\n",
    "# mesh.vertices = o3d.utility.Vector3dVector(v)\n",
    "# v = np.asarray(mesh.vertices)\n",
    "\n",
    "# Step 3: Visualize using meshplot\n",
    "mp.plot(v, f, shading={\"wireframe\": False})\n"
   ]
  },
  {
   "cell_type": "code",
   "execution_count": 3,
   "id": "1f098efc-91ec-4860-a210-d59e9bf49489",
   "metadata": {},
   "outputs": [
    {
     "name": "stdout",
     "output_type": "stream",
     "text": [
      "连通组件数量: 18750\n",
      "Keep 238 component, output new mesh.\n"
     ]
    },
    {
     "data": {
      "application/vnd.jupyter.widget-view+json": {
       "model_id": "08fa5cfa89144f70b17b09dbc458f54a",
       "version_major": 2,
       "version_minor": 0
      },
      "text/plain": [
       "Renderer(camera=PerspectiveCamera(children=(DirectionalLight(color='white', intensity=0.6, position=(0.3522617…"
      ]
     },
     "metadata": {},
     "output_type": "display_data"
    }
   ],
   "source": [
    "components = mesh.split(only_watertight=False)\n",
    "\n",
    "# 统计数量\n",
    "print(f\"连通组件数量: {len(components)}\")\n",
    "\n",
    "min_faces = 10\n",
    "# largest = max(components, key=lambda m: len(m.faces))\n",
    "\n",
    "filtered = [comp for comp in components if len(comp.faces) >= min_faces]\n",
    "\n",
    "if len(filtered) > 0:\n",
    "    mesh_clean = trimesh.util.concatenate(filtered)\n",
    "    mesh_clean.export('cleaned_mesh.obj')\n",
    "    print(f\"Keep {len(filtered)} component, output new mesh.\")\n",
    "else:\n",
    "    print(\"All components have been filtered\")\n",
    "\n",
    "v = np.asarray(mesh_clean.vertices)\n",
    "f = np.asarray(mesh_clean.faces)\n",
    "n = np.asarray(mesh_clean.vertex_normals)\n",
    "\n",
    "mesh = mesh_clean\n",
    "\n",
    "p = mp.plot(v, f)\n"
   ]
  },
  {
   "cell_type": "code",
   "execution_count": 4,
   "id": "5eda969d-460e-4446-8ef4-fd6ba2fd832e",
   "metadata": {},
   "outputs": [
    {
     "data": {
      "application/vnd.jupyter.widget-view+json": {
       "model_id": "3317ad0a3df941c59a10e8903bd2434c",
       "version_major": 2,
       "version_minor": 0
      },
      "text/plain": [
       "Renderer(camera=PerspectiveCamera(children=(DirectionalLight(color='white', intensity=0.6, position=(0.3522617…"
      ]
     },
     "metadata": {},
     "output_type": "display_data"
    }
   ],
   "source": [
    "p = mp.plot(v, shading={\"point_size\": 0.1})"
   ]
  },
  {
   "cell_type": "code",
   "execution_count": 5,
   "id": "9e7c4e13-822b-4900-8ffc-b993369a265c",
   "metadata": {},
   "outputs": [
    {
     "data": {
      "application/vnd.jupyter.widget-view+json": {
       "model_id": "1028a0cf78f143449d10ef52e2d94b02",
       "version_major": 2,
       "version_minor": 0
      },
      "text/plain": [
       "Renderer(camera=PerspectiveCamera(children=(DirectionalLight(color='white', intensity=0.6, position=(0.3522617…"
      ]
     },
     "metadata": {},
     "output_type": "display_data"
    },
    {
     "data": {
      "text/plain": [
       "2"
      ]
     },
     "execution_count": 5,
     "metadata": {},
     "output_type": "execute_result"
    }
   ],
   "source": [
    "eps = 0.01\n",
    "v_pos = v + eps*n\n",
    "v_neg = v - eps*n\n",
    "p = mp.plot(v, shading={\"point_size\": 0.05})\n",
    "p.add_points(v_pos, shading={\"point_size\": 0.05, \"point_color\": \"green\"})\n",
    "p.add_points(v_neg, shading={\"point_size\": 0.05, \"point_color\": \"blue\"})\n"
   ]
  },
  {
   "cell_type": "code",
   "execution_count": null,
   "id": "5d37f298-59c7-4dee-b1ab-20f139523a94",
   "metadata": {},
   "outputs": [],
   "source": []
  },
  {
   "cell_type": "markdown",
   "id": "d63b25e4-42d7-4b41-8ddd-d3db917d50e7",
   "metadata": {},
   "source": [
    "# Change Model to Dense Point Cloud"
   ]
  },
  {
   "cell_type": "code",
   "execution_count": 6,
   "id": "45fa14fc-2186-44ea-980d-33945f7039f5",
   "metadata": {},
   "outputs": [],
   "source": [
    "# voxel_size = 0.01  # 调整为你想要的密度\n",
    "# voxelized = mesh.voxelized(pitch=voxel_size)\n",
    "\n",
    "# dense_points = np.asarray(voxelized.points)\n",
    "\n",
    "# print(\"The number of points:\", dense_points.shape[0])\n",
    "# p = mp.plot(dense_points, shading={\"point_size\": voxel_size})\n"
   ]
  },
  {
   "cell_type": "code",
   "execution_count": 7,
   "id": "ca325295-b23d-4f5a-9edc-b6538eacd452",
   "metadata": {},
   "outputs": [],
   "source": [
    "grid_res = 50\n",
    "# x = np.linspace(0, 1, grid_res)\n",
    "# y = np.linspace(0, 1, grid_res)\n",
    "# z = np.linspace(0, 1, grid_res)\n",
    "# X, Y, Z = np.meshgrid(x, y, z, indexing='ij')\n",
    "# grid_points = np.vstack([X.ravel(), Y.ravel(), Z.ravel()]).T\n",
    "\n",
    "# mesh.ray = RayMeshIntersector(mesh)\n",
    "\n",
    "# print(type(mesh.ray))\n",
    "\n",
    "# inside = mesh.contains(grid_points)\n",
    "# points_inside = grid_points[inside]\n",
    "# print(f\"内部点云数量: {len(points_inside)}\")\n",
    "# print(inside.shape)"
   ]
  },
  {
   "cell_type": "code",
   "execution_count": 8,
   "id": "ad5b3783-c821-41fc-9a79-a4d6027a941e",
   "metadata": {},
   "outputs": [],
   "source": [
    "# pitch = 1.0 / grid_res  # 体素边长\n",
    "# voxel_indices = np.floor(points_inside / pitch).astype(int)\n",
    "# voxel_indices = np.unique(voxel_indices, axis=0)\n"
   ]
  },
  {
   "cell_type": "code",
   "execution_count": 9,
   "id": "17c3d1a1-ce2c-40b3-95d6-1d5eacecbfd8",
   "metadata": {},
   "outputs": [],
   "source": [
    "mesh = trimesh.load('models/deformed_50.obj', file_type='obj')\n",
    "points_inside = np.asarray(mesh.vertices)\n",
    "\n",
    "indices = (points_inside * grid_res).astype(int)\n",
    "indices = np.clip(indices, 0, grid_res - 1)  # make sure indices are valid\n",
    "\n",
    "# Create occupancy grid\n",
    "inside = np.zeros((grid_res, grid_res, grid_res), dtype=bool)\n",
    "for i, j, k in indices:\n",
    "    inside[i, j, k] = True\n",
    "\n",
    "inside = inside.ravel(order='C')"
   ]
  },
  {
   "cell_type": "code",
   "execution_count": 10,
   "id": "3d87dc7e-eb11-43ea-8f0b-3a25fc6d9d6a",
   "metadata": {},
   "outputs": [
    {
     "data": {
      "application/vnd.jupyter.widget-view+json": {
       "model_id": "e66a4721d8a242bcbf8d6b2aa3768772",
       "version_major": 2,
       "version_minor": 0
      },
      "text/plain": [
       "Renderer(camera=PerspectiveCamera(children=(DirectionalLight(color='white', intensity=0.6, position=(0.3860056…"
      ]
     },
     "metadata": {},
     "output_type": "display_data"
    }
   ],
   "source": [
    "p = mp.plot(points_inside, shading={\"point_size\": 0.03})"
   ]
  },
  {
   "cell_type": "code",
   "execution_count": 11,
   "id": "c4df55cf-63fa-4f0f-9682-759c8dc9565e",
   "metadata": {
    "scrolled": true
   },
   "outputs": [],
   "source": [
    "# pc = trimesh.points.PointCloud(points_inside)\n",
    "# pc.export(f'models/bone_filled_50.obj')\n",
    "# print(\"saved\")"
   ]
  },
  {
   "cell_type": "code",
   "execution_count": null,
   "id": "741ce24d-f33a-4795-9415-581f0fcfc034",
   "metadata": {},
   "outputs": [],
   "source": []
  },
  {
   "cell_type": "code",
   "execution_count": null,
   "id": "72e50380-3583-46a1-a33f-fa8828937ba4",
   "metadata": {},
   "outputs": [],
   "source": []
  },
  {
   "cell_type": "code",
   "execution_count": null,
   "id": "48f1109a-9cec-441a-8a5e-2d54c0ee599b",
   "metadata": {},
   "outputs": [],
   "source": []
  },
  {
   "cell_type": "code",
   "execution_count": 12,
   "id": "b69ed23f-a5b7-49f5-8ad0-7163aca2c6e6",
   "metadata": {},
   "outputs": [],
   "source": [
    "# mesh = trimesh.load('models/bone_filled_50.obj', file_type='obj')\n"
   ]
  },
  {
   "cell_type": "markdown",
   "id": "eb3a3972-1e01-4f54-82bb-0f9918ae59a7",
   "metadata": {},
   "source": [
    "# Voxel to SDF"
   ]
  },
  {
   "cell_type": "code",
   "execution_count": 13,
   "id": "0c601de0-d3b6-4a24-8780-15a9888a0e1b",
   "metadata": {},
   "outputs": [],
   "source": [
    "# volume = voxelized.matrix.astype(np.float32)  # shape: (Z, Y, X)\n",
    "\n",
    "# inside = ndimage.distance_transform_edt(volume)\n",
    "\n",
    "# # 外部：distance transform of outside (0s → 1s)\n",
    "# outside = ndimage.distance_transform_edt(1 - volume)\n",
    "\n",
    "# # SDF = outside_distance - inside_distance\n",
    "# sdf = outside - inside\n"
   ]
  },
  {
   "cell_type": "code",
   "execution_count": 14,
   "id": "7a0bc2a1-78a3-48c6-b4ee-11994c72c4ff",
   "metadata": {},
   "outputs": [],
   "source": [
    "\n",
    "# sdf = trimesh.proximity.signed_distance(mesh, grid_points)  # 输出 shape=(N,)\n",
    "# sdf_volume = sdf.reshape(grid_res, grid_res, grid_res)"
   ]
  },
  {
   "cell_type": "code",
   "execution_count": 15,
   "id": "9225d4f7-10f4-491f-99a9-8985aa729f02",
   "metadata": {},
   "outputs": [],
   "source": [
    "# continuous\n",
    "inside_volume = inside.reshape((grid_res, grid_res, grid_res))  # shape: (Z, Y, X)\n",
    "\n",
    "outside_mask = ~inside_volume  # 0=inside, 1=outside\n",
    "\n",
    "dist_out = ndimage.distance_transform_edt(outside_mask)\n",
    "\n",
    "dist_in = ndimage.distance_transform_edt(inside_volume)\n",
    "\n",
    "sdf_volume = dist_out - dist_in  # outside: positive, inside: negative\n",
    "\n",
    "sdf_smoothed = gaussian_filter(sdf_volume, sigma=1.0)\n",
    "\n",
    "sdf_volume = sdf_smoothed\n"
   ]
  },
  {
   "cell_type": "code",
   "execution_count": 16,
   "id": "50b37989-2718-4830-9636-3ba613161816",
   "metadata": {},
   "outputs": [],
   "source": [
    "# -1 to 1, discrete\n",
    "# inside_volume = inside.reshape((grid_res, grid_res, grid_res))  # bool array\n",
    "\n",
    "# sdf_discrete = np.ones_like(inside_volume, dtype=np.int8)  # initialize to +1 (outside)\n",
    "# sdf_discrete[inside_volume] = -1  # set inside to -1\n",
    "\n",
    "# # surface_mask =ndimage.binary_dilation(inside_volume) & ~inside_volume\n",
    "# # sdf_discrete[surface_mask] = 0\n",
    "\n",
    "# sdf_volume = sdf_discrete"
   ]
  },
  {
   "cell_type": "code",
   "execution_count": null,
   "id": "65883ad0-7919-487d-8750-58823ac66848",
   "metadata": {},
   "outputs": [],
   "source": []
  },
  {
   "cell_type": "markdown",
   "id": "b54f9111-7c3b-42fd-bc6b-24acd3c38bfc",
   "metadata": {},
   "source": [
    "# SDF to Surface Mesh"
   ]
  },
  {
   "cell_type": "code",
   "execution_count": 17,
   "id": "8f7d4123-97ec-44dd-bba0-2f1e30cc896e",
   "metadata": {},
   "outputs": [],
   "source": [
    "\n",
    "\n",
    "verts, faces, normals, values = measure.marching_cubes(sdf_volume, level=0.0)\n",
    "\n",
    "verts = verts[:, [2, 1, 0]]  # 把 zyx 转成 xyz\n",
    "\n",
    "spacing = 1.0 / (sdf_volume.shape[0] - 1)\n",
    "verts *= spacing  # 恢复真实坐标\n",
    "\n",
    "mesh_surface = trimesh.Trimesh(vertices=verts, faces=faces, vertex_normals=normals)\n"
   ]
  },
  {
   "cell_type": "code",
   "execution_count": 18,
   "id": "79f40b7c-329a-4772-b01c-94ba0276647e",
   "metadata": {},
   "outputs": [],
   "source": [
    "# # verts, faces, normals, values = measure.marching_cubes(sdf, level=0.0)\n",
    "# verts, faces = mcubes.marching_cubes(sdf, 0.0)\n",
    "\n",
    "# # 将坐标顺序从 ZYX → XYZ\n",
    "# verts_voxel = verts[:, [2, 1, 0]]\n",
    "\n",
    "# # 将 voxel 坐标映射到世界坐标\n",
    "# # verts_voxel 是 N×3，每一行都是 [x, y, z]，我们加一个第四维 1\n",
    "# verts_homog = np.hstack([verts_voxel, np.ones((verts_voxel.shape[0], 1))])  # shape (N, 4)\n",
    "\n",
    "\n",
    "# # 将 voxel grid 坐标还原到世界坐标\n",
    "# verts_world = (voxelized.transform @ verts_homog.T).T[:, :3]\n",
    "\n",
    "# # mesh_surface = trimesh.Trimesh(vertices=verts_world, faces=faces, vertex_normals=normals)\n",
    "# mesh_surface = trimesh.Trimesh(vertices=verts_world, faces=faces)\n",
    "\n",
    "\n",
    "# mesh_surface.export('models/bunny_holes.obj')\n",
    "\n",
    "# print(\"ok\")\n",
    "# # mesh_surface.fill_holes()\n",
    "# # print(\"Is watertight:\", mesh.is_watertight)\n",
    "\n"
   ]
  },
  {
   "cell_type": "code",
   "execution_count": 19,
   "id": "570b313d-04b4-4f0f-a4bd-66dacb6a7526",
   "metadata": {},
   "outputs": [
    {
     "data": {
      "application/vnd.jupyter.widget-view+json": {
       "model_id": "a53d5fee2f7b4d86b5f57960e7528403",
       "version_major": 2,
       "version_minor": 0
      },
      "text/plain": [
       "Renderer(camera=PerspectiveCamera(children=(DirectionalLight(color='white', intensity=0.6, position=(0.4623048…"
      ]
     },
     "metadata": {},
     "output_type": "display_data"
    },
    {
     "data": {
      "text/plain": [
       "<meshplot.Viewer.Viewer at 0x15b0ec3a0>"
      ]
     },
     "execution_count": 19,
     "metadata": {},
     "output_type": "execute_result"
    }
   ],
   "source": [
    "\n",
    "v = np.asarray(mesh_surface.vertices)\n",
    "f = np.asarray(mesh_surface.faces)\n",
    "n = np.asarray(mesh_surface.vertex_normals)\n",
    "\n",
    "mp.plot(v, f, shading={\"wireframe\": False})\n"
   ]
  },
  {
   "cell_type": "markdown",
   "id": "a931f555-f42f-420f-b89f-3e0fa2760178",
   "metadata": {},
   "source": [
    "# Clean again"
   ]
  },
  {
   "cell_type": "code",
   "execution_count": 20,
   "id": "9e8dc061-ff6d-468c-ac15-793a47465485",
   "metadata": {},
   "outputs": [
    {
     "name": "stdout",
     "output_type": "stream",
     "text": [
      "连通组件数量: 2\n"
     ]
    },
    {
     "data": {
      "application/vnd.jupyter.widget-view+json": {
       "model_id": "d4aea83884e94579a2c19f3af4f724a0",
       "version_major": 2,
       "version_minor": 0
      },
      "text/plain": [
       "Renderer(camera=PerspectiveCamera(children=(DirectionalLight(color='white', intensity=0.6, position=(0.5105252…"
      ]
     },
     "metadata": {},
     "output_type": "display_data"
    }
   ],
   "source": [
    "components = mesh_surface.split(only_watertight=False)\n",
    "\n",
    "# 统计数量\n",
    "print(f\"连通组件数量: {len(components)}\")\n",
    "\n",
    "largest = max(components, key=lambda m: len(m.faces))\n",
    "mesh_clean = largest\n",
    "\n",
    "# min_faces = 100000\n",
    "# filtered = [comp for comp in components if len(comp.faces) >= min_faces]\n",
    "\n",
    "# if len(filtered) > 0:\n",
    "#     mesh_clean = trimesh.util.concatenate(filtered)\n",
    "#     mesh_clean.export('cleaned_mesh.obj')\n",
    "#     print(f\"Keep {len(filtered)} component, output new mesh.\")\n",
    "# else:\n",
    "#     print(\"All components have been filtered\")\n",
    "\n",
    "\n",
    "v = np.asarray(mesh_clean.vertices)\n",
    "f = np.asarray(mesh_clean.faces)\n",
    "n = np.asarray(mesh_clean.vertex_normals)\n",
    "\n",
    "p = mp.plot(v, f)\n",
    "\n",
    "mesh_surface = mesh_clean\n"
   ]
  },
  {
   "cell_type": "markdown",
   "id": "9f8b42e0-f778-4f3e-8084-4f5d0187dc70",
   "metadata": {},
   "source": [
    "# Fill holes"
   ]
  },
  {
   "cell_type": "code",
   "execution_count": 21,
   "id": "6655b1b8-65b0-48c2-8d9e-9306f11ee0ab",
   "metadata": {},
   "outputs": [],
   "source": [
    "# print(f\"Is watertight? {mesh_surface.is_watertight}\")\n"
   ]
  },
  {
   "cell_type": "code",
   "execution_count": 22,
   "id": "2411d364-8958-4959-93c5-ad41612e27c6",
   "metadata": {},
   "outputs": [],
   "source": [
    "# ms = pymeshlab.MeshSet()\n",
    "# ms.add_mesh(pymeshlab.Mesh(mesh_surface.vertices, mesh_surface.faces))\n",
    "\n",
    "# ms.meshing_remove_duplicate_vertices()\n",
    "# ms.meshing_remove_duplicate_faces()\n",
    "# # ms.remove_degenerate_faces()\n",
    "# ms.meshing_repair_non_manifold_edges()\n",
    "\n",
    "\n",
    "# # 使用 hole filling filter\n",
    "# # ms.meshing_close_holes(maxholesize=100, refinehole=True)  \n",
    "\n",
    "\n",
    "# # 导出为 trimesh\n",
    "# filled = ms.current_mesh()\n",
    "# mesh_filled = trimesh.Trimesh(\n",
    "#     vertices=filled.vertex_matrix(),\n",
    "#     faces=filled.face_matrix()\n",
    "# )"
   ]
  },
  {
   "cell_type": "code",
   "execution_count": 23,
   "id": "8c886251-fd0e-452d-a234-2715aacc02eb",
   "metadata": {},
   "outputs": [],
   "source": [
    "\n",
    "# v = np.asarray(filled.vertex_matrix())\n",
    "# f = np.asarray(filled.face_matrix())\n",
    "\n",
    "# mp.plot(v, f, shading={\"wireframe\": False})\n"
   ]
  },
  {
   "cell_type": "code",
   "execution_count": 24,
   "id": "3927991e-bcc4-4c42-8f1f-54873b5183ca",
   "metadata": {},
   "outputs": [],
   "source": [
    "# mesh_o3d = o3d.geometry.TriangleMesh()\n",
    "# mesh_o3d.vertices = o3d.utility.Vector3dVector(mesh_filled.vertices)\n",
    "# mesh_o3d.triangles = o3d.utility.Vector3iVector(mesh_filled.faces)\n",
    "# mesh_o3d.compute_vertex_normals()\n",
    "\n",
    "# # # Step 2: 从 mesh 采样点云\n",
    "# # pcd = mesh_o3d.sample_points_poisson_disk(number_of_points=10000)\n",
    "\n",
    "\n",
    "\n",
    "# pcd = o3d.geometry.PointCloud()\n",
    "# pcd.points = o3d.utility.Vector3dVector(mesh_o3d.vertices)\n",
    "# pcd.normals = o3d.utility.Vector3dVector(mesh_o3d.vertex_normals)"
   ]
  },
  {
   "cell_type": "code",
   "execution_count": 25,
   "id": "4e3bcaac-9c77-4be2-9689-53c5be35fc94",
   "metadata": {},
   "outputs": [],
   "source": [
    "# mp.plot(np.asarray(pcd.points), shading={\"point_size\": 0.001})"
   ]
  },
  {
   "cell_type": "code",
   "execution_count": 26,
   "id": "a9f95d43-237f-4a95-9778-0acb5df06262",
   "metadata": {},
   "outputs": [],
   "source": [
    "# recon_mesh, _ = o3d.geometry.TriangleMesh.create_from_point_cloud_poisson(\n",
    "#     pcd, depth=8\n",
    "# )"
   ]
  },
  {
   "cell_type": "code",
   "execution_count": 27,
   "id": "a7279258-96f7-4f79-a74c-5dd8d10ba7d7",
   "metadata": {},
   "outputs": [],
   "source": [
    "# v = np.asarray(recon_mesh.vertices)\n",
    "# f = np.asarray(recon_mesh.triangles)\n",
    "# # n = np.asarray(recon_mesh.vertex_normals)\n",
    "\n",
    "# # v -= v.min(axis=0)\n",
    "# # v /= v.max()\n",
    "# # mesh.vertices = o3d.utility.Vector3dVector(v)\n",
    "# # v = np.asarray(mesh.vertices)\n",
    "\n",
    "# # Step 3: Visualize using meshplot\n",
    "# mp.plot(v, f, shading={\"wireframe\": False})"
   ]
  },
  {
   "cell_type": "code",
   "execution_count": null,
   "id": "3e0c1f41-09a6-4505-84c1-1e6b0143a775",
   "metadata": {},
   "outputs": [],
   "source": []
  },
  {
   "cell_type": "code",
   "execution_count": null,
   "id": "1037319e-e21d-483f-93a9-2f05080e2077",
   "metadata": {},
   "outputs": [],
   "source": []
  },
  {
   "cell_type": "code",
   "execution_count": null,
   "id": "0510b374-495f-4a71-b27b-6f6ef480dd3a",
   "metadata": {},
   "outputs": [],
   "source": []
  },
  {
   "cell_type": "code",
   "execution_count": null,
   "id": "773c708e-e2f9-428c-9199-a2c245f75066",
   "metadata": {},
   "outputs": [],
   "source": []
  },
  {
   "cell_type": "code",
   "execution_count": null,
   "id": "23767c60-5f87-4640-889d-cc6e9ef70578",
   "metadata": {},
   "outputs": [],
   "source": []
  },
  {
   "cell_type": "markdown",
   "id": "e8024183-5257-4a7c-8f23-aa9924e2bd30",
   "metadata": {},
   "source": [
    "# Surface Smoothing"
   ]
  },
  {
   "cell_type": "code",
   "execution_count": 28,
   "id": "14093f1c-3af9-4872-826e-6298eed5b9b0",
   "metadata": {},
   "outputs": [],
   "source": [
    "# 将 trimesh 转换为 open3d mesh\n",
    "mesh_o3d = o3d.geometry.TriangleMesh(\n",
    "    vertices=o3d.utility.Vector3dVector(mesh_surface.vertices),\n",
    "    triangles=o3d.utility.Vector3iVector(mesh_surface.faces)\n",
    ")\n",
    "\n",
    "# 可选：计算法线（用于可视化）\n",
    "mesh_o3d.compute_vertex_normals()\n",
    "\n",
    "# 执行 Laplacian 平滑\n",
    "smoothed = mesh_o3d.filter_smooth_laplacian(number_of_iterations=10)\n",
    "\n",
    "# 可选：重新计算法线\n",
    "smoothed.compute_vertex_normals()\n",
    "\n",
    "# 如果你需要导出为 trimesh 继续处理：\n",
    "smoothed_trimesh = trimesh.Trimesh(\n",
    "    vertices=np.asarray(smoothed.vertices),\n",
    "    faces=np.asarray(smoothed.triangles)\n",
    ")\n",
    "\n",
    "# ms = pymeshlab.MeshSet()\n",
    "# ms.add_mesh(pymeshlab.Mesh(mesh_surface.vertices, mesh_surface.faces))\n",
    "\n",
    "\n",
    "# ms.apply_coord_taubin_smoothing(stepsmoothnum=10, lambda_=0.5, mu=-0.53)\n",
    "\n",
    "\n",
    "# smoothed_mesh = ms.current_mesh()\n",
    "# smoothed_trimesh = trimesh.Trimesh(\n",
    "#     vertices=smoothed_mesh.vertex_matrix(),\n",
    "#     faces=smoothed_mesh.face_matrix()\n",
    "# )"
   ]
  },
  {
   "cell_type": "code",
   "execution_count": 29,
   "id": "60bb5867-cdfd-4770-a4a7-482ef225209b",
   "metadata": {},
   "outputs": [
    {
     "data": {
      "application/vnd.jupyter.widget-view+json": {
       "model_id": "d442f76a43964e378b3cf9636b24e528",
       "version_major": 2,
       "version_minor": 0
      },
      "text/plain": [
       "Renderer(camera=PerspectiveCamera(children=(DirectionalLight(color='white', intensity=0.6, position=(0.5128838…"
      ]
     },
     "metadata": {},
     "output_type": "display_data"
    },
    {
     "data": {
      "text/plain": [
       "<meshplot.Viewer.Viewer at 0x15b1bc670>"
      ]
     },
     "execution_count": 29,
     "metadata": {},
     "output_type": "execute_result"
    }
   ],
   "source": [
    "v = np.asarray(smoothed.vertices)\n",
    "f = np.asarray(smoothed.triangles)\n",
    "# v = np.asarray(smoothed_mesh.vertex_matrix())\n",
    "# f = np.asarray(smoothed_mesh.face_matrix())\n",
    "\n",
    "mp.plot(v, f, shading={\"wireframe\": False})\n"
   ]
  },
  {
   "cell_type": "code",
   "execution_count": null,
   "id": "f1b2d9cb-c632-4905-a3b7-b7f918c523dd",
   "metadata": {},
   "outputs": [],
   "source": []
  },
  {
   "cell_type": "code",
   "execution_count": null,
   "id": "29142054-3a42-4f4c-85fd-fff41a06ad49",
   "metadata": {},
   "outputs": [],
   "source": []
  },
  {
   "cell_type": "code",
   "execution_count": null,
   "id": "8938103b-a63a-4546-ad2a-7690265a3968",
   "metadata": {},
   "outputs": [],
   "source": []
  },
  {
   "cell_type": "code",
   "execution_count": null,
   "id": "c9bd3386-860d-4c90-9e4c-741d9341367c",
   "metadata": {},
   "outputs": [],
   "source": []
  },
  {
   "cell_type": "code",
   "execution_count": null,
   "id": "84c1a232-aaab-4924-a17a-25befb6dd21d",
   "metadata": {},
   "outputs": [],
   "source": []
  }
 ],
 "metadata": {
  "kernelspec": {
   "display_name": "Python 3 (ipykernel)",
   "language": "python",
   "name": "python3"
  },
  "language_info": {
   "codemirror_mode": {
    "name": "ipython",
    "version": 3
   },
   "file_extension": ".py",
   "mimetype": "text/x-python",
   "name": "python",
   "nbconvert_exporter": "python",
   "pygments_lexer": "ipython3",
   "version": "3.9.21"
  }
 },
 "nbformat": 4,
 "nbformat_minor": 5
}
