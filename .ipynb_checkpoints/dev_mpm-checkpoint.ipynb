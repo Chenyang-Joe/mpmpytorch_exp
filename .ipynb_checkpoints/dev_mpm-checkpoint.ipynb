{
 "cells": [
  {
   "cell_type": "code",
   "execution_count": 1,
   "id": "40276e22-5df6-4d13-ab35-98716bd53cf9",
   "metadata": {},
   "outputs": [
    {
     "name": "stdout",
     "output_type": "stream",
     "text": [
      "hello\n"
     ]
    }
   ],
   "source": [
    "print(\"hello\")"
   ]
  },
  {
   "cell_type": "code",
   "execution_count": 2,
   "id": "709b789d-e394-4495-a387-a5daeecd7c3b",
   "metadata": {},
   "outputs": [
    {
     "name": "stdout",
     "output_type": "stream",
     "text": [
      "Warp 1.7.1 initialized:\n",
      "   CUDA Toolkit 12.6, Driver 12.9\n",
      "   Devices:\n",
      "     \"cpu\"      : \"x86_64\"\n",
      "     \"cuda:0\"   : \"NVIDIA RTX 6000 Ada Generation\" (47 GiB, sm_89, mempool enabled)\n",
      "     \"cuda:1\"   : \"NVIDIA RTX 6000 Ada Generation\" (47 GiB, sm_89, mempool enabled)\n",
      "     \"cuda:2\"   : \"NVIDIA RTX 6000 Ada Generation\" (47 GiB, sm_89, mempool enabled)\n",
      "     \"cuda:3\"   : \"NVIDIA RTX 6000 Ada Generation\" (47 GiB, sm_89, mempool enabled)\n",
      "     \"cuda:4\"   : \"NVIDIA RTX 6000 Ada Generation\" (47 GiB, sm_89, mempool enabled)\n",
      "     \"cuda:5\"   : \"NVIDIA RTX 6000 Ada Generation\" (47 GiB, sm_89, mempool enabled)\n",
      "     \"cuda:6\"   : \"NVIDIA RTX 6000 Ada Generation\" (47 GiB, sm_89, mempool enabled)\n",
      "     \"cuda:7\"   : \"NVIDIA RTX 6000 Ada Generation\" (47 GiB, sm_89, mempool enabled)\n",
      "   CUDA peer access:\n",
      "     Supported fully (all-directional)\n",
      "   Kernel cache:\n",
      "     /home/cx2219/.cache/warp/1.7.1\n",
      "Jupyter environment detected. Enabling Open3D WebVisualizer.\n",
      "[Open3D INFO] WebRTC GUI backend enabled.\n",
      "[Open3D INFO] WebRTCWindowSystem: HTTP handshake server disabled.\n"
     ]
    }
   ],
   "source": [
    "import os\n",
    "import trimesh\n",
    "import meshplot as mp\n",
    "import numpy as np\n",
    "import torch\n",
    "from torch import Tensor\n",
    "from typing import *\n",
    "from mpm_pytorch import MPMSolver, set_boundary_conditions, get_constitutive\n",
    "from tqdm.notebook import tqdm  \n",
    "from functools import partial\n",
    "\n",
    "import matplotlib.pyplot as plt\n",
    "from matplotlib.animation import FuncAnimation\n",
    "\n",
    "from scipy import ndimage\n",
    "from scipy.ndimage import gaussian_filter\n",
    "from skimage import measure\n",
    "import open3d as o3d\n",
    "import gc\n",
    "\n"
   ]
  },
  {
   "cell_type": "code",
   "execution_count": 3,
   "id": "cac39e66-ca63-4b9f-8c1d-7b23918fca55",
   "metadata": {},
   "outputs": [],
   "source": [
    "def tensor_size_in_MB(tensor):\n",
    "    return tensor.element_size() * tensor.nelement() / 1e6  # in MB\n",
    "\n",
    "def list_gpu_tensors():\n",
    "    all_tensors = []\n",
    "    total_tensor_mem = 0.0\n",
    "\n",
    "    for obj in gc.get_objects():\n",
    "        try:\n",
    "            if torch.is_tensor(obj) or (hasattr(obj, 'data') and torch.is_tensor(obj.data)):\n",
    "                if obj.is_cuda:\n",
    "                    size_mb = tensor_size_in_MB(obj)\n",
    "                    total_tensor_mem += size_mb\n",
    "                    all_tensors.append((size_mb, obj.shape, type(obj), obj.device))\n",
    "        except Exception:\n",
    "            pass  # ignore inaccessible objects\n",
    "\n",
    "    # Sort by size\n",
    "    all_tensors.sort(reverse=True, key=lambda x: x[0])\n",
    "\n",
    "    print(f\"{'Size (MB)':>10} | {'Shape':>20} | {'Type':>30} | {'Device':>10}\")\n",
    "    print(\"-\" * 80)\n",
    "    for size_mb, shape, typ, device in all_tensors:\n",
    "        print(f\"{size_mb:10.2f} | {str(shape):>20} | {str(typ):>30} | {str(device):>10}\")\n",
    "\n",
    "    print(\"\\n\")\n",
    "    print(f\"🧠 Total memory of live tensors: {total_tensor_mem:.2f} MB\")\n",
    "    print(f\"📦 torch.cuda.memory_allocated(): {torch.cuda.memory_allocated() / 1e6:.2f} MB\")\n",
    "    print(f\"🔒 torch.cuda.memory_reserved():  {torch.cuda.memory_reserved() / 1e6:.2f} MB\")"
   ]
  },
  {
   "cell_type": "code",
   "execution_count": 4,
   "id": "1919684c-0585-49bb-86d0-ba24836ebf83",
   "metadata": {},
   "outputs": [],
   "source": [
    "def visualize_frames(\n",
    "    frames: List[np.ndarray], \n",
    "    export_path: str, \n",
    "    center: List[float] = [0.5, 0.5, 0.5],\n",
    "    size: List[float] = [2.0, 2.0, 2.0],\n",
    "    c: str = 'blue',\n",
    "    s: float = 20,\n",
    "    fps: int = 30,\n",
    "    sample_rate: int = 1\n",
    "): \n",
    "    xlim = [center[0] - size[0] / 2, center[0] + size[0] / 2]\n",
    "    ylim = [center[1] - size[1] / 2, center[1] + size[1] / 2]\n",
    "    zlim = [center[2] - size[2] / 2, center[2] + size[2] / 2]\n",
    "    fig = plt.figure()\n",
    "    ax = fig.add_subplot(111, projection='3d')\n",
    "    scat = ax.scatter([], [], [], s=s)\n",
    "    ax.set_xlim(xlim)\n",
    "    ax.set_ylim(ylim)\n",
    "    ax.set_zlim(zlim)\n",
    "    def update(frame):\n",
    "        print(f\"updating the {frame}/{len(frames)} frame\")\n",
    "        ax.cla()\n",
    "        ax.set_xlim(xlim)\n",
    "        ax.set_ylim(ylim)\n",
    "        ax.set_zlim(zlim)\n",
    "        scat = ax.scatter(frames[frame][:, 0], frames[frame][:, 1], frames[frame][:, 2], s=s, c=c)\n",
    "        ax.set_title(f'Frame {frame * sample_rate}')\n",
    "        return scat\n",
    "    ani = FuncAnimation(fig, update, frames=len(frames), blit=False)\n",
    "    ani.save(export_path, writer='pillow', fps=fps)\n",
    "    plt.close()"
   ]
  },
  {
   "cell_type": "code",
   "execution_count": 5,
   "id": "b2153ae0-878b-40a0-af91-fb7614b33661",
   "metadata": {},
   "outputs": [],
   "source": [
    "# parameters\n",
    "grid_res = 400\n",
    "\n",
    "output_dir =  \"./output\"\n",
    "tag = \"jupytertest\"\n",
    "\n",
    "elasticity_type = 'CorotatedElasticity'\n",
    "plasticity_type = 'DruckerPragerPlasticity'\n",
    "color = 'blue'\n",
    "\n",
    "model_path = f\"models/cranium_example_ds_{grid_res}.obj\"\n",
    "model_path = \"models/demo/human_500/human_500_400.obj\"\n",
    "save_path = model_path.split(\".\")[0] + \"_deformed.obj\"\n",
    "scale_factor = 0.6\n",
    "\n",
    "num_frames = 50\n",
    "steps_per_frame = 10\n",
    "initial_velocity = [0.0, 0.0, 0.0]\n",
    "boundary_conditions = [{\"type\": 'sdf_collider_test',\n",
    "      \"start_time\": 0.0,\n",
    "      \"end_time\": 1e3}]\n",
    "\n",
    "sample_rate = 30\n",
    "obj_name = model_path.split(\"/\")[-1].split(\".\")[0] + \"_\" + tag\n",
    "export_path = os.path.join(output_dir, obj_name + \"_deformation.gif\")\n",
    "animate = False"
   ]
  },
  {
   "cell_type": "markdown",
   "id": "ad0110a9-895c-40ca-b08d-8b9c35ac0a60",
   "metadata": {},
   "source": [
    "# Import Point Cloud"
   ]
  },
  {
   "cell_type": "code",
   "execution_count": 6,
   "id": "8ba6f32b-bc82-4270-953f-b48bde7d1688",
   "metadata": {},
   "outputs": [
    {
     "data": {
      "application/vnd.jupyter.widget-view+json": {
       "model_id": "23e5f26c46964406a0e51ecae0115985",
       "version_major": 2,
       "version_minor": 0
      },
      "text/plain": [
       "Renderer(camera=PerspectiveCamera(children=(DirectionalLight(color='white', intensity=0.6, position=(0.3458646…"
      ]
     },
     "metadata": {},
     "output_type": "display_data"
    },
    {
     "data": {
      "text/plain": [
       "<meshplot.Viewer.Viewer at 0x7cc78d549a30>"
      ]
     },
     "execution_count": 6,
     "metadata": {},
     "output_type": "execute_result"
    }
   ],
   "source": [
    "mesh = trimesh.load(model_path)\n",
    "\n",
    "v = np.asarray(mesh.vertices)\n",
    "\n",
    "#     set_boundary_conditions(mpm_solver, sim_params.boundary_conditions)\n",
    "\n",
    "# mesh.vertices = o3d.utility.Vector3dVector(v)\n",
    "# v = np.asarray(mesh.vertices)\n",
    "\n",
    "# Step 3: Visualize using meshplot\n",
    "mp.plot(v, shading={\"wireframe\": False})\n"
   ]
  },
  {
   "cell_type": "markdown",
   "id": "e9d2002f-876e-465e-b668-932e1290d3e1",
   "metadata": {},
   "source": [
    "# create particles"
   ]
  },
  {
   "cell_type": "code",
   "execution_count": 7,
   "id": "e9ef7df3-9958-4640-a22e-8da8a4743488",
   "metadata": {},
   "outputs": [],
   "source": [
    "def get_pc_from_v(\n",
    "    vertices: np.array,\n",
    "    scale: float,\n",
    "    center: List[float], \n",
    "    device: torch.device = torch.device(\"cuda\")\n",
    ") -> Tensor:\n",
    "    points = torch.tensor(vertices, dtype=torch.float32)\n",
    "\n",
    "    # Scale about center\n",
    "    center_tensor = torch.tensor(center, dtype=torch.float32)\n",
    "    points = (points - center_tensor) * scale + center_tensor\n",
    "\n",
    "    return points.to(device)"
   ]
  },
  {
   "cell_type": "code",
   "execution_count": 8,
   "id": "81dce260-0930-4cf8-8abb-6dba5d28a467",
   "metadata": {},
   "outputs": [],
   "source": [
    "device = torch.device(\"cuda:3\" if torch.cuda.is_available() else \"cpu\")\n",
    "particles = get_pc_from_v(\n",
    "    vertices = v,\n",
    "    device = device,\n",
    "    center=[0.5, 0.5, 0.5], \n",
    "    scale=scale_factor\n",
    ")\n",
    "n_particles = particles.shape[0]"
   ]
  },
  {
   "cell_type": "code",
   "execution_count": 9,
   "id": "0d36a6c7-a45a-436a-9f4d-ffc1e8f3e1c1",
   "metadata": {},
   "outputs": [
    {
     "data": {
      "application/vnd.jupyter.widget-view+json": {
       "model_id": "3f62a8f72aaa4780ae5171aef35eb600",
       "version_major": 2,
       "version_minor": 0
      },
      "text/plain": [
       "Renderer(camera=PerspectiveCamera(children=(DirectionalLight(color='white', intensity=0.6, position=(0.4075188…"
      ]
     },
     "metadata": {},
     "output_type": "display_data"
    },
    {
     "data": {
      "text/plain": [
       "<meshplot.Viewer.Viewer at 0x7cc7660f7b80>"
      ]
     },
     "execution_count": 9,
     "metadata": {},
     "output_type": "execute_result"
    }
   ],
   "source": [
    "particles_show = particles.clone()\n",
    "v = particles_show.cpu().numpy()\n",
    "mp.plot(v, shading={\"wireframe\": False})\n"
   ]
  },
  {
   "cell_type": "markdown",
   "id": "ae0912cb-d174-435c-8861-e97a788790ea",
   "metadata": {},
   "source": [
    "# deform"
   ]
  },
  {
   "cell_type": "code",
   "execution_count": 10,
   "id": "1fe682ad-6ff8-4080-bd0b-7e3303ec2275",
   "metadata": {},
   "outputs": [],
   "source": [
    "n_particles = particles.shape[0]\n",
    "mpm_solver = MPMSolver(\n",
    "    particles, \n",
    "    enable_train=False,\n",
    "    device=device,\n",
    "    gravity=[0.0, 0.0, 0.0]\n",
    ")\n",
    "# set_boundary_conditions(mpm_solver,boundary_conditions)\n",
    "elasticity = get_constitutive(elasticity_type, device=device)\n",
    "plasticity = get_constitutive(plasticity_type, device=device)\n"
   ]
  },
  {
   "cell_type": "markdown",
   "id": "e7d384fa-0037-40e8-956b-ae61e5186aec",
   "metadata": {},
   "source": [
    "# my deformation"
   ]
  },
  {
   "cell_type": "code",
   "execution_count": 11,
   "id": "ed3f82aa-5766-43a5-8332-85e227aea754",
   "metadata": {},
   "outputs": [],
   "source": [
    "def add_pre_particle_process(model: MPMSolver, select:Tensor, factor:float, direction:list[float], start_time: float =0.0, end_time: float=999.0):\n",
    "    # select\n",
    "    def my_deform(model: MPMSolver, x: Tensor, v:Tensor, start_time: float, end_time:float, select: Tensor):\n",
    "\n",
    "        time = model.time\n",
    "        unit_displacement = torch.tensor(direction, device=model.device).float()\n",
    "        unit_displacement = unit_displacement / unit_displacement.norm()\n",
    "        displacement = 0.000001 * factor\n",
    "        if time >= start_time and time < end_time:\n",
    "            # x[select] = x[select] + unit_displacement * displacement\n",
    "            v[select] = v[select] + unit_displacement * displacement/model.dt\n",
    "\n",
    "\n",
    "    \n",
    "    model.pre_particle_process.append(\n",
    "        partial(\n",
    "            my_deform,\n",
    "            start_time=start_time,\n",
    "            end_time=end_time,\n",
    "            select = select\n",
    "        )\n",
    "    )"
   ]
  },
  {
   "cell_type": "code",
   "execution_count": null,
   "id": "2ee3fdeb-57f4-427e-8d01-091ef9c7fecc",
   "metadata": {},
   "outputs": [],
   "source": []
  },
  {
   "cell_type": "code",
   "execution_count": null,
   "id": "5d6dffee-0017-45c3-9a7d-b048659c7929",
   "metadata": {},
   "outputs": [],
   "source": []
  },
  {
   "cell_type": "code",
   "execution_count": null,
   "id": "b97d9c76-d72a-4ec1-8f10-f6983f0a38f8",
   "metadata": {},
   "outputs": [],
   "source": []
  },
  {
   "cell_type": "code",
   "execution_count": 12,
   "id": "1c66c1c6-d5b5-42bd-9797-865c95c537cb",
   "metadata": {},
   "outputs": [
    {
     "name": "stdout",
     "output_type": "stream",
     "text": [
      "x from 0.20150375366210938 to 0.6135338544845581\n",
      "y from 0.20150375366210938 to 0.7984962463378906\n",
      "z from 0.20150375366210938 to 0.7609022855758667\n"
     ]
    }
   ],
   "source": [
    "coords_static = particles.cpu().numpy()  # Extract x-coordinates\n",
    "\n",
    "x_max = np.max(coords_static[:,0])\n",
    "x_min = np.min(coords_static[:,0])\n",
    "y_max = np.max(coords_static[:,1])\n",
    "y_min = np.min(coords_static[:,1])\n",
    "z_max = np.max(coords_static[:,2])\n",
    "z_min = np.min(coords_static[:,2])\n",
    "print(f\"x from {x_min} to {x_max}\")\n",
    "print(f\"y from {y_min} to {y_max}\")\n",
    "print(f\"z from {z_min} to {z_max}\")\n",
    "\n"
   ]
  },
  {
   "cell_type": "code",
   "execution_count": 13,
   "id": "6eceaf4e-922d-462b-8bbf-70a21a57e0e1",
   "metadata": {},
   "outputs": [],
   "source": [
    "def select_particles(particles, point, normal):\n",
    "    point = torch.tensor(point, device=particles.device, dtype=particles.dtype)\n",
    "    normal = torch.tensor(normal, device=particles.device, dtype=particles.dtype)\n",
    "\n",
    "    diff = particles - point  # shape (N, 3)\n",
    "    dot = torch.matmul(diff, normal)  # (N,)\n",
    "    \n",
    "    return dot < 0  # left side of the plane (negative dot product)"
   ]
  },
  {
   "cell_type": "code",
   "execution_count": 14,
   "id": "b824f7cf-00e9-41da-8b44-6037fc3bb45e",
   "metadata": {},
   "outputs": [
    {
     "name": "stdout",
     "output_type": "stream",
     "text": [
      "🔹 Particles on left side:  1665004/3745762 (44.45%)\n",
      "🔸 Particles on right side: 2080758/3745762 (55.55%)\n"
     ]
    },
    {
     "data": {
      "application/vnd.jupyter.widget-view+json": {
       "model_id": "c750ecf72baa4a3ca9c38c0fd1be6706",
       "version_major": 2,
       "version_minor": 0
      },
      "text/plain": [
       "Renderer(camera=PerspectiveCamera(children=(DirectionalLight(color='white', intensity=0.6, position=(0.4075188…"
      ]
     },
     "metadata": {},
     "output_type": "display_data"
    },
    {
     "data": {
      "text/plain": [
       "<meshplot.Viewer.Viewer at 0x7cc766119850>"
      ]
     },
     "execution_count": 14,
     "metadata": {},
     "output_type": "execute_result"
    }
   ],
   "source": [
    "# Test points\n",
    "# Define plane\n",
    "point = [0.3, 0.3, 0.4]\n",
    "direction = [-1, 1, -1]\n",
    "\n",
    "# Apply selector\n",
    "select = select_particles(particles, point, direction)\n",
    "\n",
    "# Count\n",
    "num_total = len(particles)\n",
    "num_left = select.sum().item()\n",
    "num_right = num_total - num_left\n",
    "\n",
    "# Percentage\n",
    "pct_left = 100.0 * num_left / num_total\n",
    "pct_right = 100.0 * num_right / num_total\n",
    "\n",
    "print(f\"🔹 Particles on left side:  {num_left}/{num_total} ({pct_left:.2f}%)\")\n",
    "print(f\"🔸 Particles on right side: {num_right}/{num_total} ({pct_right:.2f}%)\")\n",
    "\n",
    "\n",
    "color = torch.zeros(len(particles))\n",
    "# color[select] = 0.1  \n",
    "color = color.cpu().numpy()\n",
    "mp.plot(v, c = color, shading={\"wireframe\": False})"
   ]
  },
  {
   "cell_type": "code",
   "execution_count": 15,
   "id": "9a85ecf3-8a9c-4da9-a6f2-e6133334ca5f",
   "metadata": {},
   "outputs": [],
   "source": [
    "# # basic deform\n",
    "# point1 = [0.3, 0.4, 0.4]\n",
    "# direction1 = [1, 0, 0]\n",
    "# factor1 = 1\n",
    "# point2 = [0.4, 0.4, 0.4]\n",
    "# direction2 = [-1, 0, 0]\n",
    "# factor2 = 1\n",
    "# point3 = [0.4, 0.4, 0.6]\n",
    "# direction3 = [0, 0, -1]\n",
    "# factor3 = 1\n",
    "\n",
    "# # Beringei\n",
    "# point1 = [0.3, 0.4, 0.4]\n",
    "# direction1 = [1, 0.1, 0]\n",
    "# factor1 = 0.8\n",
    "# point2 = [0.45, 0.4, 0.4]\n",
    "# direction2 = [-1, 0.3, 0.3]\n",
    "# factor2 = 1.5\n",
    "# point3 = [0.4, 0.4, 0.7]\n",
    "# direction3 = [0, 0.3, -1]\n",
    "# factor3 = 0.1\n",
    "\n",
    "# # Gorilla\n",
    "# point1 = [0.3, 0.4, 0.4]\n",
    "# direction1 = [1, 0, 0.5]\n",
    "# factor1 = 1\n",
    "# point2 = [0.4, 0.4, 0.4]\n",
    "# direction2 = [0, -1, 0.]\n",
    "# factor2 = 1\n",
    "# point3 = [0.4, 0.4, 0.6]\n",
    "# direction3 = [0, 0.3, -1]\n",
    "# factor3 = 1\n",
    "\n",
    "# human\n",
    "point1 = [0.3, 0.4, 0.4]\n",
    "direction1 = [1, 0, 0]\n",
    "factor1 = 1\n",
    "point2 = [0.6, 0.4, 0.4]\n",
    "direction2 = [-1, -1, 0]\n",
    "factor2 = 0.5\n",
    "point3 = [0.3, 0.4, 0.4]\n",
    "direction3 = [1, 1, 0]\n",
    "factor3 = 0.5\n",
    "\n",
    "\n",
    "select1 = select_particles(particles, point1, direction1)\n",
    "select2 = select_particles(particles, point2, direction2)\n",
    "select3 = select_particles(particles, point3, direction3)\n"
   ]
  },
  {
   "cell_type": "code",
   "execution_count": 16,
   "id": "ad0a8300-fd81-4b4d-9024-3003487d32cd",
   "metadata": {},
   "outputs": [
    {
     "data": {
      "application/vnd.jupyter.widget-view+json": {
       "model_id": "0ee71759ea23475d905bd7f2e10244b7",
       "version_major": 2,
       "version_minor": 0
      },
      "text/plain": [
       "Renderer(camera=PerspectiveCamera(children=(DirectionalLight(color='white', intensity=0.6, position=(0.4075188…"
      ]
     },
     "metadata": {},
     "output_type": "display_data"
    },
    {
     "data": {
      "text/plain": [
       "<meshplot.Viewer.Viewer at 0x7cc766128880>"
      ]
     },
     "execution_count": 16,
     "metadata": {},
     "output_type": "execute_result"
    }
   ],
   "source": [
    "color = torch.zeros(len(particles))\n",
    "color[select1] = 0.2  \n",
    "color[select2] = 0.3\n",
    "color[select3] = 0.4\n",
    "color[select1 & select2] = 0.5\n",
    "color[select1 & select3] = 0.6\n",
    "color[select2 & select3] = 0.7\n",
    "color[select1 & select2 & select3] = 0.8\n",
    "\n",
    "\n",
    "color = color.cpu().numpy()\n",
    "mp.plot(v, c = color, shading={\"wireframe\": False})"
   ]
  },
  {
   "cell_type": "code",
   "execution_count": null,
   "id": "d5c1a9b7-92a6-4a07-8bc3-dd3d94e4e7b1",
   "metadata": {},
   "outputs": [],
   "source": []
  },
  {
   "cell_type": "code",
   "execution_count": null,
   "id": "8c3a95b0-74bf-48e8-aafa-3df477609e81",
   "metadata": {},
   "outputs": [],
   "source": []
  },
  {
   "cell_type": "code",
   "execution_count": null,
   "id": "f698a7ca-5742-472c-bc46-73da9394ff8c",
   "metadata": {},
   "outputs": [],
   "source": []
  },
  {
   "cell_type": "code",
   "execution_count": 17,
   "id": "e2a7ca30-dc3a-44b7-b99b-96a7f38b0764",
   "metadata": {},
   "outputs": [],
   "source": [
    "add_pre_particle_process(mpm_solver, factor = factor1, select = select1, direction = direction1)\n",
    "add_pre_particle_process(mpm_solver, factor = factor2, select = select2, direction = direction2)\n",
    "add_pre_particle_process(mpm_solver, factor = factor3, select = select3, direction = direction3)\n",
    "\n"
   ]
  },
  {
   "cell_type": "code",
   "execution_count": null,
   "id": "70a5e036-f895-4916-8dae-260ea19eae4c",
   "metadata": {},
   "outputs": [],
   "source": []
  },
  {
   "cell_type": "code",
   "execution_count": 18,
   "id": "5466b9f7-8ae3-4a3c-8f4c-7273137b9b1c",
   "metadata": {},
   "outputs": [
    {
     "name": "stdout",
     "output_type": "stream",
     "text": [
      " Size (MB) |                Shape |                           Type |     Device\n",
      "--------------------------------------------------------------------------------\n",
      "     44.95 | torch.Size([3745762, 3]) |         <class 'torch.Tensor'> |     cuda:3\n",
      "     44.95 | torch.Size([3745762, 3]) |         <class 'torch.Tensor'> |     cuda:3\n",
      "     44.95 | torch.Size([3745762, 3]) |         <class 'torch.Tensor'> |     cuda:3\n",
      "      3.75 | torch.Size([3745762]) |         <class 'torch.Tensor'> |     cuda:3\n",
      "      3.75 | torch.Size([3745762]) |         <class 'torch.Tensor'> |     cuda:3\n",
      "      3.75 | torch.Size([3745762]) |         <class 'torch.Tensor'> |     cuda:3\n",
      "      3.75 | torch.Size([3745762]) |         <class 'torch.Tensor'> |     cuda:3\n",
      "      0.19 | torch.Size([15625, 3]) |         <class 'torch.Tensor'> |     cuda:3\n",
      "      0.19 | torch.Size([15625, 3]) |         <class 'torch.Tensor'> |     cuda:3\n",
      "      0.06 |  torch.Size([15625]) |         <class 'torch.Tensor'> |     cuda:3\n",
      "      0.00 |  torch.Size([27, 3]) |         <class 'torch.Tensor'> |     cuda:3\n",
      "      0.00 |      torch.Size([3]) |         <class 'torch.Tensor'> |     cuda:3\n",
      "      0.00 |      torch.Size([1]) |         <class 'torch.Tensor'> |     cuda:3\n",
      "      0.00 |      torch.Size([1]) |         <class 'torch.Tensor'> |     cuda:3\n",
      "      0.00 |      torch.Size([1]) |         <class 'torch.Tensor'> |     cuda:3\n",
      "      0.00 |      torch.Size([1]) |         <class 'torch.Tensor'> |     cuda:3\n",
      "      0.00 |      torch.Size([1]) |         <class 'torch.Tensor'> |     cuda:3\n",
      "      0.00 |      torch.Size([1]) |         <class 'torch.Tensor'> |     cuda:3\n",
      "      0.00 |      torch.Size([1]) | <class 'torch.nn.parameter.Parameter'> |     cuda:3\n",
      "      0.00 |      torch.Size([1]) | <class 'torch.nn.parameter.Parameter'> |     cuda:3\n",
      "\n",
      "\n",
      "🧠 Total memory of live tensors: 150.27 MB\n",
      "📦 torch.cuda.memory_allocated(): 0.00 MB\n",
      "🔒 torch.cuda.memory_reserved():  0.00 MB\n"
     ]
    },
    {
     "name": "stderr",
     "output_type": "stream",
     "text": [
      "/home/cx2219/miniconda3/envs/mpmpytorch/lib/python3.9/site-packages/torch/__init__.py:1117: FutureWarning: `torch.distributed.reduce_op` is deprecated, please use `torch.distributed.ReduceOp` instead\n",
      "  return isinstance(obj, torch.Tensor)\n",
      "/tmp/ipykernel_1202019/2949170866.py:10: FutureWarning: `torch.distributed.reduce_op` is deprecated, please use `torch.distributed.ReduceOp` instead\n",
      "  if torch.is_tensor(obj) or (hasattr(obj, 'data') and torch.is_tensor(obj.data)):\n"
     ]
    }
   ],
   "source": [
    "list_gpu_tensors()"
   ]
  },
  {
   "cell_type": "code",
   "execution_count": 19,
   "id": "4c3ac160-e6ad-40a3-9c06-1bffab0309c4",
   "metadata": {},
   "outputs": [],
   "source": [
    "# Initialize particle states\n",
    "x = particles\n",
    "v = torch.stack([torch.tensor(initial_velocity, device=device) for _ in range(n_particles)])\n",
    "C = torch.zeros((n_particles, 3, 3), device=device)\n",
    "F = torch.eye(3, device=device).unsqueeze(0).repeat(n_particles, 1, 1)\n"
   ]
  },
  {
   "cell_type": "code",
   "execution_count": 20,
   "id": "b312e79e-308b-4390-a8ce-b53319854a08",
   "metadata": {
    "scrolled": true
   },
   "outputs": [
    {
     "data": {
      "application/vnd.jupyter.widget-view+json": {
       "model_id": "809374180f3d4fe4b8169590b24bb696",
       "version_major": 2,
       "version_minor": 0
      },
      "text/plain": [
       "Simulating:   0%|          | 0/50 [00:00<?, ?it/s]"
      ]
     },
     "metadata": {},
     "output_type": "display_data"
    },
    {
     "data": {
      "application/vnd.jupyter.widget-view+json": {
       "model_id": "b16327ec84eb4b92845f747dc808d915",
       "version_major": 2,
       "version_minor": 0
      },
      "text/plain": [
       "Step:   0%|          | 0/10 [00:00<?, ?it/s]"
      ]
     },
     "metadata": {},
     "output_type": "display_data"
    },
    {
     "name": "stdout",
     "output_type": "stream",
     "text": [
      "Module mpm_pytorch.constitutive_models.warp_svd.svd b8eca8e load on device 'cuda:3' took 0.45 ms  (cached)\n"
     ]
    },
    {
     "data": {
      "application/vnd.jupyter.widget-view+json": {
       "model_id": "d1b9098c08c941a99eff4707ac9d19e7",
       "version_major": 2,
       "version_minor": 0
      },
      "text/plain": [
       "Step:   0%|          | 0/10 [00:00<?, ?it/s]"
      ]
     },
     "metadata": {},
     "output_type": "display_data"
    },
    {
     "data": {
      "application/vnd.jupyter.widget-view+json": {
       "model_id": "a722f099ddef4828a959d2e646f97371",
       "version_major": 2,
       "version_minor": 0
      },
      "text/plain": [
       "Step:   0%|          | 0/10 [00:00<?, ?it/s]"
      ]
     },
     "metadata": {},
     "output_type": "display_data"
    },
    {
     "data": {
      "application/vnd.jupyter.widget-view+json": {
       "model_id": "0def3dde240f4d11961da64af0388783",
       "version_major": 2,
       "version_minor": 0
      },
      "text/plain": [
       "Step:   0%|          | 0/10 [00:00<?, ?it/s]"
      ]
     },
     "metadata": {},
     "output_type": "display_data"
    },
    {
     "data": {
      "application/vnd.jupyter.widget-view+json": {
       "model_id": "6b9743f4cc774d11a011d95027fade88",
       "version_major": 2,
       "version_minor": 0
      },
      "text/plain": [
       "Step:   0%|          | 0/10 [00:00<?, ?it/s]"
      ]
     },
     "metadata": {},
     "output_type": "display_data"
    },
    {
     "data": {
      "application/vnd.jupyter.widget-view+json": {
       "model_id": "b1928fb793ba40b5a24049ac6c2b27fd",
       "version_major": 2,
       "version_minor": 0
      },
      "text/plain": [
       "Step:   0%|          | 0/10 [00:00<?, ?it/s]"
      ]
     },
     "metadata": {},
     "output_type": "display_data"
    },
    {
     "data": {
      "application/vnd.jupyter.widget-view+json": {
       "model_id": "e86164388ba0496693cf7bc6353f869e",
       "version_major": 2,
       "version_minor": 0
      },
      "text/plain": [
       "Step:   0%|          | 0/10 [00:00<?, ?it/s]"
      ]
     },
     "metadata": {},
     "output_type": "display_data"
    },
    {
     "data": {
      "application/vnd.jupyter.widget-view+json": {
       "model_id": "03d7448695ed44ccb3e538df319afc5d",
       "version_major": 2,
       "version_minor": 0
      },
      "text/plain": [
       "Step:   0%|          | 0/10 [00:00<?, ?it/s]"
      ]
     },
     "metadata": {},
     "output_type": "display_data"
    },
    {
     "data": {
      "application/vnd.jupyter.widget-view+json": {
       "model_id": "a99b6ef5ab864dde8e0baa5e19c7a459",
       "version_major": 2,
       "version_minor": 0
      },
      "text/plain": [
       "Step:   0%|          | 0/10 [00:00<?, ?it/s]"
      ]
     },
     "metadata": {},
     "output_type": "display_data"
    },
    {
     "data": {
      "application/vnd.jupyter.widget-view+json": {
       "model_id": "a7e8f2c107584d7fb4b76c75c5b357b9",
       "version_major": 2,
       "version_minor": 0
      },
      "text/plain": [
       "Step:   0%|          | 0/10 [00:00<?, ?it/s]"
      ]
     },
     "metadata": {},
     "output_type": "display_data"
    },
    {
     "data": {
      "application/vnd.jupyter.widget-view+json": {
       "model_id": "90fc082f0c4945c5bb6025ddb1b695c2",
       "version_major": 2,
       "version_minor": 0
      },
      "text/plain": [
       "Step:   0%|          | 0/10 [00:00<?, ?it/s]"
      ]
     },
     "metadata": {},
     "output_type": "display_data"
    },
    {
     "data": {
      "application/vnd.jupyter.widget-view+json": {
       "model_id": "a4d69e2d5934491b90769a343d1c2980",
       "version_major": 2,
       "version_minor": 0
      },
      "text/plain": [
       "Step:   0%|          | 0/10 [00:00<?, ?it/s]"
      ]
     },
     "metadata": {},
     "output_type": "display_data"
    },
    {
     "data": {
      "application/vnd.jupyter.widget-view+json": {
       "model_id": "97b97329ffc349bd9c754bf1fa95f385",
       "version_major": 2,
       "version_minor": 0
      },
      "text/plain": [
       "Step:   0%|          | 0/10 [00:00<?, ?it/s]"
      ]
     },
     "metadata": {},
     "output_type": "display_data"
    },
    {
     "data": {
      "application/vnd.jupyter.widget-view+json": {
       "model_id": "273567f63dbf4dd7a426c973fd85ceea",
       "version_major": 2,
       "version_minor": 0
      },
      "text/plain": [
       "Step:   0%|          | 0/10 [00:00<?, ?it/s]"
      ]
     },
     "metadata": {},
     "output_type": "display_data"
    },
    {
     "data": {
      "application/vnd.jupyter.widget-view+json": {
       "model_id": "968b226f6275400583fa538be29dca78",
       "version_major": 2,
       "version_minor": 0
      },
      "text/plain": [
       "Step:   0%|          | 0/10 [00:00<?, ?it/s]"
      ]
     },
     "metadata": {},
     "output_type": "display_data"
    },
    {
     "data": {
      "application/vnd.jupyter.widget-view+json": {
       "model_id": "9cb79e0bd501492eb7426657d4293e22",
       "version_major": 2,
       "version_minor": 0
      },
      "text/plain": [
       "Step:   0%|          | 0/10 [00:00<?, ?it/s]"
      ]
     },
     "metadata": {},
     "output_type": "display_data"
    },
    {
     "data": {
      "application/vnd.jupyter.widget-view+json": {
       "model_id": "00344b20e7554a02b305350b0f9a5bfe",
       "version_major": 2,
       "version_minor": 0
      },
      "text/plain": [
       "Step:   0%|          | 0/10 [00:00<?, ?it/s]"
      ]
     },
     "metadata": {},
     "output_type": "display_data"
    },
    {
     "data": {
      "application/vnd.jupyter.widget-view+json": {
       "model_id": "001d4b7fece44cca94d1d95bf3534032",
       "version_major": 2,
       "version_minor": 0
      },
      "text/plain": [
       "Step:   0%|          | 0/10 [00:00<?, ?it/s]"
      ]
     },
     "metadata": {},
     "output_type": "display_data"
    },
    {
     "data": {
      "application/vnd.jupyter.widget-view+json": {
       "model_id": "1405fd73419e484f83a43b55cefd89f5",
       "version_major": 2,
       "version_minor": 0
      },
      "text/plain": [
       "Step:   0%|          | 0/10 [00:00<?, ?it/s]"
      ]
     },
     "metadata": {},
     "output_type": "display_data"
    },
    {
     "data": {
      "application/vnd.jupyter.widget-view+json": {
       "model_id": "9421ee94b9894378a0b4acee72b30aab",
       "version_major": 2,
       "version_minor": 0
      },
      "text/plain": [
       "Step:   0%|          | 0/10 [00:00<?, ?it/s]"
      ]
     },
     "metadata": {},
     "output_type": "display_data"
    },
    {
     "data": {
      "application/vnd.jupyter.widget-view+json": {
       "model_id": "3a11ac9ba2674476b59afbd7e81c75a9",
       "version_major": 2,
       "version_minor": 0
      },
      "text/plain": [
       "Step:   0%|          | 0/10 [00:00<?, ?it/s]"
      ]
     },
     "metadata": {},
     "output_type": "display_data"
    },
    {
     "data": {
      "application/vnd.jupyter.widget-view+json": {
       "model_id": "f31b2d2c2afc4e10bf3fb4e97adbf737",
       "version_major": 2,
       "version_minor": 0
      },
      "text/plain": [
       "Step:   0%|          | 0/10 [00:00<?, ?it/s]"
      ]
     },
     "metadata": {},
     "output_type": "display_data"
    },
    {
     "data": {
      "application/vnd.jupyter.widget-view+json": {
       "model_id": "ee1149f9e53c4431a05e4e8bb9b3896e",
       "version_major": 2,
       "version_minor": 0
      },
      "text/plain": [
       "Step:   0%|          | 0/10 [00:00<?, ?it/s]"
      ]
     },
     "metadata": {},
     "output_type": "display_data"
    },
    {
     "data": {
      "application/vnd.jupyter.widget-view+json": {
       "model_id": "e557fc171c5c401293b1cdf6f0a506c7",
       "version_major": 2,
       "version_minor": 0
      },
      "text/plain": [
       "Step:   0%|          | 0/10 [00:00<?, ?it/s]"
      ]
     },
     "metadata": {},
     "output_type": "display_data"
    },
    {
     "data": {
      "application/vnd.jupyter.widget-view+json": {
       "model_id": "a479c16f18be4b998c84e7465570c3a1",
       "version_major": 2,
       "version_minor": 0
      },
      "text/plain": [
       "Step:   0%|          | 0/10 [00:00<?, ?it/s]"
      ]
     },
     "metadata": {},
     "output_type": "display_data"
    },
    {
     "data": {
      "application/vnd.jupyter.widget-view+json": {
       "model_id": "53120e995f1b45ed969a0daaed329edb",
       "version_major": 2,
       "version_minor": 0
      },
      "text/plain": [
       "Step:   0%|          | 0/10 [00:00<?, ?it/s]"
      ]
     },
     "metadata": {},
     "output_type": "display_data"
    },
    {
     "data": {
      "application/vnd.jupyter.widget-view+json": {
       "model_id": "65b95c4138794fa8b60408b0933ea909",
       "version_major": 2,
       "version_minor": 0
      },
      "text/plain": [
       "Step:   0%|          | 0/10 [00:00<?, ?it/s]"
      ]
     },
     "metadata": {},
     "output_type": "display_data"
    },
    {
     "data": {
      "application/vnd.jupyter.widget-view+json": {
       "model_id": "011eb18e24414e3586c40148e4336fd6",
       "version_major": 2,
       "version_minor": 0
      },
      "text/plain": [
       "Step:   0%|          | 0/10 [00:00<?, ?it/s]"
      ]
     },
     "metadata": {},
     "output_type": "display_data"
    },
    {
     "data": {
      "application/vnd.jupyter.widget-view+json": {
       "model_id": "51ece745dc12464da3e0aa2cf92fdca3",
       "version_major": 2,
       "version_minor": 0
      },
      "text/plain": [
       "Step:   0%|          | 0/10 [00:00<?, ?it/s]"
      ]
     },
     "metadata": {},
     "output_type": "display_data"
    },
    {
     "data": {
      "application/vnd.jupyter.widget-view+json": {
       "model_id": "aac4b7abc2c64b4485c6163aa2bf8aed",
       "version_major": 2,
       "version_minor": 0
      },
      "text/plain": [
       "Step:   0%|          | 0/10 [00:00<?, ?it/s]"
      ]
     },
     "metadata": {},
     "output_type": "display_data"
    },
    {
     "data": {
      "application/vnd.jupyter.widget-view+json": {
       "model_id": "b0917eabe0194d30b1f7aee67ccaf7ab",
       "version_major": 2,
       "version_minor": 0
      },
      "text/plain": [
       "Step:   0%|          | 0/10 [00:00<?, ?it/s]"
      ]
     },
     "metadata": {},
     "output_type": "display_data"
    },
    {
     "data": {
      "application/vnd.jupyter.widget-view+json": {
       "model_id": "30bd8203b3904ed188d4d1a100a72bda",
       "version_major": 2,
       "version_minor": 0
      },
      "text/plain": [
       "Step:   0%|          | 0/10 [00:00<?, ?it/s]"
      ]
     },
     "metadata": {},
     "output_type": "display_data"
    },
    {
     "data": {
      "application/vnd.jupyter.widget-view+json": {
       "model_id": "990ea57005d2409bb5a3fc9493799ed1",
       "version_major": 2,
       "version_minor": 0
      },
      "text/plain": [
       "Step:   0%|          | 0/10 [00:00<?, ?it/s]"
      ]
     },
     "metadata": {},
     "output_type": "display_data"
    },
    {
     "data": {
      "application/vnd.jupyter.widget-view+json": {
       "model_id": "9f27d3a72e7d4d3a81c4915800de4395",
       "version_major": 2,
       "version_minor": 0
      },
      "text/plain": [
       "Step:   0%|          | 0/10 [00:00<?, ?it/s]"
      ]
     },
     "metadata": {},
     "output_type": "display_data"
    },
    {
     "data": {
      "application/vnd.jupyter.widget-view+json": {
       "model_id": "2edb21000442464aa8a67c55ff000207",
       "version_major": 2,
       "version_minor": 0
      },
      "text/plain": [
       "Step:   0%|          | 0/10 [00:00<?, ?it/s]"
      ]
     },
     "metadata": {},
     "output_type": "display_data"
    },
    {
     "data": {
      "application/vnd.jupyter.widget-view+json": {
       "model_id": "f3de5ba397324f6fa7b9e2626341afa3",
       "version_major": 2,
       "version_minor": 0
      },
      "text/plain": [
       "Step:   0%|          | 0/10 [00:00<?, ?it/s]"
      ]
     },
     "metadata": {},
     "output_type": "display_data"
    },
    {
     "data": {
      "application/vnd.jupyter.widget-view+json": {
       "model_id": "380dcc7b817d4f5591d341961b480f85",
       "version_major": 2,
       "version_minor": 0
      },
      "text/plain": [
       "Step:   0%|          | 0/10 [00:00<?, ?it/s]"
      ]
     },
     "metadata": {},
     "output_type": "display_data"
    },
    {
     "data": {
      "application/vnd.jupyter.widget-view+json": {
       "model_id": "a30fc5d45b074280afe7794e53c7acc9",
       "version_major": 2,
       "version_minor": 0
      },
      "text/plain": [
       "Step:   0%|          | 0/10 [00:00<?, ?it/s]"
      ]
     },
     "metadata": {},
     "output_type": "display_data"
    },
    {
     "data": {
      "application/vnd.jupyter.widget-view+json": {
       "model_id": "c8189d353f0b4a308cd6f61bc615958b",
       "version_major": 2,
       "version_minor": 0
      },
      "text/plain": [
       "Step:   0%|          | 0/10 [00:00<?, ?it/s]"
      ]
     },
     "metadata": {},
     "output_type": "display_data"
    },
    {
     "data": {
      "application/vnd.jupyter.widget-view+json": {
       "model_id": "f89bd06bc35c4a8f924ac97f757506e4",
       "version_major": 2,
       "version_minor": 0
      },
      "text/plain": [
       "Step:   0%|          | 0/10 [00:00<?, ?it/s]"
      ]
     },
     "metadata": {},
     "output_type": "display_data"
    },
    {
     "data": {
      "application/vnd.jupyter.widget-view+json": {
       "model_id": "5c14f7c5065b4d2abf800bea170ac59c",
       "version_major": 2,
       "version_minor": 0
      },
      "text/plain": [
       "Step:   0%|          | 0/10 [00:00<?, ?it/s]"
      ]
     },
     "metadata": {},
     "output_type": "display_data"
    },
    {
     "data": {
      "application/vnd.jupyter.widget-view+json": {
       "model_id": "fbadaab1df644daabbf4d318362d9d74",
       "version_major": 2,
       "version_minor": 0
      },
      "text/plain": [
       "Step:   0%|          | 0/10 [00:00<?, ?it/s]"
      ]
     },
     "metadata": {},
     "output_type": "display_data"
    },
    {
     "data": {
      "application/vnd.jupyter.widget-view+json": {
       "model_id": "c7aab51ef7a547adb571814811ea7ed8",
       "version_major": 2,
       "version_minor": 0
      },
      "text/plain": [
       "Step:   0%|          | 0/10 [00:00<?, ?it/s]"
      ]
     },
     "metadata": {},
     "output_type": "display_data"
    },
    {
     "data": {
      "application/vnd.jupyter.widget-view+json": {
       "model_id": "e2ed437b6e4342c290240d8301a5b389",
       "version_major": 2,
       "version_minor": 0
      },
      "text/plain": [
       "Step:   0%|          | 0/10 [00:00<?, ?it/s]"
      ]
     },
     "metadata": {},
     "output_type": "display_data"
    },
    {
     "data": {
      "application/vnd.jupyter.widget-view+json": {
       "model_id": "dc80fb6005f84c04b46237f77d9fe3e4",
       "version_major": 2,
       "version_minor": 0
      },
      "text/plain": [
       "Step:   0%|          | 0/10 [00:00<?, ?it/s]"
      ]
     },
     "metadata": {},
     "output_type": "display_data"
    },
    {
     "data": {
      "application/vnd.jupyter.widget-view+json": {
       "model_id": "5685378a8ca54c798b3c3462b6d24bd4",
       "version_major": 2,
       "version_minor": 0
      },
      "text/plain": [
       "Step:   0%|          | 0/10 [00:00<?, ?it/s]"
      ]
     },
     "metadata": {},
     "output_type": "display_data"
    },
    {
     "data": {
      "application/vnd.jupyter.widget-view+json": {
       "model_id": "0adcdc50491949f88bf54d6bd1cf755d",
       "version_major": 2,
       "version_minor": 0
      },
      "text/plain": [
       "Step:   0%|          | 0/10 [00:00<?, ?it/s]"
      ]
     },
     "metadata": {},
     "output_type": "display_data"
    },
    {
     "data": {
      "application/vnd.jupyter.widget-view+json": {
       "model_id": "c2102236be214ff98c92db1367ab067b",
       "version_major": 2,
       "version_minor": 0
      },
      "text/plain": [
       "Step:   0%|          | 0/10 [00:00<?, ?it/s]"
      ]
     },
     "metadata": {},
     "output_type": "display_data"
    },
    {
     "data": {
      "application/vnd.jupyter.widget-view+json": {
       "model_id": "8cca2b7a12d44ad3b5535df6cc49c135",
       "version_major": 2,
       "version_minor": 0
      },
      "text/plain": [
       "Step:   0%|          | 0/10 [00:00<?, ?it/s]"
      ]
     },
     "metadata": {},
     "output_type": "display_data"
    },
    {
     "data": {
      "application/vnd.jupyter.widget-view+json": {
       "model_id": "260c6aefe7534907a85a7097acf5712d",
       "version_major": 2,
       "version_minor": 0
      },
      "text/plain": [
       "Step:   0%|          | 0/10 [00:00<?, ?it/s]"
      ]
     },
     "metadata": {},
     "output_type": "display_data"
    }
   ],
   "source": [
    "# Run simulation\n",
    "frames = []\n",
    "for frame in tqdm(range(num_frames), desc='Simulating'):\n",
    "    frames.append(x.cpu().numpy())\n",
    "    for step in tqdm(range(steps_per_frame), desc='Step'):\n",
    "        # Update stress\n",
    "        stress = elasticity(F)\n",
    "        # Particle to grid, grid update, grid to particle\n",
    "        x, v, C, F = mpm_solver(x, v, C, F, stress)\n",
    "        # Plasticity correction\n",
    "        F = plasticity(F)"
   ]
  },
  {
   "cell_type": "code",
   "execution_count": 21,
   "id": "d3a2c701-11cf-4a11-b754-f614dd4c7c27",
   "metadata": {},
   "outputs": [
    {
     "name": "stdout",
     "output_type": "stream",
     "text": [
      " Size (MB) |                Shape |                           Type |     Device\n",
      "--------------------------------------------------------------------------------\n",
      "    134.85 | torch.Size([3745762, 3, 3]) |         <class 'torch.Tensor'> |     cuda:3\n",
      "    134.85 | torch.Size([3745762, 3, 3]) |         <class 'torch.Tensor'> |     cuda:3\n",
      "    134.85 | torch.Size([3745762, 3, 3]) |         <class 'torch.Tensor'> |     cuda:3\n",
      "     44.95 | torch.Size([3745762, 3]) |         <class 'torch.Tensor'> |     cuda:3\n",
      "     44.95 | torch.Size([3745762, 3]) |         <class 'torch.Tensor'> |     cuda:3\n",
      "     44.95 | torch.Size([3745762, 3]) |         <class 'torch.Tensor'> |     cuda:3\n",
      "     44.95 | torch.Size([3745762, 3]) |         <class 'torch.Tensor'> |     cuda:3\n",
      "     44.95 | torch.Size([3745762, 3]) |         <class 'torch.Tensor'> |     cuda:3\n",
      "      3.75 | torch.Size([3745762]) |         <class 'torch.Tensor'> |     cuda:3\n",
      "      3.75 | torch.Size([3745762]) |         <class 'torch.Tensor'> |     cuda:3\n",
      "      3.75 | torch.Size([3745762]) |         <class 'torch.Tensor'> |     cuda:3\n",
      "      3.75 | torch.Size([3745762]) |         <class 'torch.Tensor'> |     cuda:3\n",
      "      0.19 | torch.Size([15625, 3]) |         <class 'torch.Tensor'> |     cuda:3\n",
      "      0.19 | torch.Size([15625, 3]) |         <class 'torch.Tensor'> |     cuda:3\n",
      "      0.06 |  torch.Size([15625]) |         <class 'torch.Tensor'> |     cuda:3\n",
      "      0.00 |  torch.Size([27, 3]) |         <class 'torch.Tensor'> |     cuda:3\n",
      "      0.00 |      torch.Size([3]) |         <class 'torch.Tensor'> |     cuda:3\n",
      "      0.00 |      torch.Size([1]) |         <class 'torch.Tensor'> |     cuda:3\n",
      "      0.00 |      torch.Size([1]) |         <class 'torch.Tensor'> |     cuda:3\n",
      "      0.00 |      torch.Size([1]) |         <class 'torch.Tensor'> |     cuda:3\n",
      "      0.00 |      torch.Size([1]) |         <class 'torch.Tensor'> |     cuda:3\n",
      "      0.00 |      torch.Size([1]) |         <class 'torch.Tensor'> |     cuda:3\n",
      "      0.00 |      torch.Size([1]) |         <class 'torch.Tensor'> |     cuda:3\n",
      "      0.00 |      torch.Size([1]) | <class 'torch.nn.parameter.Parameter'> |     cuda:3\n",
      "      0.00 |      torch.Size([1]) | <class 'torch.nn.parameter.Parameter'> |     cuda:3\n",
      "\n",
      "\n",
      "🧠 Total memory of live tensors: 644.71 MB\n",
      "📦 torch.cuda.memory_allocated(): 0.00 MB\n",
      "🔒 torch.cuda.memory_reserved():  0.00 MB\n"
     ]
    },
    {
     "name": "stderr",
     "output_type": "stream",
     "text": [
      "/tmp/ipykernel_1202019/2949170866.py:10: FutureWarning: `torch.distributed.reduce_op` is deprecated, please use `torch.distributed.ReduceOp` instead\n",
      "  if torch.is_tensor(obj) or (hasattr(obj, 'data') and torch.is_tensor(obj.data)):\n"
     ]
    }
   ],
   "source": [
    "list_gpu_tensors()"
   ]
  },
  {
   "cell_type": "code",
   "execution_count": 22,
   "id": "2aa070f7-b234-4303-94ce-d811e8e04851",
   "metadata": {},
   "outputs": [
    {
     "data": {
      "application/vnd.jupyter.widget-view+json": {
       "model_id": "f5bc9a78edb1488eb4450c46dfcb6259",
       "version_major": 2,
       "version_minor": 0
      },
      "text/plain": [
       "Renderer(camera=PerspectiveCamera(children=(DirectionalLight(color='white', intensity=0.6, position=(0.4309892…"
      ]
     },
     "metadata": {},
     "output_type": "display_data"
    },
    {
     "data": {
      "text/plain": [
       "<meshplot.Viewer.Viewer at 0x7cc784e64850>"
      ]
     },
     "execution_count": 22,
     "metadata": {},
     "output_type": "execute_result"
    }
   ],
   "source": [
    "particles_show = x.clone()\n",
    "v = particles_show.cpu().numpy()\n",
    "mp.plot(v, c = color, shading={\"wireframe\": False})"
   ]
  },
  {
   "cell_type": "code",
   "execution_count": 23,
   "id": "934a8d8f-6831-4c3b-9c56-98ddfdbc45d2",
   "metadata": {},
   "outputs": [],
   "source": [
    "if animate:\n",
    "    new_frames = frames[::sample_rate]\n",
    "    \n",
    "    # Visualize\n",
    "    print(f'Rendering to {export_path}...')\n",
    "    visualize_frames(\n",
    "        new_frames, \n",
    "        export_path=export_path, \n",
    "        size=[1, 1, 1], \n",
    "        c=color,\n",
    "        sample_rate = sample_rate\n",
    "    )"
   ]
  },
  {
   "cell_type": "markdown",
   "id": "80f3e615-522d-4c1a-ad6a-0bb2cd64bcaa",
   "metadata": {},
   "source": [
    "# import messed up pc to voxel inside"
   ]
  },
  {
   "cell_type": "code",
   "execution_count": 24,
   "id": "5b88e206-c29d-4d9d-9bf5-a5550728167e",
   "metadata": {},
   "outputs": [],
   "source": [
    "\n",
    "points_inside = particles_show.cpu().numpy()\n",
    "indices = (points_inside * grid_res).astype(int)\n",
    "indices = np.clip(indices, 0, grid_res - 1)  # make sure indices are valid\n",
    "\n",
    "# Create occupancy grid\n",
    "inside = np.zeros((grid_res, grid_res, grid_res), dtype=bool)\n",
    "for i, j, k in indices:\n",
    "    inside[i, j, k] = True\n",
    "\n",
    "inside = inside.ravel(order='C')"
   ]
  },
  {
   "cell_type": "code",
   "execution_count": 25,
   "id": "4ca59091-947b-4d53-847c-356c1baba388",
   "metadata": {},
   "outputs": [
    {
     "data": {
      "application/vnd.jupyter.widget-view+json": {
       "model_id": "857b4dcca9b549e381d6e671d6bb44bb",
       "version_major": 2,
       "version_minor": 0
      },
      "text/plain": [
       "Renderer(camera=PerspectiveCamera(children=(DirectionalLight(color='white', intensity=0.6, position=(0.4309892…"
      ]
     },
     "metadata": {},
     "output_type": "display_data"
    }
   ],
   "source": [
    "p = mp.plot(points_inside, shading={\"wireframe\": False})"
   ]
  },
  {
   "cell_type": "markdown",
   "id": "1b450a1a-5559-47e1-af7f-4adc83bb2d07",
   "metadata": {},
   "source": [
    "# voxel to SDF"
   ]
  },
  {
   "cell_type": "code",
   "execution_count": 26,
   "id": "697ac229-cb78-4f59-bf50-bbf9f7ef2bae",
   "metadata": {},
   "outputs": [],
   "source": [
    "# continuous\n",
    "inside_volume = inside.reshape((grid_res, grid_res, grid_res))  # shape: (Z, Y, X)\n",
    "\n",
    "outside_mask = ~inside_volume  # 0=inside, 1=outside\n",
    "\n",
    "dist_out = ndimage.distance_transform_edt(outside_mask)\n",
    "\n",
    "dist_in = ndimage.distance_transform_edt(inside_volume)\n",
    "\n",
    "sdf_volume = dist_out - dist_in  # outside: positive, inside: negative\n",
    "\n",
    "sdf_smoothed = gaussian_filter(sdf_volume, sigma=1.0)\n",
    "\n",
    "sdf_volume = sdf_smoothed\n"
   ]
  },
  {
   "cell_type": "markdown",
   "id": "91803715-245b-4ae0-986d-7eea4dc2b18c",
   "metadata": {},
   "source": [
    "# SDF to Surface Mesh"
   ]
  },
  {
   "cell_type": "code",
   "execution_count": 27,
   "id": "1d084591-90a0-4fc4-92a6-a74dc7e2ba7b",
   "metadata": {},
   "outputs": [],
   "source": [
    "\n",
    "\n",
    "verts, faces, normals, values = measure.marching_cubes(sdf_volume, level=0.0)\n",
    "\n",
    "verts = verts[:, [2, 1, 0]]  # 把 zyx 转成 xyz\n",
    "\n",
    "spacing = 1.0 / (sdf_volume.shape[0] - 1)\n",
    "verts *= spacing  # 恢复真实坐标\n",
    "\n",
    "mesh_surface = trimesh.Trimesh(vertices=verts, faces=faces, vertex_normals=normals)\n"
   ]
  },
  {
   "cell_type": "code",
   "execution_count": 28,
   "id": "15a71fb3-3963-4630-833b-457f6380ddb3",
   "metadata": {},
   "outputs": [
    {
     "data": {
      "application/vnd.jupyter.widget-view+json": {
       "model_id": "44a1c29456e541e69adcd646ebb04727",
       "version_major": 2,
       "version_minor": 0
      },
      "text/plain": [
       "Renderer(camera=PerspectiveCamera(children=(DirectionalLight(color='white', intensity=0.6, position=(0.4822243…"
      ]
     },
     "metadata": {},
     "output_type": "display_data"
    },
    {
     "data": {
      "text/plain": [
       "<meshplot.Viewer.Viewer at 0x7cc784d2cc40>"
      ]
     },
     "execution_count": 28,
     "metadata": {},
     "output_type": "execute_result"
    }
   ],
   "source": [
    "\n",
    "v = np.asarray(mesh_surface.vertices)\n",
    "f = np.asarray(mesh_surface.faces)\n",
    "n = np.asarray(mesh_surface.vertex_normals)\n",
    "\n",
    "mp.plot(v, f, shading={\"wireframe\": False})\n"
   ]
  },
  {
   "cell_type": "markdown",
   "id": "9df9b97e-8815-49e7-94cc-c03ab3afe3a8",
   "metadata": {},
   "source": [
    "# Clean again"
   ]
  },
  {
   "cell_type": "code",
   "execution_count": 29,
   "id": "1c8e0f0a-d224-4520-b9c3-0291c25cb088",
   "metadata": {},
   "outputs": [
    {
     "name": "stdout",
     "output_type": "stream",
     "text": [
      "连通组件数量: 361\n"
     ]
    },
    {
     "data": {
      "application/vnd.jupyter.widget-view+json": {
       "model_id": "01b60c94f7be4844936e0f41d1c5f152",
       "version_major": 2,
       "version_minor": 0
      },
      "text/plain": [
       "Renderer(camera=PerspectiveCamera(children=(DirectionalLight(color='white', intensity=0.6, position=(0.4822243…"
      ]
     },
     "metadata": {},
     "output_type": "display_data"
    }
   ],
   "source": [
    "components = mesh_surface.split(only_watertight=False)\n",
    "\n",
    "# 统计数量\n",
    "print(f\"连通组件数量: {len(components)}\")\n",
    "\n",
    "largest = max(components, key=lambda m: len(m.faces))\n",
    "mesh_clean = largest\n",
    "\n",
    "# min_faces = 100000\n",
    "# filtered = [comp for comp in components if len(comp.faces) >= min_faces]\n",
    "\n",
    "# if len(filtered) > 0:\n",
    "#     mesh_clean = trimesh.util.concatenate(filtered)\n",
    "#     mesh_clean.export('cleaned_mesh.obj')\n",
    "#     print(f\"Keep {len(filtered)} component, output new mesh.\")\n",
    "# else:\n",
    "#     print(\"All components have been filtered\")\n",
    "\n",
    "\n",
    "v = np.asarray(mesh_clean.vertices)\n",
    "f = np.asarray(mesh_clean.faces)\n",
    "n = np.asarray(mesh_clean.vertex_normals)\n",
    "\n",
    "p = mp.plot(v, f)\n",
    "\n",
    "mesh_surface = mesh_clean\n"
   ]
  },
  {
   "cell_type": "markdown",
   "id": "8b8440d0-da98-47ee-86ec-a880ae56b727",
   "metadata": {},
   "source": [
    "# Surface Smoothing"
   ]
  },
  {
   "cell_type": "code",
   "execution_count": 30,
   "id": "8658dccb-0d37-4d63-956b-4467dbb1e155",
   "metadata": {},
   "outputs": [],
   "source": [
    "# 将 trimesh 转换为 open3d mesh\n",
    "mesh_o3d = o3d.geometry.TriangleMesh(\n",
    "    vertices=o3d.utility.Vector3dVector(mesh_surface.vertices),\n",
    "    triangles=o3d.utility.Vector3iVector(mesh_surface.faces)\n",
    ")\n",
    "\n",
    "# 可选：计算法线（用于可视化）\n",
    "mesh_o3d.compute_vertex_normals()\n",
    "\n",
    "# 执行 Laplacian 平滑\n",
    "smoothed = mesh_o3d.filter_smooth_laplacian(number_of_iterations=10)\n",
    "\n",
    "# 可选：重新计算法线\n",
    "smoothed.compute_vertex_normals()\n",
    "\n",
    "# 如果你需要导出为 trimesh 继续处理：\n",
    "smoothed_trimesh = trimesh.Trimesh(\n",
    "    vertices=np.asarray(smoothed.vertices),\n",
    "    faces=np.asarray(smoothed.triangles)\n",
    ")\n",
    "\n",
    "# ms = pymeshlab.MeshSet()\n",
    "# ms.add_mesh(pymeshlab.Mesh(mesh_surface.vertices, mesh_surface.faces))\n",
    "\n",
    "\n",
    "# ms.apply_coord_taubin_smoothing(stepsmoothnum=10, lambda_=0.5, mu=-0.53)\n",
    "\n",
    "\n",
    "# smoothed_mesh = ms.current_mesh()\n",
    "# smoothed_trimesh = trimesh.Trimesh(\n",
    "#     vertices=smoothed_mesh.vertex_matrix(),\n",
    "#     faces=smoothed_mesh.face_matrix()\n",
    "# )"
   ]
  },
  {
   "cell_type": "code",
   "execution_count": 31,
   "id": "6ef712c4-e106-476e-a83f-8fc4c5cd4b77",
   "metadata": {},
   "outputs": [
    {
     "data": {
      "application/vnd.jupyter.widget-view+json": {
       "model_id": "dda4b4e472ab4345bdc53a0e6ac99e50",
       "version_major": 2,
       "version_minor": 0
      },
      "text/plain": [
       "Renderer(camera=PerspectiveCamera(children=(DirectionalLight(color='white', intensity=0.6, position=(0.4819565…"
      ]
     },
     "metadata": {},
     "output_type": "display_data"
    },
    {
     "data": {
      "text/plain": [
       "<meshplot.Viewer.Viewer at 0x7cc784d3dac0>"
      ]
     },
     "execution_count": 31,
     "metadata": {},
     "output_type": "execute_result"
    }
   ],
   "source": [
    "v = np.asarray(smoothed.vertices)\n",
    "f = np.asarray(smoothed.triangles)\n",
    "# v = np.asarray(smoothed_mesh.vertex_matrix())\n",
    "# f = np.asarray(smoothed_mesh.face_matrix())\n",
    "\n",
    "mp.plot(v, f, shading={\"wireframe\": False})\n"
   ]
  },
  {
   "cell_type": "code",
   "execution_count": 33,
   "id": "2c1a3e64-4cf8-41b9-a74f-181326ba704d",
   "metadata": {},
   "outputs": [
    {
     "name": "stdout",
     "output_type": "stream",
     "text": [
      "saved\n"
     ]
    }
   ],
   "source": [
    "smoothed_trimesh.update_faces(smoothed_trimesh.nondegenerate_faces())\n",
    "smoothed_trimesh.export(save_path, file_type='obj')\n",
    "print(\"saved\")"
   ]
  },
  {
   "cell_type": "code",
   "execution_count": null,
   "id": "5ee80a22-5d45-4009-bd5a-89bf52eff541",
   "metadata": {},
   "outputs": [],
   "source": []
  },
  {
   "cell_type": "code",
   "execution_count": null,
   "id": "a88b3eb3-face-4de5-a77d-3b3283d87530",
   "metadata": {},
   "outputs": [],
   "source": []
  },
  {
   "cell_type": "code",
   "execution_count": null,
   "id": "de55582e-f988-412a-8860-78e928c95da4",
   "metadata": {},
   "outputs": [],
   "source": []
  },
  {
   "cell_type": "code",
   "execution_count": null,
   "id": "da83f7e8-ad95-421c-9a7a-b7f554f7f984",
   "metadata": {},
   "outputs": [],
   "source": []
  },
  {
   "cell_type": "code",
   "execution_count": null,
   "id": "ae4d8ad0-7844-4955-9e61-c38658d66516",
   "metadata": {},
   "outputs": [],
   "source": []
  },
  {
   "cell_type": "code",
   "execution_count": null,
   "id": "92916869-dcae-4f46-ad98-a0053d38f95d",
   "metadata": {},
   "outputs": [],
   "source": []
  }
 ],
 "metadata": {
  "kernelspec": {
   "display_name": "mpmpytorch",
   "language": "python",
   "name": "mpmpytorch"
  },
  "language_info": {
   "codemirror_mode": {
    "name": "ipython",
    "version": 3
   },
   "file_extension": ".py",
   "mimetype": "text/x-python",
   "name": "python",
   "nbconvert_exporter": "python",
   "pygments_lexer": "ipython3",
   "version": "3.9.23"
  }
 },
 "nbformat": 4,
 "nbformat_minor": 5
}
