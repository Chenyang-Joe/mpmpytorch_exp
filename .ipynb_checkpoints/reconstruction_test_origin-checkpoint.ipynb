{
 "cells": [
  {
   "cell_type": "markdown",
   "id": "c0cc8ae0-8fe2-43a6-a8bb-c079bcfe1902",
   "metadata": {},
   "source": [
    "If surface point cloud:\n",
    "1. surface point cloud -> SDF\n",
    "2. SDF -> marching cube\n",
    "\n",
    "If volume point cloud\n",
    "1. volume point cloud -> voxel\n",
    "2. voxel -> SDF\n",
    "3. SDF -> marching cube surface mesh\n",
    "\n",
    "Our task\n",
    "Given surface mesh\n",
    "1. surface mesh -> volume point cloud\n",
    "2. volume point cloud -> MPM deformed volume point cloud\n",
    "3. MPM deforemd volume point cloud -> voxel\n",
    "4. voxel -> SDF\n",
    "5. SDF -> marching cube surface mesh\n",
    "\n",
    "\n",
    "For now, test:\n",
    "1. input surface mesh\n",
    "2. surface mesh -> volume point cloud\n",
    "3. volume point cloud -> voxel\n",
    "4. voxel -> SDF\n",
    "5. SDF -> marching cube surface mesh"
   ]
  },
  {
   "cell_type": "code",
   "execution_count": 1,
   "id": "e0379606-a004-45a9-8d99-ab0eb58f0458",
   "metadata": {},
   "outputs": [
    {
     "name": "stdout",
     "output_type": "stream",
     "text": [
      "hello\n"
     ]
    }
   ],
   "source": [
    "print(\"hello\")"
   ]
  },
  {
   "cell_type": "markdown",
   "id": "80f48d62-2bbf-4593-997d-ae8168fafaea",
   "metadata": {},
   "source": [
    "# libs, functions"
   ]
  },
  {
   "cell_type": "code",
   "execution_count": 2,
   "id": "0bfa3be9-47ab-4beb-935a-cea11aa27f45",
   "metadata": {},
   "outputs": [
    {
     "name": "stdout",
     "output_type": "stream",
     "text": [
      "Jupyter environment detected. Enabling Open3D WebVisualizer.\n",
      "[Open3D INFO] WebRTC GUI backend enabled.\n",
      "[Open3D INFO] WebRTCWindowSystem: HTTP handshake server disabled.\n"
     ]
    }
   ],
   "source": [
    "import numpy as np\n",
    "# import igl\n",
    "import open3d as o3d\n",
    "import trimesh\n",
    "import meshplot as mp\n",
    "from skimage import measure\n",
    "from scipy import ndimage\n",
    "import pymeshlab\n",
    "import mcubes\n",
    "from trimesh.ray.ray_pyembree import RayMeshIntersector\n",
    "from scipy.ndimage import gaussian_filter\n",
    "\n",
    "\n",
    "# install dependency here"
   ]
  },
  {
   "cell_type": "markdown",
   "id": "63a2e31d-c9ab-410d-a7cc-d416dfd02d37",
   "metadata": {},
   "source": [
    "# read model"
   ]
  },
  {
   "cell_type": "code",
   "execution_count": 3,
   "id": "6cc01428-392b-45dc-b21e-0dfee7c6cad3",
   "metadata": {},
   "outputs": [
    {
     "data": {
      "application/vnd.jupyter.widget-view+json": {
       "model_id": "19744b62c5804775ac968c3fc930c465",
       "version_major": 2,
       "version_minor": 0
      },
      "text/plain": [
       "Renderer(camera=PerspectiveCamera(children=(DirectionalLight(color='white', intensity=0.6, position=(0.3083269…"
      ]
     },
     "metadata": {},
     "output_type": "display_data"
    },
    {
     "data": {
      "text/plain": [
       "<meshplot.Viewer.Viewer at 0x7f4c9aaa78b0>"
      ]
     },
     "execution_count": 3,
     "metadata": {},
     "output_type": "execute_result"
    }
   ],
   "source": [
    "model_path = \"models/cranium_example_ds.obj\"\n",
    "\n",
    "mesh = trimesh.load(model_path)\n",
    "\n",
    "v = np.asarray(mesh.vertices)\n",
    "f = np.asarray(mesh.faces)\n",
    "n = np.asarray(mesh.vertex_normals)\n",
    "\n",
    "# mesh = o3d.io.read_triangle_mesh(model_path)\n",
    "# mesh.compute_vertex_normals()\n",
    "\n",
    "# v = np.asarray(mesh.vertices)\n",
    "# f = np.asarray(mesh.triangles)\n",
    "# n = np.asarray(mesh.vertex_normals)\n",
    "\n",
    "v -= v.min(axis=0)\n",
    "v /= v.max()\n",
    "mesh.vertices = v\n",
    "\n",
    "# mesh.vertices = o3d.utility.Vector3dVector(v)\n",
    "# v = np.asarray(mesh.vertices)\n",
    "\n",
    "# Step 3: Visualize using meshplot\n",
    "mp.plot(v, f, shading={\"wireframe\": False})\n"
   ]
  },
  {
   "cell_type": "code",
   "execution_count": 4,
   "id": "1f098efc-91ec-4860-a210-d59e9bf49489",
   "metadata": {},
   "outputs": [
    {
     "name": "stdout",
     "output_type": "stream",
     "text": [
      "连通组件数量: 24624\n",
      "Keep 24624 component, output new mesh.\n"
     ]
    },
    {
     "data": {
      "application/vnd.jupyter.widget-view+json": {
       "model_id": "171b52c36873472cbba4a2de1e6622c8",
       "version_major": 2,
       "version_minor": 0
      },
      "text/plain": [
       "Renderer(camera=PerspectiveCamera(children=(DirectionalLight(color='white', intensity=0.6, position=(0.3083269…"
      ]
     },
     "metadata": {},
     "output_type": "display_data"
    }
   ],
   "source": [
    "components = mesh.split(only_watertight=False)\n",
    "\n",
    "# 统计数量\n",
    "print(f\"连通组件数量: {len(components)}\")\n",
    "\n",
    "min_faces = 0\n",
    "# largest = max(components, key=lambda m: len(m.faces))\n",
    "\n",
    "filtered = [comp for comp in components if len(comp.faces) >= min_faces]\n",
    "\n",
    "if len(filtered) > 0:\n",
    "    mesh_clean = trimesh.util.concatenate(filtered)\n",
    "    mesh_clean.export('cleaned_mesh.obj')\n",
    "    print(f\"Keep {len(filtered)} component, output new mesh.\")\n",
    "else:\n",
    "    print(\"All components have been filtered\")\n",
    "\n",
    "v = np.asarray(mesh_clean.vertices)\n",
    "f = np.asarray(mesh_clean.faces)\n",
    "n = np.asarray(mesh_clean.vertex_normals)\n",
    "\n",
    "mesh = mesh_clean\n",
    "\n",
    "p = mp.plot(v, f)\n"
   ]
  },
  {
   "cell_type": "code",
   "execution_count": 5,
   "id": "5eda969d-460e-4446-8ef4-fd6ba2fd832e",
   "metadata": {},
   "outputs": [
    {
     "data": {
      "application/vnd.jupyter.widget-view+json": {
       "model_id": "9759f2e5e3774a58ade705cb8a73f378",
       "version_major": 2,
       "version_minor": 0
      },
      "text/plain": [
       "Renderer(camera=PerspectiveCamera(children=(DirectionalLight(color='white', intensity=0.6, position=(0.3083269…"
      ]
     },
     "metadata": {},
     "output_type": "display_data"
    }
   ],
   "source": [
    "p = mp.plot(v, shading={\"point_size\": 0.1})"
   ]
  },
  {
   "cell_type": "code",
   "execution_count": 6,
   "id": "9e7c4e13-822b-4900-8ffc-b993369a265c",
   "metadata": {},
   "outputs": [
    {
     "data": {
      "application/vnd.jupyter.widget-view+json": {
       "model_id": "5dd501fafbec43b1bd58f872657ded83",
       "version_major": 2,
       "version_minor": 0
      },
      "text/plain": [
       "Renderer(camera=PerspectiveCamera(children=(DirectionalLight(color='white', intensity=0.6, position=(0.3083269…"
      ]
     },
     "metadata": {},
     "output_type": "display_data"
    },
    {
     "data": {
      "text/plain": [
       "2"
      ]
     },
     "execution_count": 6,
     "metadata": {},
     "output_type": "execute_result"
    }
   ],
   "source": [
    "eps = 0.01\n",
    "v_pos = v + eps*n\n",
    "v_neg = v - eps*n\n",
    "p = mp.plot(v, shading={\"point_size\": 0.05})\n",
    "p.add_points(v_pos, shading={\"point_size\": 0.05, \"point_color\": \"green\"})\n",
    "p.add_points(v_neg, shading={\"point_size\": 0.05, \"point_color\": \"blue\"})\n"
   ]
  },
  {
   "cell_type": "code",
   "execution_count": null,
   "id": "5d37f298-59c7-4dee-b1ab-20f139523a94",
   "metadata": {},
   "outputs": [],
   "source": []
  },
  {
   "cell_type": "markdown",
   "id": "d63b25e4-42d7-4b41-8ddd-d3db917d50e7",
   "metadata": {},
   "source": [
    "# Change Model to Dense Point Cloud"
   ]
  },
  {
   "cell_type": "code",
   "execution_count": 7,
   "id": "4010ff1f-25ed-4ea0-b506-5e788763476a",
   "metadata": {},
   "outputs": [],
   "source": [
    "grid_res = 300"
   ]
  },
  {
   "cell_type": "code",
   "execution_count": 8,
   "id": "ca325295-b23d-4f5a-9edc-b6538eacd452",
   "metadata": {},
   "outputs": [],
   "source": [
    "# from surface mesh to MPM point cloud\n",
    "# x = np.linspace(0, 1, grid_res)\n",
    "# y = np.linspace(0, 1, grid_res)\n",
    "# z = np.linspace(0, 1, grid_res)\n",
    "# X, Y, Z = np.meshgrid(x, y, z, indexing='ij')\n",
    "# grid_points = np.vstack([X.ravel(), Y.ravel(), Z.ravel()]).T\n",
    "\n",
    "# mesh.ray = RayMeshIntersector(mesh)\n",
    "\n",
    "# print(type(mesh.ray))\n",
    "\n",
    "# inside = mesh.contains(grid_points)\n",
    "# points_inside = grid_points[inside]\n",
    "# print(f\"内部点云数量: {len(points_inside)}\")\n",
    "# print(inside.shape)"
   ]
  },
  {
   "cell_type": "code",
   "execution_count": 9,
   "id": "9a0e46e1-14d7-4ad4-91e5-d0672001875f",
   "metadata": {},
   "outputs": [],
   "source": [
    "# pc = trimesh.points.PointCloud(points_inside)\n",
    "# pc.export(f'models/cranium_example_ds_{grid_res}.obj')\n",
    "# print(\"saved\")"
   ]
  },
  {
   "cell_type": "code",
   "execution_count": 10,
   "id": "17c3d1a1-ce2c-40b3-95d6-1d5eacecbfd8",
   "metadata": {},
   "outputs": [
    {
     "ename": "AttributeError",
     "evalue": "'str' object has no attribute 'read'",
     "output_type": "error",
     "traceback": [
      "\u001b[0;31m---------------------------------------------------------------------------\u001b[0m",
      "\u001b[0;31mAttributeError\u001b[0m                            Traceback (most recent call last)",
      "Cell \u001b[0;32mIn[10], line 2\u001b[0m\n\u001b[1;32m      1\u001b[0m \u001b[38;5;66;03m# # Load saved MPM point cloud\u001b[39;00m\n\u001b[0;32m----> 2\u001b[0m mesh \u001b[38;5;241m=\u001b[39m \u001b[43mtrimesh\u001b[49m\u001b[38;5;241;43m.\u001b[39;49m\u001b[43mload\u001b[49m\u001b[43m(\u001b[49m\u001b[38;5;124;43mf\u001b[39;49m\u001b[38;5;124;43m'\u001b[39;49m\u001b[38;5;124;43mmodels/cranium_example_ds_\u001b[39;49m\u001b[38;5;132;43;01m{\u001b[39;49;00m\u001b[43mgrid_res\u001b[49m\u001b[38;5;132;43;01m}\u001b[39;49;00m\u001b[38;5;124;43m_test_deformed.obj\u001b[39;49m\u001b[38;5;124;43m'\u001b[39;49m\u001b[43m,\u001b[49m\u001b[43m \u001b[49m\u001b[43mfile_type\u001b[49m\u001b[38;5;241;43m=\u001b[39;49m\u001b[38;5;124;43m'\u001b[39;49m\u001b[38;5;124;43mobj\u001b[39;49m\u001b[38;5;124;43m'\u001b[39;49m\u001b[43m)\u001b[49m\n\u001b[1;32m      3\u001b[0m points_inside \u001b[38;5;241m=\u001b[39m np\u001b[38;5;241m.\u001b[39masarray(mesh\u001b[38;5;241m.\u001b[39mvertices)\n\u001b[1;32m      5\u001b[0m indices \u001b[38;5;241m=\u001b[39m (points_inside \u001b[38;5;241m*\u001b[39m grid_res)\u001b[38;5;241m.\u001b[39mastype(\u001b[38;5;28mint\u001b[39m)\n",
      "File \u001b[0;32m~/miniconda3/envs/mpmpytorch/lib/python3.9/site-packages/trimesh/exchange/load.py:132\u001b[0m, in \u001b[0;36mload\u001b[0;34m(file_obj, file_type, resolver, force, **kwargs)\u001b[0m\n\u001b[1;32m    127\u001b[0m     loaded \u001b[38;5;241m=\u001b[39m load_path(file_obj,\n\u001b[1;32m    128\u001b[0m                        file_type\u001b[38;5;241m=\u001b[39mfile_type,\n\u001b[1;32m    129\u001b[0m                        \u001b[38;5;241m*\u001b[39m\u001b[38;5;241m*\u001b[39mkwargs)\n\u001b[1;32m    130\u001b[0m \u001b[38;5;28;01melif\u001b[39;00m file_type \u001b[38;5;129;01min\u001b[39;00m mesh_loaders:\n\u001b[1;32m    131\u001b[0m     \u001b[38;5;66;03m# mesh loaders use mesh loader\u001b[39;00m\n\u001b[0;32m--> 132\u001b[0m     loaded \u001b[38;5;241m=\u001b[39m \u001b[43mload_mesh\u001b[49m\u001b[43m(\u001b[49m\u001b[43mfile_obj\u001b[49m\u001b[43m,\u001b[49m\n\u001b[1;32m    133\u001b[0m \u001b[43m                       \u001b[49m\u001b[43mfile_type\u001b[49m\u001b[38;5;241;43m=\u001b[39;49m\u001b[43mfile_type\u001b[49m\u001b[43m,\u001b[49m\n\u001b[1;32m    134\u001b[0m \u001b[43m                       \u001b[49m\u001b[43mresolver\u001b[49m\u001b[38;5;241;43m=\u001b[39;49m\u001b[43mresolver\u001b[49m\u001b[43m,\u001b[49m\n\u001b[1;32m    135\u001b[0m \u001b[43m                       \u001b[49m\u001b[38;5;241;43m*\u001b[39;49m\u001b[38;5;241;43m*\u001b[39;49m\u001b[43mkwargs\u001b[49m\u001b[43m)\u001b[49m\n\u001b[1;32m    136\u001b[0m \u001b[38;5;28;01melif\u001b[39;00m file_type \u001b[38;5;129;01min\u001b[39;00m compressed_loaders:\n\u001b[1;32m    137\u001b[0m     \u001b[38;5;66;03m# for archives, like ZIP files\u001b[39;00m\n\u001b[1;32m    138\u001b[0m     loaded \u001b[38;5;241m=\u001b[39m load_compressed(file_obj,\n\u001b[1;32m    139\u001b[0m                              file_type\u001b[38;5;241m=\u001b[39mfile_type,\n\u001b[1;32m    140\u001b[0m                              \u001b[38;5;241m*\u001b[39m\u001b[38;5;241m*\u001b[39mkwargs)\n",
      "File \u001b[0;32m~/miniconda3/envs/mpmpytorch/lib/python3.9/site-packages/trimesh/exchange/load.py:215\u001b[0m, in \u001b[0;36mload_mesh\u001b[0;34m(file_obj, file_type, resolver, **kwargs)\u001b[0m\n\u001b[1;32m    213\u001b[0m loader \u001b[38;5;241m=\u001b[39m mesh_loaders[file_type]\n\u001b[1;32m    214\u001b[0m tic \u001b[38;5;241m=\u001b[39m now()\n\u001b[0;32m--> 215\u001b[0m results \u001b[38;5;241m=\u001b[39m \u001b[43mloader\u001b[49m\u001b[43m(\u001b[49m\u001b[43mfile_obj\u001b[49m\u001b[43m,\u001b[49m\n\u001b[1;32m    216\u001b[0m \u001b[43m                 \u001b[49m\u001b[43mfile_type\u001b[49m\u001b[38;5;241;43m=\u001b[39;49m\u001b[43mfile_type\u001b[49m\u001b[43m,\u001b[49m\n\u001b[1;32m    217\u001b[0m \u001b[43m                 \u001b[49m\u001b[43mresolver\u001b[49m\u001b[38;5;241;43m=\u001b[39;49m\u001b[43mresolver\u001b[49m\u001b[43m,\u001b[49m\n\u001b[1;32m    218\u001b[0m \u001b[43m                 \u001b[49m\u001b[38;5;241;43m*\u001b[39;49m\u001b[38;5;241;43m*\u001b[39;49m\u001b[43mkwargs\u001b[49m\u001b[43m)\u001b[49m\n\u001b[1;32m    219\u001b[0m \u001b[38;5;28;01mif\u001b[39;00m \u001b[38;5;129;01mnot\u001b[39;00m \u001b[38;5;28misinstance\u001b[39m(results, \u001b[38;5;28mlist\u001b[39m):\n\u001b[1;32m    220\u001b[0m     results \u001b[38;5;241m=\u001b[39m [results]\n",
      "File \u001b[0;32m~/miniconda3/envs/mpmpytorch/lib/python3.9/site-packages/trimesh/exchange/obj.py:57\u001b[0m, in \u001b[0;36mload_obj\u001b[0;34m(file_obj, resolver, group_material, skip_materials, maintain_order, **kwargs)\u001b[0m\n\u001b[1;32m     30\u001b[0m \u001b[38;5;250m\u001b[39m\u001b[38;5;124;03m\"\"\"\u001b[39;00m\n\u001b[1;32m     31\u001b[0m \u001b[38;5;124;03mLoad a Wavefront OBJ file into kwargs for a trimesh.Scene\u001b[39;00m\n\u001b[1;32m     32\u001b[0m \u001b[38;5;124;03mobject.\u001b[39;00m\n\u001b[0;32m   (...)\u001b[0m\n\u001b[1;32m     54\u001b[0m \u001b[38;5;124;03m  trimesh.exchange.load.load_kwargs into a trimesh.Scene\u001b[39;00m\n\u001b[1;32m     55\u001b[0m \u001b[38;5;124;03m\"\"\"\u001b[39;00m\n\u001b[1;32m     56\u001b[0m \u001b[38;5;66;03m# get text as bytes or string blob\u001b[39;00m\n\u001b[0;32m---> 57\u001b[0m text \u001b[38;5;241m=\u001b[39m \u001b[43mfile_obj\u001b[49m\u001b[38;5;241;43m.\u001b[39;49m\u001b[43mread\u001b[49m()\n\u001b[1;32m     58\u001b[0m \u001b[38;5;66;03m# if text was bytes decode into string\u001b[39;00m\n\u001b[1;32m     59\u001b[0m text \u001b[38;5;241m=\u001b[39m util\u001b[38;5;241m.\u001b[39mdecode_text(text)\n",
      "\u001b[0;31mAttributeError\u001b[0m: 'str' object has no attribute 'read'"
     ]
    }
   ],
   "source": [
    "# # Load saved MPM point cloud\n",
    "mesh = trimesh.load(f'models/cranium_example_ds_{grid_res}_test_deformed.obj', file_type='obj')\n",
    "points_inside = np.asarray(mesh.vertices)\n",
    "\n",
    "indices = (points_inside * grid_res).astype(int)\n",
    "indices = np.clip(indices, 0, grid_res - 1)  # make sure indices are valid\n",
    "\n",
    "# Create occupancy grid\n",
    "inside = np.zeros((grid_res, grid_res, grid_res), dtype=bool)\n",
    "for i, j, k in indices:\n",
    "    inside[i, j, k] = True\n",
    "\n",
    "inside = inside.ravel(order='C')"
   ]
  },
  {
   "cell_type": "code",
   "execution_count": null,
   "id": "3d87dc7e-eb11-43ea-8f0b-3a25fc6d9d6a",
   "metadata": {},
   "outputs": [],
   "source": [
    "p = mp.plot(points_inside, shading={\"point_size\": 0.03})"
   ]
  },
  {
   "cell_type": "code",
   "execution_count": null,
   "id": "c4df55cf-63fa-4f0f-9682-759c8dc9565e",
   "metadata": {
    "scrolled": true
   },
   "outputs": [],
   "source": []
  },
  {
   "cell_type": "code",
   "execution_count": null,
   "id": "741ce24d-f33a-4795-9415-581f0fcfc034",
   "metadata": {},
   "outputs": [],
   "source": []
  },
  {
   "cell_type": "code",
   "execution_count": null,
   "id": "72e50380-3583-46a1-a33f-fa8828937ba4",
   "metadata": {},
   "outputs": [],
   "source": []
  },
  {
   "cell_type": "code",
   "execution_count": null,
   "id": "48f1109a-9cec-441a-8a5e-2d54c0ee599b",
   "metadata": {},
   "outputs": [],
   "source": []
  },
  {
   "cell_type": "code",
   "execution_count": null,
   "id": "b69ed23f-a5b7-49f5-8ad0-7163aca2c6e6",
   "metadata": {},
   "outputs": [],
   "source": [
    "# mesh = trimesh.load('models/bone_filled_50.obj', file_type='obj')\n"
   ]
  },
  {
   "cell_type": "markdown",
   "id": "eb3a3972-1e01-4f54-82bb-0f9918ae59a7",
   "metadata": {},
   "source": [
    "# Voxel to SDF"
   ]
  },
  {
   "cell_type": "code",
   "execution_count": null,
   "id": "0c601de0-d3b6-4a24-8780-15a9888a0e1b",
   "metadata": {},
   "outputs": [],
   "source": [
    "# volume = voxelized.matrix.astype(np.float32)  # shape: (Z, Y, X)\n",
    "\n",
    "# inside = ndimage.distance_transform_edt(volume)\n",
    "\n",
    "# # 外部：distance transform of outside (0s → 1s)\n",
    "# outside = ndimage.distance_transform_edt(1 - volume)\n",
    "\n",
    "# # SDF = outside_distance - inside_distance\n",
    "# sdf = outside - inside\n"
   ]
  },
  {
   "cell_type": "code",
   "execution_count": null,
   "id": "7a0bc2a1-78a3-48c6-b4ee-11994c72c4ff",
   "metadata": {},
   "outputs": [],
   "source": [
    "\n",
    "# sdf = trimesh.proximity.signed_distance(mesh, grid_points)  # 输出 shape=(N,)\n",
    "# sdf_volume = sdf.reshape(grid_res, grid_res, grid_res)"
   ]
  },
  {
   "cell_type": "code",
   "execution_count": null,
   "id": "9225d4f7-10f4-491f-99a9-8985aa729f02",
   "metadata": {},
   "outputs": [],
   "source": [
    "# continuous\n",
    "inside_volume = inside.reshape((grid_res, grid_res, grid_res))  # shape: (Z, Y, X)\n",
    "\n",
    "outside_mask = ~inside_volume  # 0=inside, 1=outside\n",
    "\n",
    "dist_out = ndimage.distance_transform_edt(outside_mask)\n",
    "\n",
    "dist_in = ndimage.distance_transform_edt(inside_volume)\n",
    "\n",
    "sdf_volume = dist_out - dist_in  # outside: positive, inside: negative\n",
    "\n",
    "sdf_smoothed = gaussian_filter(sdf_volume, sigma=1.0)\n",
    "\n",
    "sdf_volume = sdf_smoothed\n"
   ]
  },
  {
   "cell_type": "code",
   "execution_count": null,
   "id": "50b37989-2718-4830-9636-3ba613161816",
   "metadata": {},
   "outputs": [],
   "source": [
    "# -1 to 1, discrete\n",
    "# inside_volume = inside.reshape((grid_res, grid_res, grid_res))  # bool array\n",
    "\n",
    "# sdf_discrete = np.ones_like(inside_volume, dtype=np.int8)  # initialize to +1 (outside)\n",
    "# sdf_discrete[inside_volume] = -1  # set inside to -1\n",
    "\n",
    "# # surface_mask =ndimage.binary_dilation(inside_volume) & ~inside_volume\n",
    "# # sdf_discrete[surface_mask] = 0\n",
    "\n",
    "# sdf_volume = sdf_discrete"
   ]
  },
  {
   "cell_type": "code",
   "execution_count": null,
   "id": "65883ad0-7919-487d-8750-58823ac66848",
   "metadata": {},
   "outputs": [],
   "source": []
  },
  {
   "cell_type": "markdown",
   "id": "b54f9111-7c3b-42fd-bc6b-24acd3c38bfc",
   "metadata": {},
   "source": [
    "# SDF to Surface Mesh"
   ]
  },
  {
   "cell_type": "code",
   "execution_count": null,
   "id": "8f7d4123-97ec-44dd-bba0-2f1e30cc896e",
   "metadata": {},
   "outputs": [],
   "source": [
    "\n",
    "\n",
    "verts, faces, normals, values = measure.marching_cubes(sdf_volume, level=0.0)\n",
    "\n",
    "verts = verts[:, [2, 1, 0]]  # 把 zyx 转成 xyz\n",
    "\n",
    "spacing = 1.0 / (sdf_volume.shape[0] - 1)\n",
    "verts *= spacing  # 恢复真实坐标\n",
    "\n",
    "mesh_surface = trimesh.Trimesh(vertices=verts, faces=faces, vertex_normals=normals)\n"
   ]
  },
  {
   "cell_type": "code",
   "execution_count": null,
   "id": "79f40b7c-329a-4772-b01c-94ba0276647e",
   "metadata": {},
   "outputs": [],
   "source": [
    "# # verts, faces, normals, values = measure.marching_cubes(sdf, level=0.0)\n",
    "# verts, faces = mcubes.marching_cubes(sdf, 0.0)\n",
    "\n",
    "# # 将坐标顺序从 ZYX → XYZ\n",
    "# verts_voxel = verts[:, [2, 1, 0]]\n",
    "\n",
    "# # 将 voxel 坐标映射到世界坐标\n",
    "# # verts_voxel 是 N×3，每一行都是 [x, y, z]，我们加一个第四维 1\n",
    "# verts_homog = np.hstack([verts_voxel, np.ones((verts_voxel.shape[0], 1))])  # shape (N, 4)\n",
    "\n",
    "\n",
    "# # 将 voxel grid 坐标还原到世界坐标\n",
    "# verts_world = (voxelized.transform @ verts_homog.T).T[:, :3]\n",
    "\n",
    "# # mesh_surface = trimesh.Trimesh(vertices=verts_world, faces=faces, vertex_normals=normals)\n",
    "# mesh_surface = trimesh.Trimesh(vertices=verts_world, faces=faces)\n",
    "\n",
    "\n",
    "# mesh_surface.export('models/bunny_holes.obj')\n",
    "\n",
    "# print(\"ok\")\n",
    "# # mesh_surface.fill_holes()\n",
    "# # print(\"Is watertight:\", mesh.is_watertight)\n",
    "\n"
   ]
  },
  {
   "cell_type": "code",
   "execution_count": null,
   "id": "570b313d-04b4-4f0f-a4bd-66dacb6a7526",
   "metadata": {},
   "outputs": [],
   "source": [
    "\n",
    "v = np.asarray(mesh_surface.vertices)\n",
    "f = np.asarray(mesh_surface.faces)\n",
    "n = np.asarray(mesh_surface.vertex_normals)\n",
    "\n",
    "mp.plot(v, f, shading={\"wireframe\": False})\n"
   ]
  },
  {
   "cell_type": "markdown",
   "id": "a931f555-f42f-420f-b89f-3e0fa2760178",
   "metadata": {},
   "source": [
    "# Clean again"
   ]
  },
  {
   "cell_type": "code",
   "execution_count": null,
   "id": "9e8dc061-ff6d-468c-ac15-793a47465485",
   "metadata": {},
   "outputs": [],
   "source": [
    "components = mesh_surface.split(only_watertight=False)\n",
    "\n",
    "# 统计数量\n",
    "print(f\"连通组件数量: {len(components)}\")\n",
    "\n",
    "largest = max(components, key=lambda m: len(m.faces))\n",
    "mesh_clean = largest\n",
    "\n",
    "# min_faces = 100000\n",
    "# filtered = [comp for comp in components if len(comp.faces) >= min_faces]\n",
    "\n",
    "# if len(filtered) > 0:\n",
    "#     mesh_clean = trimesh.util.concatenate(filtered)\n",
    "#     mesh_clean.export('cleaned_mesh.obj')\n",
    "#     print(f\"Keep {len(filtered)} component, output new mesh.\")\n",
    "# else:\n",
    "#     print(\"All components have been filtered\")\n",
    "\n",
    "\n",
    "v = np.asarray(mesh_clean.vertices)\n",
    "f = np.asarray(mesh_clean.faces)\n",
    "n = np.asarray(mesh_clean.vertex_normals)\n",
    "\n",
    "p = mp.plot(v, f)\n",
    "\n",
    "mesh_surface = mesh_clean\n"
   ]
  },
  {
   "cell_type": "markdown",
   "id": "9f8b42e0-f778-4f3e-8084-4f5d0187dc70",
   "metadata": {},
   "source": [
    "# Fill holes"
   ]
  },
  {
   "cell_type": "code",
   "execution_count": null,
   "id": "6655b1b8-65b0-48c2-8d9e-9306f11ee0ab",
   "metadata": {},
   "outputs": [],
   "source": [
    "# print(f\"Is watertight? {mesh_surface.is_watertight}\")\n"
   ]
  },
  {
   "cell_type": "code",
   "execution_count": null,
   "id": "2411d364-8958-4959-93c5-ad41612e27c6",
   "metadata": {},
   "outputs": [],
   "source": [
    "# ms = pymeshlab.MeshSet()\n",
    "# ms.add_mesh(pymeshlab.Mesh(mesh_surface.vertices, mesh_surface.faces))\n",
    "\n",
    "# ms.meshing_remove_duplicate_vertices()\n",
    "# ms.meshing_remove_duplicate_faces()\n",
    "# # ms.remove_degenerate_faces()\n",
    "# ms.meshing_repair_non_manifold_edges()\n",
    "\n",
    "\n",
    "# # 使用 hole filling filter\n",
    "# # ms.meshing_close_holes(maxholesize=100, refinehole=True)  \n",
    "\n",
    "\n",
    "# # 导出为 trimesh\n",
    "# filled = ms.current_mesh()\n",
    "# mesh_filled = trimesh.Trimesh(\n",
    "#     vertices=filled.vertex_matrix(),\n",
    "#     faces=filled.face_matrix()\n",
    "# )"
   ]
  },
  {
   "cell_type": "code",
   "execution_count": null,
   "id": "8c886251-fd0e-452d-a234-2715aacc02eb",
   "metadata": {},
   "outputs": [],
   "source": [
    "\n",
    "# v = np.asarray(filled.vertex_matrix())\n",
    "# f = np.asarray(filled.face_matrix())\n",
    "\n",
    "# mp.plot(v, f, shading={\"wireframe\": False})\n"
   ]
  },
  {
   "cell_type": "code",
   "execution_count": null,
   "id": "3927991e-bcc4-4c42-8f1f-54873b5183ca",
   "metadata": {},
   "outputs": [],
   "source": [
    "# mesh_o3d = o3d.geometry.TriangleMesh()\n",
    "# mesh_o3d.vertices = o3d.utility.Vector3dVector(mesh_filled.vertices)\n",
    "# mesh_o3d.triangles = o3d.utility.Vector3iVector(mesh_filled.faces)\n",
    "# mesh_o3d.compute_vertex_normals()\n",
    "\n",
    "# # # Step 2: 从 mesh 采样点云\n",
    "# # pcd = mesh_o3d.sample_points_poisson_disk(number_of_points=10000)\n",
    "\n",
    "\n",
    "\n",
    "# pcd = o3d.geometry.PointCloud()\n",
    "# pcd.points = o3d.utility.Vector3dVector(mesh_o3d.vertices)\n",
    "# pcd.normals = o3d.utility.Vector3dVector(mesh_o3d.vertex_normals)"
   ]
  },
  {
   "cell_type": "code",
   "execution_count": null,
   "id": "4e3bcaac-9c77-4be2-9689-53c5be35fc94",
   "metadata": {},
   "outputs": [],
   "source": [
    "# mp.plot(np.asarray(pcd.points), shading={\"point_size\": 0.001})"
   ]
  },
  {
   "cell_type": "code",
   "execution_count": null,
   "id": "a9f95d43-237f-4a95-9778-0acb5df06262",
   "metadata": {},
   "outputs": [],
   "source": [
    "# recon_mesh, _ = o3d.geometry.TriangleMesh.create_from_point_cloud_poisson(\n",
    "#     pcd, depth=8\n",
    "# )"
   ]
  },
  {
   "cell_type": "code",
   "execution_count": null,
   "id": "a7279258-96f7-4f79-a74c-5dd8d10ba7d7",
   "metadata": {},
   "outputs": [],
   "source": [
    "# v = np.asarray(recon_mesh.vertices)\n",
    "# f = np.asarray(recon_mesh.triangles)\n",
    "# # n = np.asarray(recon_mesh.vertex_normals)\n",
    "\n",
    "# # v -= v.min(axis=0)\n",
    "# # v /= v.max()\n",
    "# # mesh.vertices = o3d.utility.Vector3dVector(v)\n",
    "# # v = np.asarray(mesh.vertices)\n",
    "\n",
    "# # Step 3: Visualize using meshplot\n",
    "# mp.plot(v, f, shading={\"wireframe\": False})"
   ]
  },
  {
   "cell_type": "code",
   "execution_count": null,
   "id": "3e0c1f41-09a6-4505-84c1-1e6b0143a775",
   "metadata": {},
   "outputs": [],
   "source": []
  },
  {
   "cell_type": "code",
   "execution_count": null,
   "id": "1037319e-e21d-483f-93a9-2f05080e2077",
   "metadata": {},
   "outputs": [],
   "source": []
  },
  {
   "cell_type": "code",
   "execution_count": null,
   "id": "0510b374-495f-4a71-b27b-6f6ef480dd3a",
   "metadata": {},
   "outputs": [],
   "source": []
  },
  {
   "cell_type": "code",
   "execution_count": null,
   "id": "773c708e-e2f9-428c-9199-a2c245f75066",
   "metadata": {},
   "outputs": [],
   "source": []
  },
  {
   "cell_type": "code",
   "execution_count": null,
   "id": "23767c60-5f87-4640-889d-cc6e9ef70578",
   "metadata": {},
   "outputs": [],
   "source": []
  },
  {
   "cell_type": "markdown",
   "id": "e8024183-5257-4a7c-8f23-aa9924e2bd30",
   "metadata": {},
   "source": [
    "# Surface Smoothing"
   ]
  },
  {
   "cell_type": "code",
   "execution_count": null,
   "id": "14093f1c-3af9-4872-826e-6298eed5b9b0",
   "metadata": {},
   "outputs": [],
   "source": [
    "# 将 trimesh 转换为 open3d mesh\n",
    "mesh_o3d = o3d.geometry.TriangleMesh(\n",
    "    vertices=o3d.utility.Vector3dVector(mesh_surface.vertices),\n",
    "    triangles=o3d.utility.Vector3iVector(mesh_surface.faces)\n",
    ")\n",
    "\n",
    "# 可选：计算法线（用于可视化）\n",
    "mesh_o3d.compute_vertex_normals()\n",
    "\n",
    "# 执行 Laplacian 平滑\n",
    "smoothed = mesh_o3d.filter_smooth_laplacian(number_of_iterations=10)\n",
    "\n",
    "# 可选：重新计算法线\n",
    "smoothed.compute_vertex_normals()\n",
    "\n",
    "# 如果你需要导出为 trimesh 继续处理：\n",
    "smoothed_trimesh = trimesh.Trimesh(\n",
    "    vertices=np.asarray(smoothed.vertices),\n",
    "    faces=np.asarray(smoothed.triangles)\n",
    ")\n",
    "\n",
    "# ms = pymeshlab.MeshSet()\n",
    "# ms.add_mesh(pymeshlab.Mesh(mesh_surface.vertices, mesh_surface.faces))\n",
    "\n",
    "\n",
    "# ms.apply_coord_taubin_smoothing(stepsmoothnum=10, lambda_=0.5, mu=-0.53)\n",
    "\n",
    "\n",
    "# smoothed_mesh = ms.current_mesh()\n",
    "# smoothed_trimesh = trimesh.Trimesh(\n",
    "#     vertices=smoothed_mesh.vertex_matrix(),\n",
    "#     faces=smoothed_mesh.face_matrix()\n",
    "# )"
   ]
  },
  {
   "cell_type": "code",
   "execution_count": null,
   "id": "60bb5867-cdfd-4770-a4a7-482ef225209b",
   "metadata": {},
   "outputs": [],
   "source": [
    "v = np.asarray(smoothed.vertices)\n",
    "f = np.asarray(smoothed.triangles)\n",
    "# v = np.asarray(smoothed_mesh.vertex_matrix())\n",
    "# f = np.asarray(smoothed_mesh.face_matrix())\n",
    "\n",
    "mp.plot(v, f, shading={\"wireframe\": False})\n"
   ]
  },
  {
   "cell_type": "code",
   "execution_count": null,
   "id": "f1b2d9cb-c632-4905-a3b7-b7f918c523dd",
   "metadata": {},
   "outputs": [],
   "source": []
  },
  {
   "cell_type": "code",
   "execution_count": null,
   "id": "29142054-3a42-4f4c-85fd-fff41a06ad49",
   "metadata": {},
   "outputs": [],
   "source": []
  },
  {
   "cell_type": "code",
   "execution_count": null,
   "id": "8938103b-a63a-4546-ad2a-7690265a3968",
   "metadata": {},
   "outputs": [],
   "source": []
  },
  {
   "cell_type": "code",
   "execution_count": null,
   "id": "c9bd3386-860d-4c90-9e4c-741d9341367c",
   "metadata": {},
   "outputs": [],
   "source": []
  },
  {
   "cell_type": "code",
   "execution_count": null,
   "id": "84c1a232-aaab-4924-a17a-25befb6dd21d",
   "metadata": {},
   "outputs": [],
   "source": []
  },
  {
   "cell_type": "code",
   "execution_count": null,
   "id": "78000b3a-e6e0-4644-9010-227cf0b9b780",
   "metadata": {},
   "outputs": [],
   "source": []
  }
 ],
 "metadata": {
  "kernelspec": {
   "display_name": "mpmpytorch",
   "language": "python",
   "name": "mpmpytorch"
  },
  "language_info": {
   "codemirror_mode": {
    "name": "ipython",
    "version": 3
   },
   "file_extension": ".py",
   "mimetype": "text/x-python",
   "name": "python",
   "nbconvert_exporter": "python",
   "pygments_lexer": "ipython3",
   "version": "3.9.23"
  }
 },
 "nbformat": 4,
 "nbformat_minor": 5
}
